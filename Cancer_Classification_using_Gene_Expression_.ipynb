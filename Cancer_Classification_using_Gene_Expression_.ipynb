{
  "cells": [
    {
      "cell_type": "markdown",
      "metadata": {
        "id": "FmYkF8UwR_Hk"
      },
      "source": [
        "#Project Name: Molecular Classification of Cancer by Gene Expression Monitoring\n",
        "* Author: Nguyen Thi Thu Hang\n",
        "* Dataset: Gene expression dataset (Golub et al.)\n",
        "\n"
      ]
    },
    {
      "cell_type": "markdown",
      "metadata": {
        "id": "HFBIjAbPSce4"
      },
      "source": [
        "##About [Dataset](https://https://www.kaggle.com/datasets/crawford/gene-expression?select=data_set_ALL_AML_train.csv) \n",
        "This dataset comes from a proof-of-concept study published in 1999 by Golub et al. It showed how new cases of cancer could be classified by gene expression monitoring (via DNA microarray) and thereby provided a general approach for identifying new cancer classes and assigning tumors to known classes. These data were used to classify patients with acute myeloid leukemia (AML) and acute lymphoblastic leukemia (ALL).\n",
        "\n",
        "Golub et al \"Molecular Classification of Cancer: Class Discovery and Class\n",
        "Prediction by Gene Expression Monitoring\"\n",
        "\n",
        "There are two datasets containing the initial (training, 38 samples) and independent (test, 34 samples) datasets used in the paper. These datasets contain measurements corresponding to ALL and AML samples from Bone Marrow and Peripheral Blood. Intensity values have been re-scaled such that overall intensities for each chip are equivalent.\n"
      ]
    },
    {
      "cell_type": "markdown",
      "metadata": {
        "id": "nBmO860DVohS"
      },
      "source": [
        "## Set Up"
      ]
    },
    {
      "cell_type": "code",
      "execution_count": null,
      "metadata": {
        "colab": {
          "base_uri": "https://localhost:8080/"
        },
        "id": "GndFnjBiYMyo",
        "outputId": "5e86c30f-b45c-4b90-86b8-984e100efdea"
      },
      "outputs": [
        {
          "output_type": "stream",
          "name": "stdout",
          "text": [
            "Cloning into 'Cancer-Classification-using-Gene-Expression'...\n",
            "remote: Enumerating objects: 13, done.\u001b[K\n",
            "remote: Counting objects: 100% (13/13), done.\u001b[K\n",
            "remote: Compressing objects: 100% (9/9), done.\u001b[K\n",
            "remote: Total 13 (delta 0), reused 0 (delta 0), pack-reused 0\u001b[K\n",
            "Unpacking objects: 100% (13/13), done.\n",
            "/content/Cancer-Classification-using-Gene-Expression\n"
          ]
        }
      ],
      "source": [
        "!git clone https://github.com/NT-ThuHang/Cancer-Classification-using-Gene-Expression\n",
        "%cd Cancer-Classification-using-Gene-Expression"
      ]
    },
    {
      "cell_type": "markdown",
      "metadata": {
        "id": "nNuKQm4K93Em"
      },
      "source": [
        "##Import library"
      ]
    },
    {
      "cell_type": "code",
      "execution_count": 64,
      "metadata": {
        "id": "G-fZMFRD4KOF"
      },
      "outputs": [],
      "source": [
        "import os\n",
        "import time\n",
        "import random\n",
        "import numpy as np\n",
        "import pandas as pd\n",
        "import seaborn as sns\n",
        "import matplotlib.pyplot as plt\n",
        "%matplotlib inline\n",
        "from sklearn.metrics import classification_report, confusion_matrix, roc_auc_score, precision_recall_curve, roc_curve, auc"
      ]
    },
    {
      "cell_type": "code",
      "execution_count": null,
      "metadata": {
        "id": "-qdf3Trg-iKn"
      },
      "outputs": [],
      "source": [
        "np.random.seed(42)"
      ]
    },
    {
      "cell_type": "markdown",
      "metadata": {
        "id": "Eto5hIz__JKg"
      },
      "source": [
        "##Load Dataset"
      ]
    },
    {
      "cell_type": "code",
      "execution_count": null,
      "metadata": {
        "id": "FXeD62-O-4kA"
      },
      "outputs": [],
      "source": [
        "train_df = pd.read_csv(\"./Dataset/data_set_ALL_AML_train.csv\")\n",
        "test_df = pd.read_csv(\"./Dataset/data_set_ALL_AML_independent.csv\")\n",
        "patient_number = pd.read_csv(\"./Dataset/actual.csv\")\n",
        "patient_number.columns = [\"index\",\"cancer_type\"]"
      ]
    },
    {
      "cell_type": "code",
      "execution_count": null,
      "metadata": {
        "colab": {
          "base_uri": "https://localhost:8080/",
          "height": 401
        },
        "id": "_G7U5zH8dozQ",
        "outputId": "2bfd8f6a-e891-4082-f53c-b03da1953f7c"
      },
      "outputs": [
        {
          "output_type": "stream",
          "name": "stdout",
          "text": [
            "Shape of train_df  (7129, 78)\n"
          ]
        },
        {
          "output_type": "execute_result",
          "data": {
            "text/plain": [
              "                      Gene Description Gene Accession Number    1 call    2  \\\n",
              "0  AFFX-BioB-5_at (endogenous control)        AFFX-BioB-5_at -214    A -139   \n",
              "1  AFFX-BioB-M_at (endogenous control)        AFFX-BioB-M_at -153    A  -73   \n",
              "2  AFFX-BioB-3_at (endogenous control)        AFFX-BioB-3_at  -58    A   -1   \n",
              "3  AFFX-BioC-5_at (endogenous control)        AFFX-BioC-5_at   88    A  283   \n",
              "4  AFFX-BioC-3_at (endogenous control)        AFFX-BioC-3_at -295    A -264   \n",
              "\n",
              "  call.1    3 call.2    4 call.3  ...   29 call.33   30 call.34   31 call.35  \\\n",
              "0      A  -76      A -135      A  ...   15       A -318       A  -32       A   \n",
              "1      A  -49      A -114      A  ... -114       A -192       A  -49       A   \n",
              "2      A -307      A  265      A  ...    2       A  -95       A   49       A   \n",
              "3      A  309      A   12      A  ...  193       A  312       A  230       P   \n",
              "4      A -376      A -419      A  ...  -51       A -139       A -367       A   \n",
              "\n",
              "    32 call.36   33 call.37  \n",
              "0 -124       A -135       A  \n",
              "1  -79       A -186       A  \n",
              "2  -37       A  -70       A  \n",
              "3  330       A  337       A  \n",
              "4 -188       A -407       A  \n",
              "\n",
              "[5 rows x 78 columns]"
            ],
            "text/html": [
              "\n",
              "  <div id=\"df-acfb2bc0-da25-4cad-9260-a086cb6490d1\">\n",
              "    <div class=\"colab-df-container\">\n",
              "      <div>\n",
              "<style scoped>\n",
              "    .dataframe tbody tr th:only-of-type {\n",
              "        vertical-align: middle;\n",
              "    }\n",
              "\n",
              "    .dataframe tbody tr th {\n",
              "        vertical-align: top;\n",
              "    }\n",
              "\n",
              "    .dataframe thead th {\n",
              "        text-align: right;\n",
              "    }\n",
              "</style>\n",
              "<table border=\"1\" class=\"dataframe\">\n",
              "  <thead>\n",
              "    <tr style=\"text-align: right;\">\n",
              "      <th></th>\n",
              "      <th>Gene Description</th>\n",
              "      <th>Gene Accession Number</th>\n",
              "      <th>1</th>\n",
              "      <th>call</th>\n",
              "      <th>2</th>\n",
              "      <th>call.1</th>\n",
              "      <th>3</th>\n",
              "      <th>call.2</th>\n",
              "      <th>4</th>\n",
              "      <th>call.3</th>\n",
              "      <th>...</th>\n",
              "      <th>29</th>\n",
              "      <th>call.33</th>\n",
              "      <th>30</th>\n",
              "      <th>call.34</th>\n",
              "      <th>31</th>\n",
              "      <th>call.35</th>\n",
              "      <th>32</th>\n",
              "      <th>call.36</th>\n",
              "      <th>33</th>\n",
              "      <th>call.37</th>\n",
              "    </tr>\n",
              "  </thead>\n",
              "  <tbody>\n",
              "    <tr>\n",
              "      <th>0</th>\n",
              "      <td>AFFX-BioB-5_at (endogenous control)</td>\n",
              "      <td>AFFX-BioB-5_at</td>\n",
              "      <td>-214</td>\n",
              "      <td>A</td>\n",
              "      <td>-139</td>\n",
              "      <td>A</td>\n",
              "      <td>-76</td>\n",
              "      <td>A</td>\n",
              "      <td>-135</td>\n",
              "      <td>A</td>\n",
              "      <td>...</td>\n",
              "      <td>15</td>\n",
              "      <td>A</td>\n",
              "      <td>-318</td>\n",
              "      <td>A</td>\n",
              "      <td>-32</td>\n",
              "      <td>A</td>\n",
              "      <td>-124</td>\n",
              "      <td>A</td>\n",
              "      <td>-135</td>\n",
              "      <td>A</td>\n",
              "    </tr>\n",
              "    <tr>\n",
              "      <th>1</th>\n",
              "      <td>AFFX-BioB-M_at (endogenous control)</td>\n",
              "      <td>AFFX-BioB-M_at</td>\n",
              "      <td>-153</td>\n",
              "      <td>A</td>\n",
              "      <td>-73</td>\n",
              "      <td>A</td>\n",
              "      <td>-49</td>\n",
              "      <td>A</td>\n",
              "      <td>-114</td>\n",
              "      <td>A</td>\n",
              "      <td>...</td>\n",
              "      <td>-114</td>\n",
              "      <td>A</td>\n",
              "      <td>-192</td>\n",
              "      <td>A</td>\n",
              "      <td>-49</td>\n",
              "      <td>A</td>\n",
              "      <td>-79</td>\n",
              "      <td>A</td>\n",
              "      <td>-186</td>\n",
              "      <td>A</td>\n",
              "    </tr>\n",
              "    <tr>\n",
              "      <th>2</th>\n",
              "      <td>AFFX-BioB-3_at (endogenous control)</td>\n",
              "      <td>AFFX-BioB-3_at</td>\n",
              "      <td>-58</td>\n",
              "      <td>A</td>\n",
              "      <td>-1</td>\n",
              "      <td>A</td>\n",
              "      <td>-307</td>\n",
              "      <td>A</td>\n",
              "      <td>265</td>\n",
              "      <td>A</td>\n",
              "      <td>...</td>\n",
              "      <td>2</td>\n",
              "      <td>A</td>\n",
              "      <td>-95</td>\n",
              "      <td>A</td>\n",
              "      <td>49</td>\n",
              "      <td>A</td>\n",
              "      <td>-37</td>\n",
              "      <td>A</td>\n",
              "      <td>-70</td>\n",
              "      <td>A</td>\n",
              "    </tr>\n",
              "    <tr>\n",
              "      <th>3</th>\n",
              "      <td>AFFX-BioC-5_at (endogenous control)</td>\n",
              "      <td>AFFX-BioC-5_at</td>\n",
              "      <td>88</td>\n",
              "      <td>A</td>\n",
              "      <td>283</td>\n",
              "      <td>A</td>\n",
              "      <td>309</td>\n",
              "      <td>A</td>\n",
              "      <td>12</td>\n",
              "      <td>A</td>\n",
              "      <td>...</td>\n",
              "      <td>193</td>\n",
              "      <td>A</td>\n",
              "      <td>312</td>\n",
              "      <td>A</td>\n",
              "      <td>230</td>\n",
              "      <td>P</td>\n",
              "      <td>330</td>\n",
              "      <td>A</td>\n",
              "      <td>337</td>\n",
              "      <td>A</td>\n",
              "    </tr>\n",
              "    <tr>\n",
              "      <th>4</th>\n",
              "      <td>AFFX-BioC-3_at (endogenous control)</td>\n",
              "      <td>AFFX-BioC-3_at</td>\n",
              "      <td>-295</td>\n",
              "      <td>A</td>\n",
              "      <td>-264</td>\n",
              "      <td>A</td>\n",
              "      <td>-376</td>\n",
              "      <td>A</td>\n",
              "      <td>-419</td>\n",
              "      <td>A</td>\n",
              "      <td>...</td>\n",
              "      <td>-51</td>\n",
              "      <td>A</td>\n",
              "      <td>-139</td>\n",
              "      <td>A</td>\n",
              "      <td>-367</td>\n",
              "      <td>A</td>\n",
              "      <td>-188</td>\n",
              "      <td>A</td>\n",
              "      <td>-407</td>\n",
              "      <td>A</td>\n",
              "    </tr>\n",
              "  </tbody>\n",
              "</table>\n",
              "<p>5 rows × 78 columns</p>\n",
              "</div>\n",
              "      <button class=\"colab-df-convert\" onclick=\"convertToInteractive('df-acfb2bc0-da25-4cad-9260-a086cb6490d1')\"\n",
              "              title=\"Convert this dataframe to an interactive table.\"\n",
              "              style=\"display:none;\">\n",
              "        \n",
              "  <svg xmlns=\"http://www.w3.org/2000/svg\" height=\"24px\"viewBox=\"0 0 24 24\"\n",
              "       width=\"24px\">\n",
              "    <path d=\"M0 0h24v24H0V0z\" fill=\"none\"/>\n",
              "    <path d=\"M18.56 5.44l.94 2.06.94-2.06 2.06-.94-2.06-.94-.94-2.06-.94 2.06-2.06.94zm-11 1L8.5 8.5l.94-2.06 2.06-.94-2.06-.94L8.5 2.5l-.94 2.06-2.06.94zm10 10l.94 2.06.94-2.06 2.06-.94-2.06-.94-.94-2.06-.94 2.06-2.06.94z\"/><path d=\"M17.41 7.96l-1.37-1.37c-.4-.4-.92-.59-1.43-.59-.52 0-1.04.2-1.43.59L10.3 9.45l-7.72 7.72c-.78.78-.78 2.05 0 2.83L4 21.41c.39.39.9.59 1.41.59.51 0 1.02-.2 1.41-.59l7.78-7.78 2.81-2.81c.8-.78.8-2.07 0-2.86zM5.41 20L4 18.59l7.72-7.72 1.47 1.35L5.41 20z\"/>\n",
              "  </svg>\n",
              "      </button>\n",
              "      \n",
              "  <style>\n",
              "    .colab-df-container {\n",
              "      display:flex;\n",
              "      flex-wrap:wrap;\n",
              "      gap: 12px;\n",
              "    }\n",
              "\n",
              "    .colab-df-convert {\n",
              "      background-color: #E8F0FE;\n",
              "      border: none;\n",
              "      border-radius: 50%;\n",
              "      cursor: pointer;\n",
              "      display: none;\n",
              "      fill: #1967D2;\n",
              "      height: 32px;\n",
              "      padding: 0 0 0 0;\n",
              "      width: 32px;\n",
              "    }\n",
              "\n",
              "    .colab-df-convert:hover {\n",
              "      background-color: #E2EBFA;\n",
              "      box-shadow: 0px 1px 2px rgba(60, 64, 67, 0.3), 0px 1px 3px 1px rgba(60, 64, 67, 0.15);\n",
              "      fill: #174EA6;\n",
              "    }\n",
              "\n",
              "    [theme=dark] .colab-df-convert {\n",
              "      background-color: #3B4455;\n",
              "      fill: #D2E3FC;\n",
              "    }\n",
              "\n",
              "    [theme=dark] .colab-df-convert:hover {\n",
              "      background-color: #434B5C;\n",
              "      box-shadow: 0px 1px 3px 1px rgba(0, 0, 0, 0.15);\n",
              "      filter: drop-shadow(0px 1px 2px rgba(0, 0, 0, 0.3));\n",
              "      fill: #FFFFFF;\n",
              "    }\n",
              "  </style>\n",
              "\n",
              "      <script>\n",
              "        const buttonEl =\n",
              "          document.querySelector('#df-acfb2bc0-da25-4cad-9260-a086cb6490d1 button.colab-df-convert');\n",
              "        buttonEl.style.display =\n",
              "          google.colab.kernel.accessAllowed ? 'block' : 'none';\n",
              "\n",
              "        async function convertToInteractive(key) {\n",
              "          const element = document.querySelector('#df-acfb2bc0-da25-4cad-9260-a086cb6490d1');\n",
              "          const dataTable =\n",
              "            await google.colab.kernel.invokeFunction('convertToInteractive',\n",
              "                                                     [key], {});\n",
              "          if (!dataTable) return;\n",
              "\n",
              "          const docLinkHtml = 'Like what you see? Visit the ' +\n",
              "            '<a target=\"_blank\" href=https://colab.research.google.com/notebooks/data_table.ipynb>data table notebook</a>'\n",
              "            + ' to learn more about interactive tables.';\n",
              "          element.innerHTML = '';\n",
              "          dataTable['output_type'] = 'display_data';\n",
              "          await google.colab.output.renderOutput(dataTable, element);\n",
              "          const docLink = document.createElement('div');\n",
              "          docLink.innerHTML = docLinkHtml;\n",
              "          element.appendChild(docLink);\n",
              "        }\n",
              "      </script>\n",
              "    </div>\n",
              "  </div>\n",
              "  "
            ]
          },
          "metadata": {},
          "execution_count": 6
        }
      ],
      "source": [
        "print(\"Shape of train_df \", train_df.shape)\n",
        "train_df.head()"
      ]
    },
    {
      "cell_type": "code",
      "execution_count": null,
      "metadata": {
        "colab": {
          "base_uri": "https://localhost:8080/",
          "height": 401
        },
        "id": "b1p5SnzsdsTO",
        "outputId": "3dc45706-80fe-4986-a2fd-088619615054"
      },
      "outputs": [
        {
          "output_type": "stream",
          "name": "stdout",
          "text": [
            "Shape of test_df  (7129, 70)\n"
          ]
        },
        {
          "output_type": "execute_result",
          "data": {
            "text/plain": [
              "                      Gene Description Gene Accession Number   39 call   40  \\\n",
              "0  AFFX-BioB-5_at (endogenous control)        AFFX-BioB-5_at -342    A  -87   \n",
              "1  AFFX-BioB-M_at (endogenous control)        AFFX-BioB-M_at -200    A -248   \n",
              "2  AFFX-BioB-3_at (endogenous control)        AFFX-BioB-3_at   41    A  262   \n",
              "3  AFFX-BioC-5_at (endogenous control)        AFFX-BioC-5_at  328    A  295   \n",
              "4  AFFX-BioC-3_at (endogenous control)        AFFX-BioC-3_at -224    A -226   \n",
              "\n",
              "  call.1   42 call.2   47 call.3  ...   65 call.29   66 call.30   63 call.31  \\\n",
              "0      A   22      A -243      A  ...  -62       A  -58       A -161       A   \n",
              "1      A -153      A -218      A  ... -198       A -217       A -215       A   \n",
              "2      A   17      A -163      A  ...   -5       A   63       A  -46       A   \n",
              "3      A  276      A  182      A  ...  141       A   95       A  146       A   \n",
              "4      A -211      A -289      A  ... -256       A -191       A -172       A   \n",
              "\n",
              "    64 call.32   62 call.33  \n",
              "0  -48       A -176       A  \n",
              "1 -531       A -284       A  \n",
              "2 -124       A  -81       A  \n",
              "3  431       A    9       A  \n",
              "4 -496       A -294       A  \n",
              "\n",
              "[5 rows x 70 columns]"
            ],
            "text/html": [
              "\n",
              "  <div id=\"df-499ace82-0e14-4c49-8c71-69d344cf6ae9\">\n",
              "    <div class=\"colab-df-container\">\n",
              "      <div>\n",
              "<style scoped>\n",
              "    .dataframe tbody tr th:only-of-type {\n",
              "        vertical-align: middle;\n",
              "    }\n",
              "\n",
              "    .dataframe tbody tr th {\n",
              "        vertical-align: top;\n",
              "    }\n",
              "\n",
              "    .dataframe thead th {\n",
              "        text-align: right;\n",
              "    }\n",
              "</style>\n",
              "<table border=\"1\" class=\"dataframe\">\n",
              "  <thead>\n",
              "    <tr style=\"text-align: right;\">\n",
              "      <th></th>\n",
              "      <th>Gene Description</th>\n",
              "      <th>Gene Accession Number</th>\n",
              "      <th>39</th>\n",
              "      <th>call</th>\n",
              "      <th>40</th>\n",
              "      <th>call.1</th>\n",
              "      <th>42</th>\n",
              "      <th>call.2</th>\n",
              "      <th>47</th>\n",
              "      <th>call.3</th>\n",
              "      <th>...</th>\n",
              "      <th>65</th>\n",
              "      <th>call.29</th>\n",
              "      <th>66</th>\n",
              "      <th>call.30</th>\n",
              "      <th>63</th>\n",
              "      <th>call.31</th>\n",
              "      <th>64</th>\n",
              "      <th>call.32</th>\n",
              "      <th>62</th>\n",
              "      <th>call.33</th>\n",
              "    </tr>\n",
              "  </thead>\n",
              "  <tbody>\n",
              "    <tr>\n",
              "      <th>0</th>\n",
              "      <td>AFFX-BioB-5_at (endogenous control)</td>\n",
              "      <td>AFFX-BioB-5_at</td>\n",
              "      <td>-342</td>\n",
              "      <td>A</td>\n",
              "      <td>-87</td>\n",
              "      <td>A</td>\n",
              "      <td>22</td>\n",
              "      <td>A</td>\n",
              "      <td>-243</td>\n",
              "      <td>A</td>\n",
              "      <td>...</td>\n",
              "      <td>-62</td>\n",
              "      <td>A</td>\n",
              "      <td>-58</td>\n",
              "      <td>A</td>\n",
              "      <td>-161</td>\n",
              "      <td>A</td>\n",
              "      <td>-48</td>\n",
              "      <td>A</td>\n",
              "      <td>-176</td>\n",
              "      <td>A</td>\n",
              "    </tr>\n",
              "    <tr>\n",
              "      <th>1</th>\n",
              "      <td>AFFX-BioB-M_at (endogenous control)</td>\n",
              "      <td>AFFX-BioB-M_at</td>\n",
              "      <td>-200</td>\n",
              "      <td>A</td>\n",
              "      <td>-248</td>\n",
              "      <td>A</td>\n",
              "      <td>-153</td>\n",
              "      <td>A</td>\n",
              "      <td>-218</td>\n",
              "      <td>A</td>\n",
              "      <td>...</td>\n",
              "      <td>-198</td>\n",
              "      <td>A</td>\n",
              "      <td>-217</td>\n",
              "      <td>A</td>\n",
              "      <td>-215</td>\n",
              "      <td>A</td>\n",
              "      <td>-531</td>\n",
              "      <td>A</td>\n",
              "      <td>-284</td>\n",
              "      <td>A</td>\n",
              "    </tr>\n",
              "    <tr>\n",
              "      <th>2</th>\n",
              "      <td>AFFX-BioB-3_at (endogenous control)</td>\n",
              "      <td>AFFX-BioB-3_at</td>\n",
              "      <td>41</td>\n",
              "      <td>A</td>\n",
              "      <td>262</td>\n",
              "      <td>A</td>\n",
              "      <td>17</td>\n",
              "      <td>A</td>\n",
              "      <td>-163</td>\n",
              "      <td>A</td>\n",
              "      <td>...</td>\n",
              "      <td>-5</td>\n",
              "      <td>A</td>\n",
              "      <td>63</td>\n",
              "      <td>A</td>\n",
              "      <td>-46</td>\n",
              "      <td>A</td>\n",
              "      <td>-124</td>\n",
              "      <td>A</td>\n",
              "      <td>-81</td>\n",
              "      <td>A</td>\n",
              "    </tr>\n",
              "    <tr>\n",
              "      <th>3</th>\n",
              "      <td>AFFX-BioC-5_at (endogenous control)</td>\n",
              "      <td>AFFX-BioC-5_at</td>\n",
              "      <td>328</td>\n",
              "      <td>A</td>\n",
              "      <td>295</td>\n",
              "      <td>A</td>\n",
              "      <td>276</td>\n",
              "      <td>A</td>\n",
              "      <td>182</td>\n",
              "      <td>A</td>\n",
              "      <td>...</td>\n",
              "      <td>141</td>\n",
              "      <td>A</td>\n",
              "      <td>95</td>\n",
              "      <td>A</td>\n",
              "      <td>146</td>\n",
              "      <td>A</td>\n",
              "      <td>431</td>\n",
              "      <td>A</td>\n",
              "      <td>9</td>\n",
              "      <td>A</td>\n",
              "    </tr>\n",
              "    <tr>\n",
              "      <th>4</th>\n",
              "      <td>AFFX-BioC-3_at (endogenous control)</td>\n",
              "      <td>AFFX-BioC-3_at</td>\n",
              "      <td>-224</td>\n",
              "      <td>A</td>\n",
              "      <td>-226</td>\n",
              "      <td>A</td>\n",
              "      <td>-211</td>\n",
              "      <td>A</td>\n",
              "      <td>-289</td>\n",
              "      <td>A</td>\n",
              "      <td>...</td>\n",
              "      <td>-256</td>\n",
              "      <td>A</td>\n",
              "      <td>-191</td>\n",
              "      <td>A</td>\n",
              "      <td>-172</td>\n",
              "      <td>A</td>\n",
              "      <td>-496</td>\n",
              "      <td>A</td>\n",
              "      <td>-294</td>\n",
              "      <td>A</td>\n",
              "    </tr>\n",
              "  </tbody>\n",
              "</table>\n",
              "<p>5 rows × 70 columns</p>\n",
              "</div>\n",
              "      <button class=\"colab-df-convert\" onclick=\"convertToInteractive('df-499ace82-0e14-4c49-8c71-69d344cf6ae9')\"\n",
              "              title=\"Convert this dataframe to an interactive table.\"\n",
              "              style=\"display:none;\">\n",
              "        \n",
              "  <svg xmlns=\"http://www.w3.org/2000/svg\" height=\"24px\"viewBox=\"0 0 24 24\"\n",
              "       width=\"24px\">\n",
              "    <path d=\"M0 0h24v24H0V0z\" fill=\"none\"/>\n",
              "    <path d=\"M18.56 5.44l.94 2.06.94-2.06 2.06-.94-2.06-.94-.94-2.06-.94 2.06-2.06.94zm-11 1L8.5 8.5l.94-2.06 2.06-.94-2.06-.94L8.5 2.5l-.94 2.06-2.06.94zm10 10l.94 2.06.94-2.06 2.06-.94-2.06-.94-.94-2.06-.94 2.06-2.06.94z\"/><path d=\"M17.41 7.96l-1.37-1.37c-.4-.4-.92-.59-1.43-.59-.52 0-1.04.2-1.43.59L10.3 9.45l-7.72 7.72c-.78.78-.78 2.05 0 2.83L4 21.41c.39.39.9.59 1.41.59.51 0 1.02-.2 1.41-.59l7.78-7.78 2.81-2.81c.8-.78.8-2.07 0-2.86zM5.41 20L4 18.59l7.72-7.72 1.47 1.35L5.41 20z\"/>\n",
              "  </svg>\n",
              "      </button>\n",
              "      \n",
              "  <style>\n",
              "    .colab-df-container {\n",
              "      display:flex;\n",
              "      flex-wrap:wrap;\n",
              "      gap: 12px;\n",
              "    }\n",
              "\n",
              "    .colab-df-convert {\n",
              "      background-color: #E8F0FE;\n",
              "      border: none;\n",
              "      border-radius: 50%;\n",
              "      cursor: pointer;\n",
              "      display: none;\n",
              "      fill: #1967D2;\n",
              "      height: 32px;\n",
              "      padding: 0 0 0 0;\n",
              "      width: 32px;\n",
              "    }\n",
              "\n",
              "    .colab-df-convert:hover {\n",
              "      background-color: #E2EBFA;\n",
              "      box-shadow: 0px 1px 2px rgba(60, 64, 67, 0.3), 0px 1px 3px 1px rgba(60, 64, 67, 0.15);\n",
              "      fill: #174EA6;\n",
              "    }\n",
              "\n",
              "    [theme=dark] .colab-df-convert {\n",
              "      background-color: #3B4455;\n",
              "      fill: #D2E3FC;\n",
              "    }\n",
              "\n",
              "    [theme=dark] .colab-df-convert:hover {\n",
              "      background-color: #434B5C;\n",
              "      box-shadow: 0px 1px 3px 1px rgba(0, 0, 0, 0.15);\n",
              "      filter: drop-shadow(0px 1px 2px rgba(0, 0, 0, 0.3));\n",
              "      fill: #FFFFFF;\n",
              "    }\n",
              "  </style>\n",
              "\n",
              "      <script>\n",
              "        const buttonEl =\n",
              "          document.querySelector('#df-499ace82-0e14-4c49-8c71-69d344cf6ae9 button.colab-df-convert');\n",
              "        buttonEl.style.display =\n",
              "          google.colab.kernel.accessAllowed ? 'block' : 'none';\n",
              "\n",
              "        async function convertToInteractive(key) {\n",
              "          const element = document.querySelector('#df-499ace82-0e14-4c49-8c71-69d344cf6ae9');\n",
              "          const dataTable =\n",
              "            await google.colab.kernel.invokeFunction('convertToInteractive',\n",
              "                                                     [key], {});\n",
              "          if (!dataTable) return;\n",
              "\n",
              "          const docLinkHtml = 'Like what you see? Visit the ' +\n",
              "            '<a target=\"_blank\" href=https://colab.research.google.com/notebooks/data_table.ipynb>data table notebook</a>'\n",
              "            + ' to learn more about interactive tables.';\n",
              "          element.innerHTML = '';\n",
              "          dataTable['output_type'] = 'display_data';\n",
              "          await google.colab.output.renderOutput(dataTable, element);\n",
              "          const docLink = document.createElement('div');\n",
              "          docLink.innerHTML = docLinkHtml;\n",
              "          element.appendChild(docLink);\n",
              "        }\n",
              "      </script>\n",
              "    </div>\n",
              "  </div>\n",
              "  "
            ]
          },
          "metadata": {},
          "execution_count": 7
        }
      ],
      "source": [
        "print(\"Shape of test_df \", test_df.shape)\n",
        "test_df.head()"
      ]
    },
    {
      "cell_type": "code",
      "execution_count": null,
      "metadata": {
        "colab": {
          "base_uri": "https://localhost:8080/",
          "height": 224
        },
        "id": "5SUfGomPA2ck",
        "outputId": "1279734b-d07f-4fc1-80c7-b7a9849144ec"
      },
      "outputs": [
        {
          "output_type": "stream",
          "name": "stdout",
          "text": [
            "Shape of patient_number  (72, 2)\n"
          ]
        },
        {
          "output_type": "execute_result",
          "data": {
            "text/plain": [
              "   index cancer_type\n",
              "0      1         ALL\n",
              "1      2         ALL\n",
              "2      3         ALL\n",
              "3      4         ALL\n",
              "4      5         ALL"
            ],
            "text/html": [
              "\n",
              "  <div id=\"df-7fd4492b-a7eb-42ce-b96d-c74a2ec93fb5\">\n",
              "    <div class=\"colab-df-container\">\n",
              "      <div>\n",
              "<style scoped>\n",
              "    .dataframe tbody tr th:only-of-type {\n",
              "        vertical-align: middle;\n",
              "    }\n",
              "\n",
              "    .dataframe tbody tr th {\n",
              "        vertical-align: top;\n",
              "    }\n",
              "\n",
              "    .dataframe thead th {\n",
              "        text-align: right;\n",
              "    }\n",
              "</style>\n",
              "<table border=\"1\" class=\"dataframe\">\n",
              "  <thead>\n",
              "    <tr style=\"text-align: right;\">\n",
              "      <th></th>\n",
              "      <th>index</th>\n",
              "      <th>cancer_type</th>\n",
              "    </tr>\n",
              "  </thead>\n",
              "  <tbody>\n",
              "    <tr>\n",
              "      <th>0</th>\n",
              "      <td>1</td>\n",
              "      <td>ALL</td>\n",
              "    </tr>\n",
              "    <tr>\n",
              "      <th>1</th>\n",
              "      <td>2</td>\n",
              "      <td>ALL</td>\n",
              "    </tr>\n",
              "    <tr>\n",
              "      <th>2</th>\n",
              "      <td>3</td>\n",
              "      <td>ALL</td>\n",
              "    </tr>\n",
              "    <tr>\n",
              "      <th>3</th>\n",
              "      <td>4</td>\n",
              "      <td>ALL</td>\n",
              "    </tr>\n",
              "    <tr>\n",
              "      <th>4</th>\n",
              "      <td>5</td>\n",
              "      <td>ALL</td>\n",
              "    </tr>\n",
              "  </tbody>\n",
              "</table>\n",
              "</div>\n",
              "      <button class=\"colab-df-convert\" onclick=\"convertToInteractive('df-7fd4492b-a7eb-42ce-b96d-c74a2ec93fb5')\"\n",
              "              title=\"Convert this dataframe to an interactive table.\"\n",
              "              style=\"display:none;\">\n",
              "        \n",
              "  <svg xmlns=\"http://www.w3.org/2000/svg\" height=\"24px\"viewBox=\"0 0 24 24\"\n",
              "       width=\"24px\">\n",
              "    <path d=\"M0 0h24v24H0V0z\" fill=\"none\"/>\n",
              "    <path d=\"M18.56 5.44l.94 2.06.94-2.06 2.06-.94-2.06-.94-.94-2.06-.94 2.06-2.06.94zm-11 1L8.5 8.5l.94-2.06 2.06-.94-2.06-.94L8.5 2.5l-.94 2.06-2.06.94zm10 10l.94 2.06.94-2.06 2.06-.94-2.06-.94-.94-2.06-.94 2.06-2.06.94z\"/><path d=\"M17.41 7.96l-1.37-1.37c-.4-.4-.92-.59-1.43-.59-.52 0-1.04.2-1.43.59L10.3 9.45l-7.72 7.72c-.78.78-.78 2.05 0 2.83L4 21.41c.39.39.9.59 1.41.59.51 0 1.02-.2 1.41-.59l7.78-7.78 2.81-2.81c.8-.78.8-2.07 0-2.86zM5.41 20L4 18.59l7.72-7.72 1.47 1.35L5.41 20z\"/>\n",
              "  </svg>\n",
              "      </button>\n",
              "      \n",
              "  <style>\n",
              "    .colab-df-container {\n",
              "      display:flex;\n",
              "      flex-wrap:wrap;\n",
              "      gap: 12px;\n",
              "    }\n",
              "\n",
              "    .colab-df-convert {\n",
              "      background-color: #E8F0FE;\n",
              "      border: none;\n",
              "      border-radius: 50%;\n",
              "      cursor: pointer;\n",
              "      display: none;\n",
              "      fill: #1967D2;\n",
              "      height: 32px;\n",
              "      padding: 0 0 0 0;\n",
              "      width: 32px;\n",
              "    }\n",
              "\n",
              "    .colab-df-convert:hover {\n",
              "      background-color: #E2EBFA;\n",
              "      box-shadow: 0px 1px 2px rgba(60, 64, 67, 0.3), 0px 1px 3px 1px rgba(60, 64, 67, 0.15);\n",
              "      fill: #174EA6;\n",
              "    }\n",
              "\n",
              "    [theme=dark] .colab-df-convert {\n",
              "      background-color: #3B4455;\n",
              "      fill: #D2E3FC;\n",
              "    }\n",
              "\n",
              "    [theme=dark] .colab-df-convert:hover {\n",
              "      background-color: #434B5C;\n",
              "      box-shadow: 0px 1px 3px 1px rgba(0, 0, 0, 0.15);\n",
              "      filter: drop-shadow(0px 1px 2px rgba(0, 0, 0, 0.3));\n",
              "      fill: #FFFFFF;\n",
              "    }\n",
              "  </style>\n",
              "\n",
              "      <script>\n",
              "        const buttonEl =\n",
              "          document.querySelector('#df-7fd4492b-a7eb-42ce-b96d-c74a2ec93fb5 button.colab-df-convert');\n",
              "        buttonEl.style.display =\n",
              "          google.colab.kernel.accessAllowed ? 'block' : 'none';\n",
              "\n",
              "        async function convertToInteractive(key) {\n",
              "          const element = document.querySelector('#df-7fd4492b-a7eb-42ce-b96d-c74a2ec93fb5');\n",
              "          const dataTable =\n",
              "            await google.colab.kernel.invokeFunction('convertToInteractive',\n",
              "                                                     [key], {});\n",
              "          if (!dataTable) return;\n",
              "\n",
              "          const docLinkHtml = 'Like what you see? Visit the ' +\n",
              "            '<a target=\"_blank\" href=https://colab.research.google.com/notebooks/data_table.ipynb>data table notebook</a>'\n",
              "            + ' to learn more about interactive tables.';\n",
              "          element.innerHTML = '';\n",
              "          dataTable['output_type'] = 'display_data';\n",
              "          await google.colab.output.renderOutput(dataTable, element);\n",
              "          const docLink = document.createElement('div');\n",
              "          docLink.innerHTML = docLinkHtml;\n",
              "          element.appendChild(docLink);\n",
              "        }\n",
              "      </script>\n",
              "    </div>\n",
              "  </div>\n",
              "  "
            ]
          },
          "metadata": {},
          "execution_count": 8
        }
      ],
      "source": [
        "print(\"Shape of patient_number \", patient_number.shape)\n",
        "patient_number.head()"
      ]
    },
    {
      "cell_type": "code",
      "execution_count": null,
      "metadata": {
        "colab": {
          "base_uri": "https://localhost:8080/",
          "height": 253
        },
        "id": "84bJjVWuEPYO",
        "outputId": "1e5f5293-2924-4db2-fcca-688eecb0f304"
      },
      "outputs": [
        {
          "output_type": "stream",
          "name": "stdout",
          "text": [
            "Size of training data (38, 7130)\n"
          ]
        },
        {
          "output_type": "execute_result",
          "data": {
            "text/plain": [
              "      0    1   2    3    4    5    6    7    8    9  ...  7120  7121  7122  \\\n",
              "22  -74 -321 -11  -36 -317 -499 -138 -119  115  -17  ...  1058   140   176   \n",
              "29 -318 -192 -95  312 -139 -344  324 -237  105  167  ...   737    63   472   \n",
              "16 -476 -213 -18  301 -403 -394  -42 -144   98  173  ...  1215   127   255   \n",
              "15 -117 -219 -50  257 -218 -402  228 -147   65   67  ...   631   -26   455   \n",
              "11  -67  -93  84   25 -179 -323 -135 -127   -2  -66  ...   224    60   194   \n",
              "\n",
              "    7123  7124  7125  7126  7127  7128  cancer_type  \n",
              "22   -22   617   336     9   243    36            0  \n",
              "29    33   737   227    -9   371   -31            1  \n",
              "16    50  1701  1109    61   526   -83            0  \n",
              "15   -62   736   445    42   246   -43            0  \n",
              "11   -10   291    41     8    -2   -80            0  \n",
              "\n",
              "[5 rows x 7130 columns]"
            ],
            "text/html": [
              "\n",
              "  <div id=\"df-1295d966-7c45-4e6a-9359-eec203c2314c\">\n",
              "    <div class=\"colab-df-container\">\n",
              "      <div>\n",
              "<style scoped>\n",
              "    .dataframe tbody tr th:only-of-type {\n",
              "        vertical-align: middle;\n",
              "    }\n",
              "\n",
              "    .dataframe tbody tr th {\n",
              "        vertical-align: top;\n",
              "    }\n",
              "\n",
              "    .dataframe thead th {\n",
              "        text-align: right;\n",
              "    }\n",
              "</style>\n",
              "<table border=\"1\" class=\"dataframe\">\n",
              "  <thead>\n",
              "    <tr style=\"text-align: right;\">\n",
              "      <th></th>\n",
              "      <th>0</th>\n",
              "      <th>1</th>\n",
              "      <th>2</th>\n",
              "      <th>3</th>\n",
              "      <th>4</th>\n",
              "      <th>5</th>\n",
              "      <th>6</th>\n",
              "      <th>7</th>\n",
              "      <th>8</th>\n",
              "      <th>9</th>\n",
              "      <th>...</th>\n",
              "      <th>7120</th>\n",
              "      <th>7121</th>\n",
              "      <th>7122</th>\n",
              "      <th>7123</th>\n",
              "      <th>7124</th>\n",
              "      <th>7125</th>\n",
              "      <th>7126</th>\n",
              "      <th>7127</th>\n",
              "      <th>7128</th>\n",
              "      <th>cancer_type</th>\n",
              "    </tr>\n",
              "  </thead>\n",
              "  <tbody>\n",
              "    <tr>\n",
              "      <th>22</th>\n",
              "      <td>-74</td>\n",
              "      <td>-321</td>\n",
              "      <td>-11</td>\n",
              "      <td>-36</td>\n",
              "      <td>-317</td>\n",
              "      <td>-499</td>\n",
              "      <td>-138</td>\n",
              "      <td>-119</td>\n",
              "      <td>115</td>\n",
              "      <td>-17</td>\n",
              "      <td>...</td>\n",
              "      <td>1058</td>\n",
              "      <td>140</td>\n",
              "      <td>176</td>\n",
              "      <td>-22</td>\n",
              "      <td>617</td>\n",
              "      <td>336</td>\n",
              "      <td>9</td>\n",
              "      <td>243</td>\n",
              "      <td>36</td>\n",
              "      <td>0</td>\n",
              "    </tr>\n",
              "    <tr>\n",
              "      <th>29</th>\n",
              "      <td>-318</td>\n",
              "      <td>-192</td>\n",
              "      <td>-95</td>\n",
              "      <td>312</td>\n",
              "      <td>-139</td>\n",
              "      <td>-344</td>\n",
              "      <td>324</td>\n",
              "      <td>-237</td>\n",
              "      <td>105</td>\n",
              "      <td>167</td>\n",
              "      <td>...</td>\n",
              "      <td>737</td>\n",
              "      <td>63</td>\n",
              "      <td>472</td>\n",
              "      <td>33</td>\n",
              "      <td>737</td>\n",
              "      <td>227</td>\n",
              "      <td>-9</td>\n",
              "      <td>371</td>\n",
              "      <td>-31</td>\n",
              "      <td>1</td>\n",
              "    </tr>\n",
              "    <tr>\n",
              "      <th>16</th>\n",
              "      <td>-476</td>\n",
              "      <td>-213</td>\n",
              "      <td>-18</td>\n",
              "      <td>301</td>\n",
              "      <td>-403</td>\n",
              "      <td>-394</td>\n",
              "      <td>-42</td>\n",
              "      <td>-144</td>\n",
              "      <td>98</td>\n",
              "      <td>173</td>\n",
              "      <td>...</td>\n",
              "      <td>1215</td>\n",
              "      <td>127</td>\n",
              "      <td>255</td>\n",
              "      <td>50</td>\n",
              "      <td>1701</td>\n",
              "      <td>1109</td>\n",
              "      <td>61</td>\n",
              "      <td>526</td>\n",
              "      <td>-83</td>\n",
              "      <td>0</td>\n",
              "    </tr>\n",
              "    <tr>\n",
              "      <th>15</th>\n",
              "      <td>-117</td>\n",
              "      <td>-219</td>\n",
              "      <td>-50</td>\n",
              "      <td>257</td>\n",
              "      <td>-218</td>\n",
              "      <td>-402</td>\n",
              "      <td>228</td>\n",
              "      <td>-147</td>\n",
              "      <td>65</td>\n",
              "      <td>67</td>\n",
              "      <td>...</td>\n",
              "      <td>631</td>\n",
              "      <td>-26</td>\n",
              "      <td>455</td>\n",
              "      <td>-62</td>\n",
              "      <td>736</td>\n",
              "      <td>445</td>\n",
              "      <td>42</td>\n",
              "      <td>246</td>\n",
              "      <td>-43</td>\n",
              "      <td>0</td>\n",
              "    </tr>\n",
              "    <tr>\n",
              "      <th>11</th>\n",
              "      <td>-67</td>\n",
              "      <td>-93</td>\n",
              "      <td>84</td>\n",
              "      <td>25</td>\n",
              "      <td>-179</td>\n",
              "      <td>-323</td>\n",
              "      <td>-135</td>\n",
              "      <td>-127</td>\n",
              "      <td>-2</td>\n",
              "      <td>-66</td>\n",
              "      <td>...</td>\n",
              "      <td>224</td>\n",
              "      <td>60</td>\n",
              "      <td>194</td>\n",
              "      <td>-10</td>\n",
              "      <td>291</td>\n",
              "      <td>41</td>\n",
              "      <td>8</td>\n",
              "      <td>-2</td>\n",
              "      <td>-80</td>\n",
              "      <td>0</td>\n",
              "    </tr>\n",
              "  </tbody>\n",
              "</table>\n",
              "<p>5 rows × 7130 columns</p>\n",
              "</div>\n",
              "      <button class=\"colab-df-convert\" onclick=\"convertToInteractive('df-1295d966-7c45-4e6a-9359-eec203c2314c')\"\n",
              "              title=\"Convert this dataframe to an interactive table.\"\n",
              "              style=\"display:none;\">\n",
              "        \n",
              "  <svg xmlns=\"http://www.w3.org/2000/svg\" height=\"24px\"viewBox=\"0 0 24 24\"\n",
              "       width=\"24px\">\n",
              "    <path d=\"M0 0h24v24H0V0z\" fill=\"none\"/>\n",
              "    <path d=\"M18.56 5.44l.94 2.06.94-2.06 2.06-.94-2.06-.94-.94-2.06-.94 2.06-2.06.94zm-11 1L8.5 8.5l.94-2.06 2.06-.94-2.06-.94L8.5 2.5l-.94 2.06-2.06.94zm10 10l.94 2.06.94-2.06 2.06-.94-2.06-.94-.94-2.06-.94 2.06-2.06.94z\"/><path d=\"M17.41 7.96l-1.37-1.37c-.4-.4-.92-.59-1.43-.59-.52 0-1.04.2-1.43.59L10.3 9.45l-7.72 7.72c-.78.78-.78 2.05 0 2.83L4 21.41c.39.39.9.59 1.41.59.51 0 1.02-.2 1.41-.59l7.78-7.78 2.81-2.81c.8-.78.8-2.07 0-2.86zM5.41 20L4 18.59l7.72-7.72 1.47 1.35L5.41 20z\"/>\n",
              "  </svg>\n",
              "      </button>\n",
              "      \n",
              "  <style>\n",
              "    .colab-df-container {\n",
              "      display:flex;\n",
              "      flex-wrap:wrap;\n",
              "      gap: 12px;\n",
              "    }\n",
              "\n",
              "    .colab-df-convert {\n",
              "      background-color: #E8F0FE;\n",
              "      border: none;\n",
              "      border-radius: 50%;\n",
              "      cursor: pointer;\n",
              "      display: none;\n",
              "      fill: #1967D2;\n",
              "      height: 32px;\n",
              "      padding: 0 0 0 0;\n",
              "      width: 32px;\n",
              "    }\n",
              "\n",
              "    .colab-df-convert:hover {\n",
              "      background-color: #E2EBFA;\n",
              "      box-shadow: 0px 1px 2px rgba(60, 64, 67, 0.3), 0px 1px 3px 1px rgba(60, 64, 67, 0.15);\n",
              "      fill: #174EA6;\n",
              "    }\n",
              "\n",
              "    [theme=dark] .colab-df-convert {\n",
              "      background-color: #3B4455;\n",
              "      fill: #D2E3FC;\n",
              "    }\n",
              "\n",
              "    [theme=dark] .colab-df-convert:hover {\n",
              "      background-color: #434B5C;\n",
              "      box-shadow: 0px 1px 3px 1px rgba(0, 0, 0, 0.15);\n",
              "      filter: drop-shadow(0px 1px 2px rgba(0, 0, 0, 0.3));\n",
              "      fill: #FFFFFF;\n",
              "    }\n",
              "  </style>\n",
              "\n",
              "      <script>\n",
              "        const buttonEl =\n",
              "          document.querySelector('#df-1295d966-7c45-4e6a-9359-eec203c2314c button.colab-df-convert');\n",
              "        buttonEl.style.display =\n",
              "          google.colab.kernel.accessAllowed ? 'block' : 'none';\n",
              "\n",
              "        async function convertToInteractive(key) {\n",
              "          const element = document.querySelector('#df-1295d966-7c45-4e6a-9359-eec203c2314c');\n",
              "          const dataTable =\n",
              "            await google.colab.kernel.invokeFunction('convertToInteractive',\n",
              "                                                     [key], {});\n",
              "          if (!dataTable) return;\n",
              "\n",
              "          const docLinkHtml = 'Like what you see? Visit the ' +\n",
              "            '<a target=\"_blank\" href=https://colab.research.google.com/notebooks/data_table.ipynb>data table notebook</a>'\n",
              "            + ' to learn more about interactive tables.';\n",
              "          element.innerHTML = '';\n",
              "          dataTable['output_type'] = 'display_data';\n",
              "          await google.colab.output.renderOutput(dataTable, element);\n",
              "          const docLink = document.createElement('div');\n",
              "          docLink.innerHTML = docLinkHtml;\n",
              "          element.appendChild(docLink);\n",
              "        }\n",
              "      </script>\n",
              "    </div>\n",
              "  </div>\n",
              "  "
            ]
          },
          "metadata": {},
          "execution_count": 9
        }
      ],
      "source": [
        "#Delete all of \"call\" columns and two columns [\"Gene Description\",\"Gene Accession Number\"]\n",
        "column_name = [col for col in train_df.columns if \"call\" not in col]\n",
        "train_df = train_df[column_name]\n",
        "train_df = train_df.drop([\"Gene Description\",\"Gene Accession Number\"], axis=1)\n",
        "#transpose matrix\n",
        "train_df = train_df.T\n",
        "\n",
        "#labeling\n",
        "train_df = train_df.reset_index()\n",
        "train_df[\"index\"] = pd.to_numeric(train_df[\"index\"])\n",
        "train_df = train_df.sort_values(\"index\")\n",
        "\n",
        "train_df = pd.merge(train_df, patient_number, on=\"index\", how = \"inner\")\n",
        "train_df.loc[train_df.cancer_type == \"ALL\", \"cancer_type\"] = 0\n",
        "train_df.loc[train_df.cancer_type == \"AML\", \"cancer_type\"] = 1\n",
        "#shuffle row\n",
        "train_df = train_df.sample(frac=1, random_state = 0).drop([\"index\"], axis=1)\n",
        "print(\"Size of training data\", train_df.shape)\n",
        "train_df.head()"
      ]
    },
    {
      "cell_type": "code",
      "execution_count": null,
      "metadata": {
        "colab": {
          "base_uri": "https://localhost:8080/",
          "height": 253
        },
        "id": "j7SIABOOFdOb",
        "outputId": "d53f465e-ac2b-4d2d-b5be-ef6b08ab4747"
      },
      "outputs": [
        {
          "output_type": "stream",
          "name": "stdout",
          "text": [
            "Size of testing data (34, 7130)\n"
          ]
        },
        {
          "output_type": "execute_result",
          "data": {
            "text/plain": [
              "      0    1    2    3    4    5     6    7    8    9  ...  7120  7121  7122  \\\n",
              "11 -118 -142  212  314 -401 -452  -336 -310  177 -131  ...   690    -8   331   \n",
              "20  -12 -172   12  172 -137 -205   358 -104  -25  147  ...   922    53   302   \n",
              "25  -48 -531 -124  431 -496 -696 -1038 -441  235  157  ...  1141  -121   197   \n",
              "17  -95 -118   59  270 -229 -383   172 -187  185  157  ...   700   -61   381   \n",
              "2   -62  -23   -7  142 -233 -284  -167  -97  -12  -70  ...   383    46   104   \n",
              "\n",
              "    7123  7124  7125  7126  7127  7128  cancer_type  \n",
              "11   -62   882   264    73   315     7            1  \n",
              "20   -78   673   208   -68   226    78            0  \n",
              "25  -108   466   349     0   284   -73            1  \n",
              "17  -105  1068   412   -43   702    18            0  \n",
              "2     15   245   164    84   100   -18            0  \n",
              "\n",
              "[5 rows x 7130 columns]"
            ],
            "text/html": [
              "\n",
              "  <div id=\"df-b5f04bf2-34da-4f18-8154-e6807fb90e01\">\n",
              "    <div class=\"colab-df-container\">\n",
              "      <div>\n",
              "<style scoped>\n",
              "    .dataframe tbody tr th:only-of-type {\n",
              "        vertical-align: middle;\n",
              "    }\n",
              "\n",
              "    .dataframe tbody tr th {\n",
              "        vertical-align: top;\n",
              "    }\n",
              "\n",
              "    .dataframe thead th {\n",
              "        text-align: right;\n",
              "    }\n",
              "</style>\n",
              "<table border=\"1\" class=\"dataframe\">\n",
              "  <thead>\n",
              "    <tr style=\"text-align: right;\">\n",
              "      <th></th>\n",
              "      <th>0</th>\n",
              "      <th>1</th>\n",
              "      <th>2</th>\n",
              "      <th>3</th>\n",
              "      <th>4</th>\n",
              "      <th>5</th>\n",
              "      <th>6</th>\n",
              "      <th>7</th>\n",
              "      <th>8</th>\n",
              "      <th>9</th>\n",
              "      <th>...</th>\n",
              "      <th>7120</th>\n",
              "      <th>7121</th>\n",
              "      <th>7122</th>\n",
              "      <th>7123</th>\n",
              "      <th>7124</th>\n",
              "      <th>7125</th>\n",
              "      <th>7126</th>\n",
              "      <th>7127</th>\n",
              "      <th>7128</th>\n",
              "      <th>cancer_type</th>\n",
              "    </tr>\n",
              "  </thead>\n",
              "  <tbody>\n",
              "    <tr>\n",
              "      <th>11</th>\n",
              "      <td>-118</td>\n",
              "      <td>-142</td>\n",
              "      <td>212</td>\n",
              "      <td>314</td>\n",
              "      <td>-401</td>\n",
              "      <td>-452</td>\n",
              "      <td>-336</td>\n",
              "      <td>-310</td>\n",
              "      <td>177</td>\n",
              "      <td>-131</td>\n",
              "      <td>...</td>\n",
              "      <td>690</td>\n",
              "      <td>-8</td>\n",
              "      <td>331</td>\n",
              "      <td>-62</td>\n",
              "      <td>882</td>\n",
              "      <td>264</td>\n",
              "      <td>73</td>\n",
              "      <td>315</td>\n",
              "      <td>7</td>\n",
              "      <td>1</td>\n",
              "    </tr>\n",
              "    <tr>\n",
              "      <th>20</th>\n",
              "      <td>-12</td>\n",
              "      <td>-172</td>\n",
              "      <td>12</td>\n",
              "      <td>172</td>\n",
              "      <td>-137</td>\n",
              "      <td>-205</td>\n",
              "      <td>358</td>\n",
              "      <td>-104</td>\n",
              "      <td>-25</td>\n",
              "      <td>147</td>\n",
              "      <td>...</td>\n",
              "      <td>922</td>\n",
              "      <td>53</td>\n",
              "      <td>302</td>\n",
              "      <td>-78</td>\n",
              "      <td>673</td>\n",
              "      <td>208</td>\n",
              "      <td>-68</td>\n",
              "      <td>226</td>\n",
              "      <td>78</td>\n",
              "      <td>0</td>\n",
              "    </tr>\n",
              "    <tr>\n",
              "      <th>25</th>\n",
              "      <td>-48</td>\n",
              "      <td>-531</td>\n",
              "      <td>-124</td>\n",
              "      <td>431</td>\n",
              "      <td>-496</td>\n",
              "      <td>-696</td>\n",
              "      <td>-1038</td>\n",
              "      <td>-441</td>\n",
              "      <td>235</td>\n",
              "      <td>157</td>\n",
              "      <td>...</td>\n",
              "      <td>1141</td>\n",
              "      <td>-121</td>\n",
              "      <td>197</td>\n",
              "      <td>-108</td>\n",
              "      <td>466</td>\n",
              "      <td>349</td>\n",
              "      <td>0</td>\n",
              "      <td>284</td>\n",
              "      <td>-73</td>\n",
              "      <td>1</td>\n",
              "    </tr>\n",
              "    <tr>\n",
              "      <th>17</th>\n",
              "      <td>-95</td>\n",
              "      <td>-118</td>\n",
              "      <td>59</td>\n",
              "      <td>270</td>\n",
              "      <td>-229</td>\n",
              "      <td>-383</td>\n",
              "      <td>172</td>\n",
              "      <td>-187</td>\n",
              "      <td>185</td>\n",
              "      <td>157</td>\n",
              "      <td>...</td>\n",
              "      <td>700</td>\n",
              "      <td>-61</td>\n",
              "      <td>381</td>\n",
              "      <td>-105</td>\n",
              "      <td>1068</td>\n",
              "      <td>412</td>\n",
              "      <td>-43</td>\n",
              "      <td>702</td>\n",
              "      <td>18</td>\n",
              "      <td>0</td>\n",
              "    </tr>\n",
              "    <tr>\n",
              "      <th>2</th>\n",
              "      <td>-62</td>\n",
              "      <td>-23</td>\n",
              "      <td>-7</td>\n",
              "      <td>142</td>\n",
              "      <td>-233</td>\n",
              "      <td>-284</td>\n",
              "      <td>-167</td>\n",
              "      <td>-97</td>\n",
              "      <td>-12</td>\n",
              "      <td>-70</td>\n",
              "      <td>...</td>\n",
              "      <td>383</td>\n",
              "      <td>46</td>\n",
              "      <td>104</td>\n",
              "      <td>15</td>\n",
              "      <td>245</td>\n",
              "      <td>164</td>\n",
              "      <td>84</td>\n",
              "      <td>100</td>\n",
              "      <td>-18</td>\n",
              "      <td>0</td>\n",
              "    </tr>\n",
              "  </tbody>\n",
              "</table>\n",
              "<p>5 rows × 7130 columns</p>\n",
              "</div>\n",
              "      <button class=\"colab-df-convert\" onclick=\"convertToInteractive('df-b5f04bf2-34da-4f18-8154-e6807fb90e01')\"\n",
              "              title=\"Convert this dataframe to an interactive table.\"\n",
              "              style=\"display:none;\">\n",
              "        \n",
              "  <svg xmlns=\"http://www.w3.org/2000/svg\" height=\"24px\"viewBox=\"0 0 24 24\"\n",
              "       width=\"24px\">\n",
              "    <path d=\"M0 0h24v24H0V0z\" fill=\"none\"/>\n",
              "    <path d=\"M18.56 5.44l.94 2.06.94-2.06 2.06-.94-2.06-.94-.94-2.06-.94 2.06-2.06.94zm-11 1L8.5 8.5l.94-2.06 2.06-.94-2.06-.94L8.5 2.5l-.94 2.06-2.06.94zm10 10l.94 2.06.94-2.06 2.06-.94-2.06-.94-.94-2.06-.94 2.06-2.06.94z\"/><path d=\"M17.41 7.96l-1.37-1.37c-.4-.4-.92-.59-1.43-.59-.52 0-1.04.2-1.43.59L10.3 9.45l-7.72 7.72c-.78.78-.78 2.05 0 2.83L4 21.41c.39.39.9.59 1.41.59.51 0 1.02-.2 1.41-.59l7.78-7.78 2.81-2.81c.8-.78.8-2.07 0-2.86zM5.41 20L4 18.59l7.72-7.72 1.47 1.35L5.41 20z\"/>\n",
              "  </svg>\n",
              "      </button>\n",
              "      \n",
              "  <style>\n",
              "    .colab-df-container {\n",
              "      display:flex;\n",
              "      flex-wrap:wrap;\n",
              "      gap: 12px;\n",
              "    }\n",
              "\n",
              "    .colab-df-convert {\n",
              "      background-color: #E8F0FE;\n",
              "      border: none;\n",
              "      border-radius: 50%;\n",
              "      cursor: pointer;\n",
              "      display: none;\n",
              "      fill: #1967D2;\n",
              "      height: 32px;\n",
              "      padding: 0 0 0 0;\n",
              "      width: 32px;\n",
              "    }\n",
              "\n",
              "    .colab-df-convert:hover {\n",
              "      background-color: #E2EBFA;\n",
              "      box-shadow: 0px 1px 2px rgba(60, 64, 67, 0.3), 0px 1px 3px 1px rgba(60, 64, 67, 0.15);\n",
              "      fill: #174EA6;\n",
              "    }\n",
              "\n",
              "    [theme=dark] .colab-df-convert {\n",
              "      background-color: #3B4455;\n",
              "      fill: #D2E3FC;\n",
              "    }\n",
              "\n",
              "    [theme=dark] .colab-df-convert:hover {\n",
              "      background-color: #434B5C;\n",
              "      box-shadow: 0px 1px 3px 1px rgba(0, 0, 0, 0.15);\n",
              "      filter: drop-shadow(0px 1px 2px rgba(0, 0, 0, 0.3));\n",
              "      fill: #FFFFFF;\n",
              "    }\n",
              "  </style>\n",
              "\n",
              "      <script>\n",
              "        const buttonEl =\n",
              "          document.querySelector('#df-b5f04bf2-34da-4f18-8154-e6807fb90e01 button.colab-df-convert');\n",
              "        buttonEl.style.display =\n",
              "          google.colab.kernel.accessAllowed ? 'block' : 'none';\n",
              "\n",
              "        async function convertToInteractive(key) {\n",
              "          const element = document.querySelector('#df-b5f04bf2-34da-4f18-8154-e6807fb90e01');\n",
              "          const dataTable =\n",
              "            await google.colab.kernel.invokeFunction('convertToInteractive',\n",
              "                                                     [key], {});\n",
              "          if (!dataTable) return;\n",
              "\n",
              "          const docLinkHtml = 'Like what you see? Visit the ' +\n",
              "            '<a target=\"_blank\" href=https://colab.research.google.com/notebooks/data_table.ipynb>data table notebook</a>'\n",
              "            + ' to learn more about interactive tables.';\n",
              "          element.innerHTML = '';\n",
              "          dataTable['output_type'] = 'display_data';\n",
              "          await google.colab.output.renderOutput(dataTable, element);\n",
              "          const docLink = document.createElement('div');\n",
              "          docLink.innerHTML = docLinkHtml;\n",
              "          element.appendChild(docLink);\n",
              "        }\n",
              "      </script>\n",
              "    </div>\n",
              "  </div>\n",
              "  "
            ]
          },
          "metadata": {},
          "execution_count": 10
        }
      ],
      "source": [
        "#Delete all of \"call\" columns and two columns [\"Gene Description\",\"Gene Accession Number\"]\n",
        "column_name = [col for col in test_df.columns if \"call\" not in col]\n",
        "test_df = test_df[column_name]\n",
        "test_df = test_df.drop([\"Gene Description\",\"Gene Accession Number\"], axis=1)\n",
        "#transpose matrix\n",
        "test_df = test_df.T\n",
        "\n",
        "#labeling\n",
        "test_df = test_df.reset_index()\n",
        "test_df.head()\n",
        "test_df[\"index\"] = pd.to_numeric(test_df[\"index\"])\n",
        "test_df = test_df.sort_values(\"index\")\n",
        "\n",
        "test_df = pd.merge(test_df, patient_number, on=\"index\", how = \"inner\")\n",
        "test_df.loc[test_df.cancer_type == \"ALL\", \"cancer_type\"] = 0\n",
        "test_df.loc[test_df.cancer_type == \"AML\", \"cancer_type\"] = 1\n",
        "#shuffle row\n",
        "test_df = test_df.sample(frac=1, random_state = 0).drop([\"index\"], axis=1)\n",
        "print(\"Size of testing data\", test_df.shape)\n",
        "test_df.head()\n"
      ]
    },
    {
      "cell_type": "markdown",
      "metadata": {
        "id": "4m6qXsbuHtiQ"
      },
      "source": [
        "##Exploratory data analysis (EDA)"
      ]
    },
    {
      "cell_type": "markdown",
      "source": [
        "###Check the balance of training dataset"
      ],
      "metadata": {
        "id": "sT2qwjIeFBGE"
      }
    },
    {
      "cell_type": "code",
      "source": [
        "train_df[\"cancer_type\"].value_counts()"
      ],
      "metadata": {
        "colab": {
          "base_uri": "https://localhost:8080/"
        },
        "id": "xiRIh8zpFxkn",
        "outputId": "332d5db3-52c8-4019-9089-9ce27c053d1a"
      },
      "execution_count": null,
      "outputs": [
        {
          "output_type": "execute_result",
          "data": {
            "text/plain": [
              "0    27\n",
              "1    11\n",
              "Name: cancer_type, dtype: int64"
            ]
          },
          "metadata": {},
          "execution_count": 22
        }
      ]
    },
    {
      "cell_type": "code",
      "source": [
        "df = pd.DataFrame()\n",
        "df[\"cancer_type\"] = train_df[\"cancer_type\"]\n",
        "df.loc[df.cancer_type == 0, \"cancer_type\"] = \"ALL\"\n",
        "df.loc[df.cancer_type == 1, \"cancer_type\"] = \"AML\"\n",
        "\n",
        "\n",
        "plt.figure(figsize=(3,6))\n",
        "colors = [\"AML\", \"ALL\"]\n",
        "sns.countplot(x = 'cancer_type', hue = \"cancer_type\", data = df, palette = \"Set1\")\n",
        "plt.title('Class Distributions \\n ( AML ||  ALL)', fontsize=14)"
      ],
      "metadata": {
        "colab": {
          "base_uri": "https://localhost:8080/",
          "height": 439
        },
        "id": "mtCgeII6Ea7e",
        "outputId": "c9c68bf3-5423-4865-8786-161fa8f32d5f"
      },
      "execution_count": null,
      "outputs": [
        {
          "output_type": "execute_result",
          "data": {
            "text/plain": [
              "Text(0.5, 1.0, 'Class Distributions \\n ( AML ||  ALL)')"
            ]
          },
          "metadata": {},
          "execution_count": 47
        },
        {
          "output_type": "display_data",
          "data": {
            "text/plain": [
              "<Figure size 216x432 with 1 Axes>"
            ],
            "image/png": "[encoded data removed]"
          },
          "metadata": {
            "needs_background": "light"
          }
        }
      ]
    },
    {
      "cell_type": "markdown",
      "source": [
        "###Distribution of the random sample before standardizing"
      ],
      "metadata": {
        "id": "kIv6qGGHo8n9"
      }
    },
    {
      "cell_type": "code",
      "source": [
        "sample = train_df.iloc[:,:-1].sample(n=100, axis=1)\n",
        "sample.describe().round()"
      ],
      "metadata": {
        "colab": {
          "base_uri": "https://localhost:8080/",
          "height": 330
        },
        "id": "XlErVjGdpLBl",
        "outputId": "67cfecac-46b9-43e3-ca11-93fd51a5e1e8"
      },
      "execution_count": 157,
      "outputs": [
        {
          "output_type": "execute_result",
          "data": {
            "text/plain": [
              "        494    2264   4414    6368    2848   5353   4669   4366   3621   2553  \\\n",
              "count   38.0   38.0   38.0    38.0    38.0   38.0   38.0   38.0   38.0   38.0   \n",
              "mean   153.0  507.0   88.0  2517.0  1103.0 -625.0  100.0  248.0  359.0  129.0   \n",
              "std     56.0  207.0   90.0  1144.0   341.0  145.0   53.0  112.0  257.0   60.0   \n",
              "min     38.0  148.0 -167.0   687.0   314.0 -941.0   16.0  102.0 -142.0   21.0   \n",
              "25%    123.0  328.0   53.0  1815.0   910.0 -710.0   68.0  175.0  176.0   86.0   \n",
              "50%    152.0  454.0   92.0  2387.0  1066.0 -634.0  102.0  231.0  363.0  131.0   \n",
              "75%    190.0  692.0  130.0  2942.0  1286.0 -524.0  130.0  276.0  561.0  173.0   \n",
              "max    277.0  864.0  339.0  6326.0  2015.0 -333.0  287.0  632.0  872.0  293.0   \n",
              "\n",
              "       ...   937     3181   3935    6179  679      6387   826     3058   701   \\\n",
              "count  ...   38.0    38.0   38.0    38.0  38.0     38.0   38.0    38.0   38.0   \n",
              "mean   ... -168.0   437.0  221.0   572.0   6.0   6595.0 -416.0   543.0  174.0   \n",
              "std    ...  126.0   395.0   95.0  1259.0  34.0   3179.0  245.0   297.0   74.0   \n",
              "min    ... -663.0    36.0   51.0  -346.0 -72.0   1821.0 -893.0  -142.0   28.0   \n",
              "25%    ... -208.0   166.0  156.0  -111.0 -22.0   4404.0 -583.0   348.0  133.0   \n",
              "50%    ... -145.0   337.0  208.0     2.0  10.0   5978.0 -393.0   507.0  174.0   \n",
              "75%    ...  -88.0   535.0  276.0   545.0  34.0   8290.0 -304.0   777.0  208.0   \n",
              "max    ...   -1.0  1938.0  408.0  4303.0  68.0  14383.0   88.0  1133.0  392.0   \n",
              "\n",
              "        883   \n",
              "count   38.0  \n",
              "mean  -249.0  \n",
              "std     87.0  \n",
              "min   -417.0  \n",
              "25%   -290.0  \n",
              "50%   -250.0  \n",
              "75%   -175.0  \n",
              "max    -96.0  \n",
              "\n",
              "[8 rows x 100 columns]"
            ],
            "text/html": [
              "\n",
              "  <div id=\"df-6372d58b-cdb1-4d46-a36c-199e84b0d178\">\n",
              "    <div class=\"colab-df-container\">\n",
              "      <div>\n",
              "<style scoped>\n",
              "    .dataframe tbody tr th:only-of-type {\n",
              "        vertical-align: middle;\n",
              "    }\n",
              "\n",
              "    .dataframe tbody tr th {\n",
              "        vertical-align: top;\n",
              "    }\n",
              "\n",
              "    .dataframe thead th {\n",
              "        text-align: right;\n",
              "    }\n",
              "</style>\n",
              "<table border=\"1\" class=\"dataframe\">\n",
              "  <thead>\n",
              "    <tr style=\"text-align: right;\">\n",
              "      <th></th>\n",
              "      <th>494</th>\n",
              "      <th>2264</th>\n",
              "      <th>4414</th>\n",
              "      <th>6368</th>\n",
              "      <th>2848</th>\n",
              "      <th>5353</th>\n",
              "      <th>4669</th>\n",
              "      <th>4366</th>\n",
              "      <th>3621</th>\n",
              "      <th>2553</th>\n",
              "      <th>...</th>\n",
              "      <th>937</th>\n",
              "      <th>3181</th>\n",
              "      <th>3935</th>\n",
              "      <th>6179</th>\n",
              "      <th>679</th>\n",
              "      <th>6387</th>\n",
              "      <th>826</th>\n",
              "      <th>3058</th>\n",
              "      <th>701</th>\n",
              "      <th>883</th>\n",
              "    </tr>\n",
              "  </thead>\n",
              "  <tbody>\n",
              "    <tr>\n",
              "      <th>count</th>\n",
              "      <td>38.0</td>\n",
              "      <td>38.0</td>\n",
              "      <td>38.0</td>\n",
              "      <td>38.0</td>\n",
              "      <td>38.0</td>\n",
              "      <td>38.0</td>\n",
              "      <td>38.0</td>\n",
              "      <td>38.0</td>\n",
              "      <td>38.0</td>\n",
              "      <td>38.0</td>\n",
              "      <td>...</td>\n",
              "      <td>38.0</td>\n",
              "      <td>38.0</td>\n",
              "      <td>38.0</td>\n",
              "      <td>38.0</td>\n",
              "      <td>38.0</td>\n",
              "      <td>38.0</td>\n",
              "      <td>38.0</td>\n",
              "      <td>38.0</td>\n",
              "      <td>38.0</td>\n",
              "      <td>38.0</td>\n",
              "    </tr>\n",
              "    <tr>\n",
              "      <th>mean</th>\n",
              "      <td>153.0</td>\n",
              "      <td>507.0</td>\n",
              "      <td>88.0</td>\n",
              "      <td>2517.0</td>\n",
              "      <td>1103.0</td>\n",
              "      <td>-625.0</td>\n",
              "      <td>100.0</td>\n",
              "      <td>248.0</td>\n",
              "      <td>359.0</td>\n",
              "      <td>129.0</td>\n",
              "      <td>...</td>\n",
              "      <td>-168.0</td>\n",
              "      <td>437.0</td>\n",
              "      <td>221.0</td>\n",
              "      <td>572.0</td>\n",
              "      <td>6.0</td>\n",
              "      <td>6595.0</td>\n",
              "      <td>-416.0</td>\n",
              "      <td>543.0</td>\n",
              "      <td>174.0</td>\n",
              "      <td>-249.0</td>\n",
              "    </tr>\n",
              "    <tr>\n",
              "      <th>std</th>\n",
              "      <td>56.0</td>\n",
              "      <td>207.0</td>\n",
              "      <td>90.0</td>\n",
              "      <td>1144.0</td>\n",
              "      <td>341.0</td>\n",
              "      <td>145.0</td>\n",
              "      <td>53.0</td>\n",
              "      <td>112.0</td>\n",
              "      <td>257.0</td>\n",
              "      <td>60.0</td>\n",
              "      <td>...</td>\n",
              "      <td>126.0</td>\n",
              "      <td>395.0</td>\n",
              "      <td>95.0</td>\n",
              "      <td>1259.0</td>\n",
              "      <td>34.0</td>\n",
              "      <td>3179.0</td>\n",
              "      <td>245.0</td>\n",
              "      <td>297.0</td>\n",
              "      <td>74.0</td>\n",
              "      <td>87.0</td>\n",
              "    </tr>\n",
              "    <tr>\n",
              "      <th>min</th>\n",
              "      <td>38.0</td>\n",
              "      <td>148.0</td>\n",
              "      <td>-167.0</td>\n",
              "      <td>687.0</td>\n",
              "      <td>314.0</td>\n",
              "      <td>-941.0</td>\n",
              "      <td>16.0</td>\n",
              "      <td>102.0</td>\n",
              "      <td>-142.0</td>\n",
              "      <td>21.0</td>\n",
              "      <td>...</td>\n",
              "      <td>-663.0</td>\n",
              "      <td>36.0</td>\n",
              "      <td>51.0</td>\n",
              "      <td>-346.0</td>\n",
              "      <td>-72.0</td>\n",
              "      <td>1821.0</td>\n",
              "      <td>-893.0</td>\n",
              "      <td>-142.0</td>\n",
              "      <td>28.0</td>\n",
              "      <td>-417.0</td>\n",
              "    </tr>\n",
              "    <tr>\n",
              "      <th>25%</th>\n",
              "      <td>123.0</td>\n",
              "      <td>328.0</td>\n",
              "      <td>53.0</td>\n",
              "      <td>1815.0</td>\n",
              "      <td>910.0</td>\n",
              "      <td>-710.0</td>\n",
              "      <td>68.0</td>\n",
              "      <td>175.0</td>\n",
              "      <td>176.0</td>\n",
              "      <td>86.0</td>\n",
              "      <td>...</td>\n",
              "      <td>-208.0</td>\n",
              "      <td>166.0</td>\n",
              "      <td>156.0</td>\n",
              "      <td>-111.0</td>\n",
              "      <td>-22.0</td>\n",
              "      <td>4404.0</td>\n",
              "      <td>-583.0</td>\n",
              "      <td>348.0</td>\n",
              "      <td>133.0</td>\n",
              "      <td>-290.0</td>\n",
              "    </tr>\n",
              "    <tr>\n",
              "      <th>50%</th>\n",
              "      <td>152.0</td>\n",
              "      <td>454.0</td>\n",
              "      <td>92.0</td>\n",
              "      <td>2387.0</td>\n",
              "      <td>1066.0</td>\n",
              "      <td>-634.0</td>\n",
              "      <td>102.0</td>\n",
              "      <td>231.0</td>\n",
              "      <td>363.0</td>\n",
              "      <td>131.0</td>\n",
              "      <td>...</td>\n",
              "      <td>-145.0</td>\n",
              "      <td>337.0</td>\n",
              "      <td>208.0</td>\n",
              "      <td>2.0</td>\n",
              "      <td>10.0</td>\n",
              "      <td>5978.0</td>\n",
              "      <td>-393.0</td>\n",
              "      <td>507.0</td>\n",
              "      <td>174.0</td>\n",
              "      <td>-250.0</td>\n",
              "    </tr>\n",
              "    <tr>\n",
              "      <th>75%</th>\n",
              "      <td>190.0</td>\n",
              "      <td>692.0</td>\n",
              "      <td>130.0</td>\n",
              "      <td>2942.0</td>\n",
              "      <td>1286.0</td>\n",
              "      <td>-524.0</td>\n",
              "      <td>130.0</td>\n",
              "      <td>276.0</td>\n",
              "      <td>561.0</td>\n",
              "      <td>173.0</td>\n",
              "      <td>...</td>\n",
              "      <td>-88.0</td>\n",
              "      <td>535.0</td>\n",
              "      <td>276.0</td>\n",
              "      <td>545.0</td>\n",
              "      <td>34.0</td>\n",
              "      <td>8290.0</td>\n",
              "      <td>-304.0</td>\n",
              "      <td>777.0</td>\n",
              "      <td>208.0</td>\n",
              "      <td>-175.0</td>\n",
              "    </tr>\n",
              "    <tr>\n",
              "      <th>max</th>\n",
              "      <td>277.0</td>\n",
              "      <td>864.0</td>\n",
              "      <td>339.0</td>\n",
              "      <td>6326.0</td>\n",
              "      <td>2015.0</td>\n",
              "      <td>-333.0</td>\n",
              "      <td>287.0</td>\n",
              "      <td>632.0</td>\n",
              "      <td>872.0</td>\n",
              "      <td>293.0</td>\n",
              "      <td>...</td>\n",
              "      <td>-1.0</td>\n",
              "      <td>1938.0</td>\n",
              "      <td>408.0</td>\n",
              "      <td>4303.0</td>\n",
              "      <td>68.0</td>\n",
              "      <td>14383.0</td>\n",
              "      <td>88.0</td>\n",
              "      <td>1133.0</td>\n",
              "      <td>392.0</td>\n",
              "      <td>-96.0</td>\n",
              "    </tr>\n",
              "  </tbody>\n",
              "</table>\n",
              "<p>8 rows × 100 columns</p>\n",
              "</div>\n",
              "      <button class=\"colab-df-convert\" onclick=\"convertToInteractive('df-6372d58b-cdb1-4d46-a36c-199e84b0d178')\"\n",
              "              title=\"Convert this dataframe to an interactive table.\"\n",
              "              style=\"display:none;\">\n",
              "        \n",
              "  <svg xmlns=\"http://www.w3.org/2000/svg\" height=\"24px\"viewBox=\"0 0 24 24\"\n",
              "       width=\"24px\">\n",
              "    <path d=\"M0 0h24v24H0V0z\" fill=\"none\"/>\n",
              "    <path d=\"M18.56 5.44l.94 2.06.94-2.06 2.06-.94-2.06-.94-.94-2.06-.94 2.06-2.06.94zm-11 1L8.5 8.5l.94-2.06 2.06-.94-2.06-.94L8.5 2.5l-.94 2.06-2.06.94zm10 10l.94 2.06.94-2.06 2.06-.94-2.06-.94-.94-2.06-.94 2.06-2.06.94z\"/><path d=\"M17.41 7.96l-1.37-1.37c-.4-.4-.92-.59-1.43-.59-.52 0-1.04.2-1.43.59L10.3 9.45l-7.72 7.72c-.78.78-.78 2.05 0 2.83L4 21.41c.39.39.9.59 1.41.59.51 0 1.02-.2 1.41-.59l7.78-7.78 2.81-2.81c.8-.78.8-2.07 0-2.86zM5.41 20L4 18.59l7.72-7.72 1.47 1.35L5.41 20z\"/>\n",
              "  </svg>\n",
              "      </button>\n",
              "      \n",
              "  <style>\n",
              "    .colab-df-container {\n",
              "      display:flex;\n",
              "      flex-wrap:wrap;\n",
              "      gap: 12px;\n",
              "    }\n",
              "\n",
              "    .colab-df-convert {\n",
              "      background-color: #E8F0FE;\n",
              "      border: none;\n",
              "      border-radius: 50%;\n",
              "      cursor: pointer;\n",
              "      display: none;\n",
              "      fill: #1967D2;\n",
              "      height: 32px;\n",
              "      padding: 0 0 0 0;\n",
              "      width: 32px;\n",
              "    }\n",
              "\n",
              "    .colab-df-convert:hover {\n",
              "      background-color: #E2EBFA;\n",
              "      box-shadow: 0px 1px 2px rgba(60, 64, 67, 0.3), 0px 1px 3px 1px rgba(60, 64, 67, 0.15);\n",
              "      fill: #174EA6;\n",
              "    }\n",
              "\n",
              "    [theme=dark] .colab-df-convert {\n",
              "      background-color: #3B4455;\n",
              "      fill: #D2E3FC;\n",
              "    }\n",
              "\n",
              "    [theme=dark] .colab-df-convert:hover {\n",
              "      background-color: #434B5C;\n",
              "      box-shadow: 0px 1px 3px 1px rgba(0, 0, 0, 0.15);\n",
              "      filter: drop-shadow(0px 1px 2px rgba(0, 0, 0, 0.3));\n",
              "      fill: #FFFFFF;\n",
              "    }\n",
              "  </style>\n",
              "\n",
              "      <script>\n",
              "        const buttonEl =\n",
              "          document.querySelector('#df-6372d58b-cdb1-4d46-a36c-199e84b0d178 button.colab-df-convert');\n",
              "        buttonEl.style.display =\n",
              "          google.colab.kernel.accessAllowed ? 'block' : 'none';\n",
              "\n",
              "        async function convertToInteractive(key) {\n",
              "          const element = document.querySelector('#df-6372d58b-cdb1-4d46-a36c-199e84b0d178');\n",
              "          const dataTable =\n",
              "            await google.colab.kernel.invokeFunction('convertToInteractive',\n",
              "                                                     [key], {});\n",
              "          if (!dataTable) return;\n",
              "\n",
              "          const docLinkHtml = 'Like what you see? Visit the ' +\n",
              "            '<a target=\"_blank\" href=https://colab.research.google.com/notebooks/data_table.ipynb>data table notebook</a>'\n",
              "            + ' to learn more about interactive tables.';\n",
              "          element.innerHTML = '';\n",
              "          dataTable['output_type'] = 'display_data';\n",
              "          await google.colab.output.renderOutput(dataTable, element);\n",
              "          const docLink = document.createElement('div');\n",
              "          docLink.innerHTML = docLinkHtml;\n",
              "          element.appendChild(docLink);\n",
              "        }\n",
              "      </script>\n",
              "    </div>\n",
              "  </div>\n",
              "  "
            ]
          },
          "metadata": {},
          "execution_count": 157
        }
      ]
    },
    {
      "cell_type": "code",
      "source": [
        "sample.plot(kind=\"hist\", legend=None, bins=20, color='k')"
      ],
      "metadata": {
        "id": "nF-IbcxcMoD2",
        "colab": {
          "base_uri": "https://localhost:8080/",
          "height": 282
        },
        "outputId": "1d074071-2093-48f5-bd54-9741d35abe4f"
      },
      "execution_count": 159,
      "outputs": [
        {
          "output_type": "execute_result",
          "data": {
            "text/plain": [
              "<matplotlib.axes._subplots.AxesSubplot at 0x7f6a7e55d4d0>"
            ]
          },
          "metadata": {},
          "execution_count": 159
        },
        {
          "output_type": "display_data",
          "data": {
            "text/plain": [
              "<Figure size 432x288 with 1 Axes>"
            ],
            "image/png": "[encoded data removed]"
          },
          "metadata": {
            "needs_background": "light"
          }
        }
      ]
    },
    {
      "cell_type": "code",
      "source": [
        "sample.plot(kind=\"kde\", legend=None)"
      ],
      "metadata": {
        "colab": {
          "base_uri": "https://localhost:8080/",
          "height": 265
        },
        "id": "eQ0DRCplpk6h",
        "outputId": "89839f56-c141-4400-aa06-97b71bb06165"
      },
      "execution_count": 160,
      "outputs": [
        {
          "output_type": "display_data",
          "data": {
            "text/plain": [
              "<Figure size 432x288 with 1 Axes>"
            ],
            "image/png": "[encoded data removed]"
          },
          "metadata": {
            "needs_background": "light"
          }
        }
      ]
    },
    {
      "cell_type": "markdown",
      "metadata": {
        "id": "zKCLV_01nCqX"
      },
      "source": [
        "##Preprocessing "
      ]
    },
    {
      "cell_type": "code",
      "execution_count": null,
      "metadata": {
        "id": "Qga617WpntpJ"
      },
      "outputs": [],
      "source": [
        "X_train = train_df.iloc[:,:-1].reset_index(drop=True)\n",
        "y_train = train_df.iloc[:,-1].reset_index(drop=True).astype(\"int\")\n",
        "\n",
        "X_test = test_df.iloc[:,:-1].reset_index(drop=True)\n",
        "y_test = test_df.iloc[:,-1].reset_index(drop=True).astype(\"int\")"
      ]
    },
    {
      "cell_type": "code",
      "execution_count": null,
      "metadata": {
        "colab": {
          "base_uri": "https://localhost:8080/"
        },
        "id": "PSLzvruIwQAB",
        "outputId": "b39f9879-55d9-485f-d274-031ce7203791"
      },
      "outputs": [
        {
          "output_type": "execute_result",
          "data": {
            "text/plain": [
              "(38, 7129)"
            ]
          },
          "metadata": {},
          "execution_count": 49
        }
      ],
      "source": [
        "X_train.shape"
      ]
    },
    {
      "cell_type": "markdown",
      "metadata": {
        "id": "zilTE4UOrTBm"
      },
      "source": [
        "###StandardScaler"
      ]
    },
    {
      "cell_type": "code",
      "execution_count": 161,
      "metadata": {
        "id": "VxYR8L5cnFMW"
      },
      "outputs": [],
      "source": [
        "from sklearn.preprocessing import StandardScaler\n",
        "\n",
        "scaler = StandardScaler()\n",
        "X_train_scl = scaler.fit_transform(X_train)\n",
        "X_test_scl = scaler.fit_transform(X_test)\n"
      ]
    },
    {
      "cell_type": "markdown",
      "source": [
        "###Distribution of the random sample after standardizing"
      ],
      "metadata": {
        "id": "TUmyrdrxpy9w"
      }
    },
    {
      "cell_type": "code",
      "source": [
        "sample = pd.DataFrame(X_train_scl).sample(n=100, axis=1)\n",
        "sample.describe().round()"
      ],
      "metadata": {
        "colab": {
          "base_uri": "https://localhost:8080/",
          "height": 330
        },
        "id": "7Iu8euPrqPkL",
        "outputId": "e0701a73-64c7-4644-89d1-0d5e5c97d40f"
      },
      "execution_count": 162,
      "outputs": [
        {
          "output_type": "execute_result",
          "data": {
            "text/plain": [
              "       3698  6253  495   3731  801   1538  1044  1756  223   1296  ...  4839  \\\n",
              "count  38.0  38.0  38.0  38.0  38.0  38.0  38.0  38.0  38.0  38.0  ...  38.0   \n",
              "mean   -0.0   0.0   0.0   0.0   0.0   0.0  -0.0  -0.0   0.0   0.0  ...  -0.0   \n",
              "std     1.0   1.0   1.0   1.0   1.0   1.0   1.0   1.0   1.0   1.0  ...   1.0   \n",
              "min    -2.0  -2.0  -2.0  -2.0  -1.0  -2.0  -2.0  -2.0  -3.0  -2.0  ...  -2.0   \n",
              "25%    -1.0  -1.0  -1.0  -1.0  -1.0  -1.0  -1.0  -1.0  -1.0  -1.0  ...  -1.0   \n",
              "50%    -0.0  -0.0  -0.0   0.0  -0.0  -0.0  -0.0  -0.0  -0.0   0.0  ...   0.0   \n",
              "75%     0.0   0.0   0.0   1.0   1.0   0.0   1.0   1.0   1.0   1.0  ...   1.0   \n",
              "max     3.0   3.0   2.0   2.0   3.0   3.0   2.0   2.0   2.0   2.0  ...   2.0   \n",
              "\n",
              "       2484  3270  6406  3342  1873  2482  384   943   4117  \n",
              "count  38.0  38.0  38.0  38.0  38.0  38.0  38.0  38.0  38.0  \n",
              "mean    0.0  -0.0   0.0  -0.0   0.0  -0.0   0.0  -0.0   0.0  \n",
              "std     1.0   1.0   1.0   1.0   1.0   1.0   1.0   1.0   1.0  \n",
              "min    -1.0  -1.0  -2.0  -2.0  -2.0  -2.0  -1.0  -3.0  -2.0  \n",
              "25%    -1.0  -1.0  -1.0  -1.0  -1.0  -1.0  -1.0  -1.0  -1.0  \n",
              "50%    -0.0  -0.0  -0.0   0.0  -0.0  -0.0  -0.0   0.0  -0.0  \n",
              "75%     1.0   0.0   1.0   1.0   1.0   1.0   0.0   1.0   1.0  \n",
              "max     3.0   3.0   2.0   2.0   3.0   3.0   4.0   2.0   3.0  \n",
              "\n",
              "[8 rows x 100 columns]"
            ],
            "text/html": [
              "\n",
              "  <div id=\"df-b63880f6-e2cd-4028-8f8e-e07fc7d0bf1b\">\n",
              "    <div class=\"colab-df-container\">\n",
              "      <div>\n",
              "<style scoped>\n",
              "    .dataframe tbody tr th:only-of-type {\n",
              "        vertical-align: middle;\n",
              "    }\n",
              "\n",
              "    .dataframe tbody tr th {\n",
              "        vertical-align: top;\n",
              "    }\n",
              "\n",
              "    .dataframe thead th {\n",
              "        text-align: right;\n",
              "    }\n",
              "</style>\n",
              "<table border=\"1\" class=\"dataframe\">\n",
              "  <thead>\n",
              "    <tr style=\"text-align: right;\">\n",
              "      <th></th>\n",
              "      <th>3698</th>\n",
              "      <th>6253</th>\n",
              "      <th>495</th>\n",
              "      <th>3731</th>\n",
              "      <th>801</th>\n",
              "      <th>1538</th>\n",
              "      <th>1044</th>\n",
              "      <th>1756</th>\n",
              "      <th>223</th>\n",
              "      <th>1296</th>\n",
              "      <th>...</th>\n",
              "      <th>4839</th>\n",
              "      <th>2484</th>\n",
              "      <th>3270</th>\n",
              "      <th>6406</th>\n",
              "      <th>3342</th>\n",
              "      <th>1873</th>\n",
              "      <th>2482</th>\n",
              "      <th>384</th>\n",
              "      <th>943</th>\n",
              "      <th>4117</th>\n",
              "    </tr>\n",
              "  </thead>\n",
              "  <tbody>\n",
              "    <tr>\n",
              "      <th>count</th>\n",
              "      <td>38.0</td>\n",
              "      <td>38.0</td>\n",
              "      <td>38.0</td>\n",
              "      <td>38.0</td>\n",
              "      <td>38.0</td>\n",
              "      <td>38.0</td>\n",
              "      <td>38.0</td>\n",
              "      <td>38.0</td>\n",
              "      <td>38.0</td>\n",
              "      <td>38.0</td>\n",
              "      <td>...</td>\n",
              "      <td>38.0</td>\n",
              "      <td>38.0</td>\n",
              "      <td>38.0</td>\n",
              "      <td>38.0</td>\n",
              "      <td>38.0</td>\n",
              "      <td>38.0</td>\n",
              "      <td>38.0</td>\n",
              "      <td>38.0</td>\n",
              "      <td>38.0</td>\n",
              "      <td>38.0</td>\n",
              "    </tr>\n",
              "    <tr>\n",
              "      <th>mean</th>\n",
              "      <td>-0.0</td>\n",
              "      <td>0.0</td>\n",
              "      <td>0.0</td>\n",
              "      <td>0.0</td>\n",
              "      <td>0.0</td>\n",
              "      <td>0.0</td>\n",
              "      <td>-0.0</td>\n",
              "      <td>-0.0</td>\n",
              "      <td>0.0</td>\n",
              "      <td>0.0</td>\n",
              "      <td>...</td>\n",
              "      <td>-0.0</td>\n",
              "      <td>0.0</td>\n",
              "      <td>-0.0</td>\n",
              "      <td>0.0</td>\n",
              "      <td>-0.0</td>\n",
              "      <td>0.0</td>\n",
              "      <td>-0.0</td>\n",
              "      <td>0.0</td>\n",
              "      <td>-0.0</td>\n",
              "      <td>0.0</td>\n",
              "    </tr>\n",
              "    <tr>\n",
              "      <th>std</th>\n",
              "      <td>1.0</td>\n",
              "      <td>1.0</td>\n",
              "      <td>1.0</td>\n",
              "      <td>1.0</td>\n",
              "      <td>1.0</td>\n",
              "      <td>1.0</td>\n",
              "      <td>1.0</td>\n",
              "      <td>1.0</td>\n",
              "      <td>1.0</td>\n",
              "      <td>1.0</td>\n",
              "      <td>...</td>\n",
              "      <td>1.0</td>\n",
              "      <td>1.0</td>\n",
              "      <td>1.0</td>\n",
              "      <td>1.0</td>\n",
              "      <td>1.0</td>\n",
              "      <td>1.0</td>\n",
              "      <td>1.0</td>\n",
              "      <td>1.0</td>\n",
              "      <td>1.0</td>\n",
              "      <td>1.0</td>\n",
              "    </tr>\n",
              "    <tr>\n",
              "      <th>min</th>\n",
              "      <td>-2.0</td>\n",
              "      <td>-2.0</td>\n",
              "      <td>-2.0</td>\n",
              "      <td>-2.0</td>\n",
              "      <td>-1.0</td>\n",
              "      <td>-2.0</td>\n",
              "      <td>-2.0</td>\n",
              "      <td>-2.0</td>\n",
              "      <td>-3.0</td>\n",
              "      <td>-2.0</td>\n",
              "      <td>...</td>\n",
              "      <td>-2.0</td>\n",
              "      <td>-1.0</td>\n",
              "      <td>-1.0</td>\n",
              "      <td>-2.0</td>\n",
              "      <td>-2.0</td>\n",
              "      <td>-2.0</td>\n",
              "      <td>-2.0</td>\n",
              "      <td>-1.0</td>\n",
              "      <td>-3.0</td>\n",
              "      <td>-2.0</td>\n",
              "    </tr>\n",
              "    <tr>\n",
              "      <th>25%</th>\n",
              "      <td>-1.0</td>\n",
              "      <td>-1.0</td>\n",
              "      <td>-1.0</td>\n",
              "      <td>-1.0</td>\n",
              "      <td>-1.0</td>\n",
              "      <td>-1.0</td>\n",
              "      <td>-1.0</td>\n",
              "      <td>-1.0</td>\n",
              "      <td>-1.0</td>\n",
              "      <td>-1.0</td>\n",
              "      <td>...</td>\n",
              "      <td>-1.0</td>\n",
              "      <td>-1.0</td>\n",
              "      <td>-1.0</td>\n",
              "      <td>-1.0</td>\n",
              "      <td>-1.0</td>\n",
              "      <td>-1.0</td>\n",
              "      <td>-1.0</td>\n",
              "      <td>-1.0</td>\n",
              "      <td>-1.0</td>\n",
              "      <td>-1.0</td>\n",
              "    </tr>\n",
              "    <tr>\n",
              "      <th>50%</th>\n",
              "      <td>-0.0</td>\n",
              "      <td>-0.0</td>\n",
              "      <td>-0.0</td>\n",
              "      <td>0.0</td>\n",
              "      <td>-0.0</td>\n",
              "      <td>-0.0</td>\n",
              "      <td>-0.0</td>\n",
              "      <td>-0.0</td>\n",
              "      <td>-0.0</td>\n",
              "      <td>0.0</td>\n",
              "      <td>...</td>\n",
              "      <td>0.0</td>\n",
              "      <td>-0.0</td>\n",
              "      <td>-0.0</td>\n",
              "      <td>-0.0</td>\n",
              "      <td>0.0</td>\n",
              "      <td>-0.0</td>\n",
              "      <td>-0.0</td>\n",
              "      <td>-0.0</td>\n",
              "      <td>0.0</td>\n",
              "      <td>-0.0</td>\n",
              "    </tr>\n",
              "    <tr>\n",
              "      <th>75%</th>\n",
              "      <td>0.0</td>\n",
              "      <td>0.0</td>\n",
              "      <td>0.0</td>\n",
              "      <td>1.0</td>\n",
              "      <td>1.0</td>\n",
              "      <td>0.0</td>\n",
              "      <td>1.0</td>\n",
              "      <td>1.0</td>\n",
              "      <td>1.0</td>\n",
              "      <td>1.0</td>\n",
              "      <td>...</td>\n",
              "      <td>1.0</td>\n",
              "      <td>1.0</td>\n",
              "      <td>0.0</td>\n",
              "      <td>1.0</td>\n",
              "      <td>1.0</td>\n",
              "      <td>1.0</td>\n",
              "      <td>1.0</td>\n",
              "      <td>0.0</td>\n",
              "      <td>1.0</td>\n",
              "      <td>1.0</td>\n",
              "    </tr>\n",
              "    <tr>\n",
              "      <th>max</th>\n",
              "      <td>3.0</td>\n",
              "      <td>3.0</td>\n",
              "      <td>2.0</td>\n",
              "      <td>2.0</td>\n",
              "      <td>3.0</td>\n",
              "      <td>3.0</td>\n",
              "      <td>2.0</td>\n",
              "      <td>2.0</td>\n",
              "      <td>2.0</td>\n",
              "      <td>2.0</td>\n",
              "      <td>...</td>\n",
              "      <td>2.0</td>\n",
              "      <td>3.0</td>\n",
              "      <td>3.0</td>\n",
              "      <td>2.0</td>\n",
              "      <td>2.0</td>\n",
              "      <td>3.0</td>\n",
              "      <td>3.0</td>\n",
              "      <td>4.0</td>\n",
              "      <td>2.0</td>\n",
              "      <td>3.0</td>\n",
              "    </tr>\n",
              "  </tbody>\n",
              "</table>\n",
              "<p>8 rows × 100 columns</p>\n",
              "</div>\n",
              "      <button class=\"colab-df-convert\" onclick=\"convertToInteractive('df-b63880f6-e2cd-4028-8f8e-e07fc7d0bf1b')\"\n",
              "              title=\"Convert this dataframe to an interactive table.\"\n",
              "              style=\"display:none;\">\n",
              "        \n",
              "  <svg xmlns=\"http://www.w3.org/2000/svg\" height=\"24px\"viewBox=\"0 0 24 24\"\n",
              "       width=\"24px\">\n",
              "    <path d=\"M0 0h24v24H0V0z\" fill=\"none\"/>\n",
              "    <path d=\"M18.56 5.44l.94 2.06.94-2.06 2.06-.94-2.06-.94-.94-2.06-.94 2.06-2.06.94zm-11 1L8.5 8.5l.94-2.06 2.06-.94-2.06-.94L8.5 2.5l-.94 2.06-2.06.94zm10 10l.94 2.06.94-2.06 2.06-.94-2.06-.94-.94-2.06-.94 2.06-2.06.94z\"/><path d=\"M17.41 7.96l-1.37-1.37c-.4-.4-.92-.59-1.43-.59-.52 0-1.04.2-1.43.59L10.3 9.45l-7.72 7.72c-.78.78-.78 2.05 0 2.83L4 21.41c.39.39.9.59 1.41.59.51 0 1.02-.2 1.41-.59l7.78-7.78 2.81-2.81c.8-.78.8-2.07 0-2.86zM5.41 20L4 18.59l7.72-7.72 1.47 1.35L5.41 20z\"/>\n",
              "  </svg>\n",
              "      </button>\n",
              "      \n",
              "  <style>\n",
              "    .colab-df-container {\n",
              "      display:flex;\n",
              "      flex-wrap:wrap;\n",
              "      gap: 12px;\n",
              "    }\n",
              "\n",
              "    .colab-df-convert {\n",
              "      background-color: #E8F0FE;\n",
              "      border: none;\n",
              "      border-radius: 50%;\n",
              "      cursor: pointer;\n",
              "      display: none;\n",
              "      fill: #1967D2;\n",
              "      height: 32px;\n",
              "      padding: 0 0 0 0;\n",
              "      width: 32px;\n",
              "    }\n",
              "\n",
              "    .colab-df-convert:hover {\n",
              "      background-color: #E2EBFA;\n",
              "      box-shadow: 0px 1px 2px rgba(60, 64, 67, 0.3), 0px 1px 3px 1px rgba(60, 64, 67, 0.15);\n",
              "      fill: #174EA6;\n",
              "    }\n",
              "\n",
              "    [theme=dark] .colab-df-convert {\n",
              "      background-color: #3B4455;\n",
              "      fill: #D2E3FC;\n",
              "    }\n",
              "\n",
              "    [theme=dark] .colab-df-convert:hover {\n",
              "      background-color: #434B5C;\n",
              "      box-shadow: 0px 1px 3px 1px rgba(0, 0, 0, 0.15);\n",
              "      filter: drop-shadow(0px 1px 2px rgba(0, 0, 0, 0.3));\n",
              "      fill: #FFFFFF;\n",
              "    }\n",
              "  </style>\n",
              "\n",
              "      <script>\n",
              "        const buttonEl =\n",
              "          document.querySelector('#df-b63880f6-e2cd-4028-8f8e-e07fc7d0bf1b button.colab-df-convert');\n",
              "        buttonEl.style.display =\n",
              "          google.colab.kernel.accessAllowed ? 'block' : 'none';\n",
              "\n",
              "        async function convertToInteractive(key) {\n",
              "          const element = document.querySelector('#df-b63880f6-e2cd-4028-8f8e-e07fc7d0bf1b');\n",
              "          const dataTable =\n",
              "            await google.colab.kernel.invokeFunction('convertToInteractive',\n",
              "                                                     [key], {});\n",
              "          if (!dataTable) return;\n",
              "\n",
              "          const docLinkHtml = 'Like what you see? Visit the ' +\n",
              "            '<a target=\"_blank\" href=https://colab.research.google.com/notebooks/data_table.ipynb>data table notebook</a>'\n",
              "            + ' to learn more about interactive tables.';\n",
              "          element.innerHTML = '';\n",
              "          dataTable['output_type'] = 'display_data';\n",
              "          await google.colab.output.renderOutput(dataTable, element);\n",
              "          const docLink = document.createElement('div');\n",
              "          docLink.innerHTML = docLinkHtml;\n",
              "          element.appendChild(docLink);\n",
              "        }\n",
              "      </script>\n",
              "    </div>\n",
              "  </div>\n",
              "  "
            ]
          },
          "metadata": {},
          "execution_count": 162
        }
      ]
    },
    {
      "cell_type": "code",
      "source": [
        "sample.plot(kind=\"hist\", legend=None, bins=20, color='k')"
      ],
      "metadata": {
        "colab": {
          "base_uri": "https://localhost:8080/",
          "height": 283
        },
        "id": "GKWYmpb_pyrI",
        "outputId": "735724df-0b59-4a58-c1a0-0074af8ba56d"
      },
      "execution_count": 163,
      "outputs": [
        {
          "output_type": "execute_result",
          "data": {
            "text/plain": [
              "<matplotlib.axes._subplots.AxesSubplot at 0x7f6a7b6c5690>"
            ]
          },
          "metadata": {},
          "execution_count": 163
        },
        {
          "output_type": "display_data",
          "data": {
            "text/plain": [
              "<Figure size 432x288 with 1 Axes>"
            ],
            "image/png": "[encoded data removed]"
          },
          "metadata": {
            "needs_background": "light"
          }
        }
      ]
    },
    {
      "cell_type": "code",
      "source": [
        "sample.plot(kind=\"kde\", legend=None);"
      ],
      "metadata": {
        "colab": {
          "base_uri": "https://localhost:8080/",
          "height": 265
        },
        "id": "iF_3Vc9KqESD",
        "outputId": "85a22cc2-e1a2-4e53-dc80-7f947fe89112"
      },
      "execution_count": 164,
      "outputs": [
        {
          "output_type": "display_data",
          "data": {
            "text/plain": [
              "<Figure size 432x288 with 1 Axes>"
            ],
            "image/png": "[encoded data removed]"
          },
          "metadata": {
            "needs_background": "light"
          }
        }
      ]
    },
    {
      "cell_type": "markdown",
      "metadata": {
        "id": "Gg1_0y7ArVbQ"
      },
      "source": [
        "###PCA"
      ]
    },
    {
      "cell_type": "code",
      "execution_count": null,
      "metadata": {
        "id": "ZuBR6juWogj8"
      },
      "outputs": [],
      "source": [
        "from sklearn.decomposition import PCA\n",
        "pca = PCA()\n",
        "pca.fit_transform(X_train)\n",
        "\n",
        "#calculate remaining dimentions\n",
        "total = sum(pca.explained_variance_)\n",
        "current_variance = 0\n",
        "i = 0\n",
        "while current_variance/total < 0.90:\n",
        "  current_variance += pca.explained_variance_[i]\n",
        "  i += 1\n",
        "#PCA\n",
        "pca = PCA(n_components = i)\n",
        "X_train_pca = pca.fit_transform(X_train_scl)\n",
        "X_test_pca = pca.fit_transform(X_test_scl)"
      ]
    },
    {
      "cell_type": "code",
      "execution_count": null,
      "metadata": {
        "colab": {
          "base_uri": "https://localhost:8080/"
        },
        "id": "C9N2_R-WrxYk",
        "outputId": "33a35066-3be4-4970-9e34-e1cd167186f4"
      },
      "outputs": [
        {
          "output_type": "execute_result",
          "data": {
            "text/plain": [
              "(38, 22)"
            ]
          },
          "metadata": {},
          "execution_count": 53
        }
      ],
      "source": [
        "X_train_pca.shape"
      ]
    },
    {
      "cell_type": "markdown",
      "source": [
        "### Explore distribution of data through pca data "
      ],
      "metadata": {
        "id": "-yTntVpCNgjw"
      }
    },
    {
      "cell_type": "code",
      "source": [
        "#Let's do a pca first \n",
        "pca = PCA(n_components=3)\n",
        "pca.fit_transform(X_train_scl)\n",
        "print(pca.explained_variance_ratio_) # Small variance explained\n",
        "\n",
        "PCA_df = pd.DataFrame(data = pca.fit_transform(X_train_scl), \n",
        "                           columns = ['pc1', 'pc2', 'pc3'])\n",
        "\n",
        "train_target= df.iloc[:,-1]\n",
        "PCA_df = pd.concat([PCA_df, train_target], axis = 1)\n",
        "\n",
        "fig = plt.figure(figsize=(10,8))\n",
        "ax = fig.add_subplot(111, projection='3d')\n",
        "colors = {'ALL':'red', 'AML':'blue'}\n",
        "ax.scatter(PCA_df.pc1, PCA_df.pc2, PCA_df.pc3, \n",
        "           c = train_target.apply(lambda x: colors[x]))\n",
        "plt.title('First 3 Principal Components after PCA')\n",
        "ax.set_xlabel('PC1')\n",
        "ax.set_ylabel('PC2')\n",
        "ax.set_zlabel('PC3')\n",
        "ax.view_init(20, 80)\n",
        "plt.tight_layout\n",
        "plt.show()"
      ],
      "metadata": {
        "colab": {
          "base_uri": "https://localhost:8080/",
          "height": 483
        },
        "id": "27V9x6MBNf7L",
        "outputId": "1dde7ceb-728e-447e-d798-6b312d9dae22"
      },
      "execution_count": null,
      "outputs": [
        {
          "output_type": "stream",
          "name": "stdout",
          "text": [
            "[0.14987793 0.11977811 0.06600568]\n"
          ]
        },
        {
          "output_type": "display_data",
          "data": {
            "text/plain": [
              "<Figure size 720x576 with 1 Axes>"
            ],
            "image/png": "[encoded data removed]"
          },
          "metadata": {
            "needs_background": "light"
          }
        }
      ]
    },
    {
      "cell_type": "markdown",
      "metadata": {
        "id": "kYNR3qwYHVYG"
      },
      "source": [
        "##Classification"
      ]
    },
    {
      "cell_type": "code",
      "source": [
        "ROC_results = dict()\n",
        "PR_results = dict()"
      ],
      "metadata": {
        "id": "cs99Ym7xUkjm"
      },
      "execution_count": 65,
      "outputs": []
    },
    {
      "cell_type": "markdown",
      "metadata": {
        "id": "XnNfLYzhma1d"
      },
      "source": [
        "###Using SVM Methods"
      ]
    },
    {
      "cell_type": "code",
      "execution_count": 61,
      "metadata": {
        "id": "mjoTEi5Ujkew"
      },
      "outputs": [],
      "source": [
        "from sklearn import svm\n",
        "from sklearn.model_selection import GridSearchCV\n",
        "from sklearn.metrics import accuracy_score, confusion_matrix"
      ]
    },
    {
      "cell_type": "markdown",
      "metadata": {
        "id": "cSDl5vt601Am"
      },
      "source": [
        "#### Original"
      ]
    },
    {
      "cell_type": "code",
      "execution_count": 67,
      "metadata": {
        "colab": {
          "base_uri": "https://localhost:8080/"
        },
        "id": "clnnPvLa07rK",
        "outputId": "51228488-7943-44d4-f914-bc9b5bac7952"
      },
      "outputs": [
        {
          "output_type": "stream",
          "name": "stdout",
          "text": [
            "Fitting 10 folds for each of 120 candidates, totalling 1200 fits\n",
            "Best Parameters:\n",
            " {'C': 0.05, 'gamma': 1, 'kernel': 'linear'}\n",
            "Best Estimators:\n",
            " SVC(C=0.05, gamma=1, kernel='linear', probability=True, random_state=0)\n"
          ]
        }
      ],
      "source": [
        "# Grid Search\n",
        "# Parameter Grid\n",
        "param_grid_SVM_non_pca = {'kernel': ['linear', 'rbf', 'poly', 'sigmoid'], 'C': [0.05,0.1, 1, 10, 100], 'gamma': [1, 0.1, 0.01, 0.001, 0.00001, 10]} \n",
        "# Make grid search classifier\n",
        "clf_grid_SVM_non_pca = GridSearchCV(svm.SVC(probability=True,random_state=0), param_grid_SVM_non_pca, cv=10, verbose=1)\n",
        "\n",
        "# Train the classifier\n",
        "clf_grid_SVM_non_pca.fit(X_train_scl, y_train)\n",
        "\n",
        "# clf = grid.best_estimator_()\n",
        "print(\"Best Parameters:\\n\", clf_grid_SVM_non_pca.best_params_)\n",
        "print(\"Best Estimators:\\n\", clf_grid_SVM_non_pca.best_estimator_)"
      ]
    },
    {
      "cell_type": "code",
      "execution_count": 70,
      "metadata": {
        "colab": {
          "base_uri": "https://localhost:8080/"
        },
        "id": "dnryN46s1E65",
        "outputId": "256eecde-d6f2-417d-c748-5bb26abfe979"
      },
      "outputs": [
        {
          "output_type": "stream",
          "name": "stdout",
          "text": [
            "Accuracy:  0.7941176470588235\n"
          ]
        }
      ],
      "source": [
        "model_svm_with_non_pca_data = svm.SVC(**clf_grid_SVM_non_pca.best_params_, probability=True, random_state=0)\n",
        "model_svm_with_non_pca_data.fit(X_train_scl,y_train)\n",
        "pred = model_svm_with_non_pca_data.predict(X_test_scl)\n",
        "pred = pred.tolist()\n",
        "print('Accuracy: ', accuracy_score(y_test, pred))"
      ]
    },
    {
      "cell_type": "code",
      "source": [
        "probas = model_svm_with_non_pca_data.predict_proba(X_test_scl)[:,1]\n",
        "y_test_ = np.asarray(test_df.iloc[:,-1].values, dtype=\"int\")\n",
        "#ROC and AUC\n",
        "tpr, fpr, _ = roc_curve(y_test_, probas, pos_label=1)\n",
        "ROCAUC = roc_auc_score(y_test_, probas)\n",
        "ROC_results[\"SVM\"] = (tpr, fpr, ROCAUC)\n",
        "\n",
        "#PR\n",
        "precision, recall, _ = precision_recall_curve(y_test_, probas, pos_label=1)\n",
        "AUCPR = auc(recall, precision)\n",
        "PR_results[\"SVM\"] = (precision, recall, AUCPR)"
      ],
      "metadata": {
        "id": "CT3_fVjkT8DU"
      },
      "execution_count": 86,
      "outputs": []
    },
    {
      "cell_type": "code",
      "execution_count": 87,
      "metadata": {
        "colab": {
          "base_uri": "https://localhost:8080/"
        },
        "id": "uK4awob31RfP",
        "outputId": "d39d72e8-dd07-4e6e-9c42-fe6b3b9d6e3b"
      },
      "outputs": [
        {
          "output_type": "execute_result",
          "data": {
            "text/plain": [
              "array([[20,  0],\n",
              "       [ 7,  7]])"
            ]
          },
          "metadata": {},
          "execution_count": 87
        }
      ],
      "source": [
        "confusion_matrix(y_test, pred)"
      ]
    },
    {
      "cell_type": "markdown",
      "metadata": {
        "id": "QMkG4sjK057f"
      },
      "source": [
        "####PCA"
      ]
    },
    {
      "cell_type": "code",
      "execution_count": 91,
      "metadata": {
        "colab": {
          "base_uri": "https://localhost:8080/"
        },
        "id": "nrBPS9kRsmAk",
        "outputId": "1765d8f4-b28a-410c-90a1-2541b1c86ef3"
      },
      "outputs": [
        {
          "output_type": "stream",
          "name": "stdout",
          "text": [
            "Fitting 5 folds for each of 120 candidates, totalling 600 fits\n",
            "Best Parameters:\n",
            " {'C': 10, 'gamma': 0.001, 'kernel': 'sigmoid'}\n",
            "Best Estimators:\n",
            " SVC(C=10, gamma=0.001, kernel='sigmoid', probability=True, random_state=0)\n"
          ]
        }
      ],
      "source": [
        "# Grid Search\n",
        "# Parameter Grid\n",
        "param_grid_SVM_pca = {'kernel': ['linear', 'rbf', 'poly', 'sigmoid'], 'C': [0.05,0.1, 1, 10, 100], 'gamma': [1, 0.1, 0.01, 0.001, 0.00001, 10]} \n",
        "# Make grid search classifier\n",
        "clf_grid_SVM_pca = GridSearchCV(svm.SVC(probability=True,random_state=0), param_grid_SVM_pca, refit=True, verbose=1)\n",
        "\n",
        "# Train the classifier\n",
        "clf_grid_SVM_pca.fit(X_train_pca, y_train)\n",
        "\n",
        "# clf = grid.best_estimator_()\n",
        "print(\"Best Parameters:\\n\", clf_grid_SVM_pca.best_params_)\n",
        "print(\"Best Estimators:\\n\", clf_grid_SVM_pca.best_estimator_)"
      ]
    },
    {
      "cell_type": "code",
      "execution_count": 92,
      "metadata": {
        "colab": {
          "base_uri": "https://localhost:8080/"
        },
        "id": "ptdUC_-ev1CD",
        "outputId": "0d86d36a-668a-4c6b-c16e-08554b113904"
      },
      "outputs": [
        {
          "output_type": "stream",
          "name": "stdout",
          "text": [
            "Accuracy:  0.6176470588235294\n"
          ]
        }
      ],
      "source": [
        "model_svm_with_pca_data  = svm.SVC(**clf_grid_SVM_pca.best_params_, probability=True, random_state=0)\n",
        "model_svm_with_pca_data .fit(X_train_pca,y_train)\n",
        "pred = model_svm_with_pca_data .predict(X_test_pca)\n",
        "pred = pred.tolist()\n",
        "print('Accuracy: ', accuracy_score(y_test, pred))"
      ]
    },
    {
      "cell_type": "code",
      "source": [
        "probas = model_svm_with_pca_data.predict_proba(X_test_pca)[:,1]\n",
        "y_test_ = np.asarray(test_df.iloc[:,-1].values, dtype=\"int\")\n",
        "#ROC and AUC\n",
        "tpr, fpr, _ = roc_curve(y_test_, probas, pos_label=1)\n",
        "ROCAUC = roc_auc_score(y_test_, probas)\n",
        "ROC_results[\"SVM_PCA\"] = (tpr, fpr, ROCAUC)\n",
        "\n",
        "#PR\n",
        "precision, recall, _ = precision_recall_curve(y_test_, probas, pos_label=1)\n",
        "AUCPR = auc(recall, precision)\n",
        "PR_results[\"SVM_PCA\"] = (precision, recall, AUCPR)"
      ],
      "metadata": {
        "id": "2N8Qa-82XfFP"
      },
      "execution_count": 94,
      "outputs": []
    },
    {
      "cell_type": "code",
      "execution_count": 95,
      "metadata": {
        "colab": {
          "base_uri": "https://localhost:8080/"
        },
        "id": "quMDEgrwzjHO",
        "outputId": "50a63814-b92c-4e95-c15d-3fda4ac93eef"
      },
      "outputs": [
        {
          "output_type": "execute_result",
          "data": {
            "text/plain": [
              "array([[16,  4],\n",
              "       [ 9,  5]])"
            ]
          },
          "metadata": {},
          "execution_count": 95
        }
      ],
      "source": [
        "confusion_matrix(y_test, pred)"
      ]
    },
    {
      "cell_type": "markdown",
      "metadata": {
        "id": "yVA9mormiiP8"
      },
      "source": [
        "###Using Kmeans Method"
      ]
    },
    {
      "cell_type": "code",
      "execution_count": 97,
      "metadata": {
        "id": "CUhz798zzuyp"
      },
      "outputs": [],
      "source": [
        "from sklearn.cluster import KMeans\n"
      ]
    },
    {
      "cell_type": "markdown",
      "metadata": {
        "id": "nPKbmLWetua0"
      },
      "source": [
        "####Original"
      ]
    },
    {
      "cell_type": "code",
      "execution_count": 98,
      "metadata": {
        "colab": {
          "base_uri": "https://localhost:8080/"
        },
        "id": "jxSKvKN0vE4p",
        "outputId": "0fa9e732-07e0-453d-aaf9-5430fde76e21"
      },
      "outputs": [
        {
          "output_type": "stream",
          "name": "stdout",
          "text": [
            "Accuracy:  0.2647058823529412\n"
          ]
        }
      ],
      "source": [
        "model_KMeans_with_non_pca_data = KMeans(n_clusters=2, random_state=0)\n",
        "model_KMeans_with_non_pca_data.fit_transform(X_train_scl)\n",
        "pred = model_KMeans_with_non_pca_data.predict(X_test_scl)\n",
        "print('Accuracy: ', accuracy_score(y_test, pred))"
      ]
    },
    {
      "cell_type": "code",
      "execution_count": 100,
      "metadata": {
        "colab": {
          "base_uri": "https://localhost:8080/"
        },
        "id": "zADg3MXVvb_T",
        "outputId": "bc4e7ea7-206e-4be9-d8c9-78be4f6fd3ad"
      },
      "outputs": [
        {
          "output_type": "execute_result",
          "data": {
            "text/plain": [
              "array([[ 4, 16],\n",
              "       [ 9,  5]])"
            ]
          },
          "metadata": {},
          "execution_count": 100
        }
      ],
      "source": [
        "confusion_matrix(y_test, pred)"
      ]
    },
    {
      "cell_type": "markdown",
      "metadata": {
        "id": "EWR93AFYwd0h"
      },
      "source": [
        "####PCA"
      ]
    },
    {
      "cell_type": "code",
      "execution_count": 101,
      "metadata": {
        "colab": {
          "base_uri": "https://localhost:8080/"
        },
        "id": "dwQOS7x6wc_q",
        "outputId": "77705d7a-3c49-44ee-a6ff-1a9608a9c57f"
      },
      "outputs": [
        {
          "output_type": "stream",
          "name": "stdout",
          "text": [
            "Accuracy:  0.7352941176470589\n"
          ]
        }
      ],
      "source": [
        "model_KMeans_with_pca_data = KMeans(n_clusters=2, random_state=0)\n",
        "model_KMeans_with_pca_data.fit_transform(X_train_pca)\n",
        "pred = model_KMeans_with_pca_data.predict(X_test_pca)\n",
        "print('Accuracy: ', accuracy_score(y_test, pred))"
      ]
    },
    {
      "cell_type": "code",
      "execution_count": 102,
      "metadata": {
        "colab": {
          "base_uri": "https://localhost:8080/"
        },
        "id": "R4hMYTi2wj5J",
        "outputId": "aeadc9ff-e861-43e3-aef9-ebb661077197"
      },
      "outputs": [
        {
          "output_type": "execute_result",
          "data": {
            "text/plain": [
              "array([[16,  4],\n",
              "       [ 5,  9]])"
            ]
          },
          "metadata": {},
          "execution_count": 102
        }
      ],
      "source": [
        "confusion_matrix(y_test, pred)"
      ]
    },
    {
      "cell_type": "markdown",
      "metadata": {
        "id": "D00Z6U0iQvhk"
      },
      "source": [
        "###Using Random Forest Method\n",
        "\n",
        "\n"
      ]
    },
    {
      "cell_type": "code",
      "execution_count": 108,
      "metadata": {
        "id": "zGfncXcAAFLI"
      },
      "outputs": [],
      "source": [
        "from sklearn.ensemble import RandomForestClassifier"
      ]
    },
    {
      "cell_type": "code",
      "execution_count": 109,
      "metadata": {
        "colab": {
          "base_uri": "https://localhost:8080/"
        },
        "id": "_RzQDbEGwtyV",
        "outputId": "50860877-904b-45f3-d90b-bad3aefded86"
      },
      "outputs": [
        {
          "output_type": "stream",
          "name": "stdout",
          "text": [
            "Best Parameters:\n",
            " {'bootstrap': False, 'max_features': 0.6, 'min_samples_leaf': 8, 'min_samples_split': 3, 'n_estimators': 70}\n",
            "Best Estimators:\n",
            " RandomForestClassifier(bootstrap=False, max_features=0.6, min_samples_leaf=8,\n",
            "                       min_samples_split=3, n_estimators=70, random_state=0)\n"
          ]
        }
      ],
      "source": [
        "# Hyperparameters search grid \n",
        "rf_param_grid = {'bootstrap': [False, True],\n",
        "         'n_estimators': [60, 70, 80, 90, 100],\n",
        "         'max_features': [0.6, 0.65, 0.7, 0.75, 0.8],\n",
        "         'min_samples_leaf': [8, 10, 12, 14],\n",
        "         'min_samples_split': [3, 5, 7]\n",
        "        }\n",
        "\n",
        "\n",
        "# Create the GridSearchCV object\n",
        "model_Random_Forest_data = GridSearchCV(RandomForestClassifier(random_state=0), param_grid=rf_param_grid, cv=3, scoring='accuracy')\n",
        "\n",
        "# Fine-tune the hyperparameters\n",
        "model_Random_Forest_data.fit(X_train, y_train)\n",
        "print(\"Best Parameters:\\n\", model_Random_Forest_data.best_params_)\n",
        "print(\"Best Estimators:\\n\", model_Random_Forest_data.best_estimator_)"
      ]
    },
    {
      "cell_type": "code",
      "execution_count": 110,
      "metadata": {
        "colab": {
          "base_uri": "https://localhost:8080/"
        },
        "id": "Las_6sKfAURD",
        "outputId": "da5c402c-bf92-4b7c-b1b6-8d1741685938"
      },
      "outputs": [
        {
          "output_type": "stream",
          "name": "stdout",
          "text": [
            "Accuracy:  0.9117647058823529\n"
          ]
        }
      ],
      "source": [
        "# Get the best model\n",
        "model_Radom_Forest_data_best = model_Random_Forest_data.best_estimator_\n",
        "\n",
        "# Make predictions using the optimised parameters\n",
        "pred = model_Radom_Forest_data_best.predict(X_test)\n",
        "print('Accuracy: ', accuracy_score(y_test, pred))"
      ]
    },
    {
      "cell_type": "code",
      "source": [
        "probas = model_Radom_Forest_data_best.predict_proba(X_test_scl)[:,1]\n",
        "y_test_ = np.asarray(test_df.iloc[:,-1].values, dtype=\"int\")\n",
        "#ROC and AUC\n",
        "tpr, fpr, _ = roc_curve(y_test_, probas, pos_label=1)\n",
        "ROCAUC = roc_auc_score(y_test_, probas)\n",
        "ROC_results[\"Random_Forest\"] = (tpr, fpr, ROCAUC)\n",
        "\n",
        "#PR\n",
        "precision, recall, _ = precision_recall_curve(y_test_, probas, pos_label=1)\n",
        "AUCPR = auc(recall, precision)\n",
        "PR_results[\"Random_Forest\"] = (precision, recall, AUCPR)"
      ],
      "metadata": {
        "id": "pqTM8y-vYTzN"
      },
      "execution_count": 111,
      "outputs": []
    },
    {
      "cell_type": "code",
      "execution_count": 112,
      "metadata": {
        "colab": {
          "base_uri": "https://localhost:8080/"
        },
        "id": "zR44F_VRA1KQ",
        "outputId": "7a844ef7-6d55-4f7e-8919-c6e71f92adbc"
      },
      "outputs": [
        {
          "output_type": "execute_result",
          "data": {
            "text/plain": [
              "array([[18,  2],\n",
              "       [ 1, 13]])"
            ]
          },
          "metadata": {},
          "execution_count": 112
        }
      ],
      "source": [
        "confusion_matrix(y_test, pred)"
      ]
    },
    {
      "cell_type": "markdown",
      "metadata": {
        "id": "iLao_pbGHJmk"
      },
      "source": [
        "###Using GradientBoostingClassifier"
      ]
    },
    {
      "cell_type": "code",
      "execution_count": 114,
      "metadata": {
        "id": "N9oFhVM4svbI"
      },
      "outputs": [],
      "source": [
        "from sklearn.ensemble import GradientBoostingClassifier "
      ]
    },
    {
      "cell_type": "markdown",
      "metadata": {
        "id": "fw79rk8yyB1W"
      },
      "source": [
        "####Original"
      ]
    },
    {
      "cell_type": "code",
      "execution_count": 115,
      "metadata": {
        "colab": {
          "base_uri": "https://localhost:8080/"
        },
        "id": "wpRYG-m4u7SE",
        "outputId": "c15d248b-1bc6-4800-9f91-2b211e11bb69"
      },
      "outputs": [
        {
          "output_type": "stream",
          "name": "stdout",
          "text": [
            "Accuracy:  0.9117647058823529\n"
          ]
        }
      ],
      "source": [
        "model_GradientBoostingClassifier_non_pca_data = GradientBoostingClassifier(max_depth=5, loss='exponential', n_estimators=50, learning_rate=0.8, random_state=0)\n",
        "model_GradientBoostingClassifier_non_pca_data.fit(X_train_scl, y_train)\n",
        "pred = model_GradientBoostingClassifier_non_pca_data.predict(X_test_scl)\n",
        "print('Accuracy: ', accuracy_score(y_test, pred))"
      ]
    },
    {
      "cell_type": "code",
      "source": [
        "probas = model_GradientBoostingClassifier_non_pca_data.predict_proba(X_test_scl)[:,1]\n",
        "y_test_ = np.asarray(test_df.iloc[:,-1].values, dtype=\"int\")\n",
        "#ROC and AUC\n",
        "tpr, fpr, _ = roc_curve(y_test_, probas, pos_label=1)\n",
        "ROCAUC = roc_auc_score(y_test_, probas)\n",
        "ROC_results[\"Gradient_Boosting_Classifier\"] = (tpr, fpr, ROCAUC)\n",
        "\n",
        "#PR\n",
        "precision, recall, _ = precision_recall_curve(y_test_, probas, pos_label=1)\n",
        "AUCPR = auc(recall, precision)\n",
        "PR_results[\"Gradient_Boosting_Classifier\"] = (precision, recall, AUCPR)"
      ],
      "metadata": {
        "id": "z_yGaJ_4es_q"
      },
      "execution_count": 116,
      "outputs": []
    },
    {
      "cell_type": "code",
      "source": [
        "confusion_matrix(y_test, pred)"
      ],
      "metadata": {
        "colab": {
          "base_uri": "https://localhost:8080/"
        },
        "id": "VDKPQT5kBOec",
        "outputId": "eae27230-60bc-4cd1-d58e-4bb051e37027"
      },
      "execution_count": 117,
      "outputs": [
        {
          "output_type": "execute_result",
          "data": {
            "text/plain": [
              "array([[18,  2],\n",
              "       [ 1, 13]])"
            ]
          },
          "metadata": {},
          "execution_count": 117
        }
      ]
    },
    {
      "cell_type": "markdown",
      "metadata": {
        "id": "1JqNr8SnyGc7"
      },
      "source": [
        "####PCA"
      ]
    },
    {
      "cell_type": "code",
      "execution_count": 118,
      "metadata": {
        "colab": {
          "base_uri": "https://localhost:8080/"
        },
        "id": "sADx2ZtNyINX",
        "outputId": "bcdfb4ea-03b6-4d37-a1be-9627bf93358d"
      },
      "outputs": [
        {
          "output_type": "stream",
          "name": "stdout",
          "text": [
            "Accuracy:  0.5\n"
          ]
        }
      ],
      "source": [
        "model_GradientBoostingClassifier_pca_data= GradientBoostingClassifier(max_depth=5, loss='exponential', n_estimators=50, learning_rate=0.8, random_state=0)\n",
        "model_GradientBoostingClassifier_pca_data.fit(X_train_pca, y_train)\n",
        "pred = model_GradientBoostingClassifier_pca_data.predict(X_test_pca)\n",
        "print('Accuracy: ', accuracy_score(y_test, pred))"
      ]
    },
    {
      "cell_type": "code",
      "source": [
        "probas = model_GradientBoostingClassifier_pca_data.predict_proba(X_test_pca)[:,1]\n",
        "y_test_ = np.asarray(test_df.iloc[:,-1].values, dtype=\"int\")\n",
        "#ROC and AUC\n",
        "tpr, fpr, _ = roc_curve(y_test_, probas, pos_label=1)\n",
        "ROCAUC = roc_auc_score(y_test_, probas)\n",
        "ROC_results[\"Gradient_Boosting_Classifier_PCA\"] = (tpr, fpr, ROCAUC)\n",
        "\n",
        "#PR\n",
        "precision, recall, _ = precision_recall_curve(y_test_, probas, pos_label=1)\n",
        "AUCPR = auc(recall, precision)\n",
        "PR_results[\"Gradient_Boosting_Classifier_PCA\"] = (precision, recall, AUCPR)"
      ],
      "metadata": {
        "id": "mkhsZxOhh0o7"
      },
      "execution_count": 119,
      "outputs": []
    },
    {
      "cell_type": "code",
      "execution_count": 120,
      "metadata": {
        "colab": {
          "base_uri": "https://localhost:8080/"
        },
        "id": "fL16JxlQyTqF",
        "outputId": "47dee2ff-ed3b-4945-b193-bd955183af9a"
      },
      "outputs": [
        {
          "output_type": "execute_result",
          "data": {
            "text/plain": [
              "array([[13,  7],\n",
              "       [10,  4]])"
            ]
          },
          "metadata": {},
          "execution_count": 120
        }
      ],
      "source": [
        "confusion_matrix(y_test, pred)"
      ]
    },
    {
      "cell_type": "markdown",
      "metadata": {
        "id": "AgWSdIQpxhtC"
      },
      "source": [
        "###Using XGBoost"
      ]
    },
    {
      "cell_type": "code",
      "execution_count": 122,
      "metadata": {
        "id": "LQksd_6_xoMM"
      },
      "outputs": [],
      "source": [
        "import xgboost "
      ]
    },
    {
      "cell_type": "markdown",
      "metadata": {
        "id": "toLlAdL8zN7f"
      },
      "source": [
        "####Original"
      ]
    },
    {
      "cell_type": "code",
      "execution_count": 123,
      "metadata": {
        "colab": {
          "base_uri": "https://localhost:8080/"
        },
        "id": "EMWm4M81xrky",
        "outputId": "a4b3f611-bf1c-4e3c-e1b7-8686c9f26505"
      },
      "outputs": [
        {
          "output_type": "stream",
          "name": "stdout",
          "text": [
            "Accuracy:  0.9117647058823529\n"
          ]
        }
      ],
      "source": [
        "model_XGBoost_non_pca_data=xgboost.XGBClassifier(random_state=0)\n",
        "model_XGBoost_non_pca_data.fit(X_train_scl, y_train)\n",
        "pred = model_XGBoost_non_pca_data.predict(X_test_scl)\n",
        "print('Accuracy: ', accuracy_score(y_test, pred))"
      ]
    },
    {
      "cell_type": "code",
      "source": [
        "probas = model_XGBoost_non_pca_data.predict_proba(X_test_scl)[:,1]\n",
        "y_test_ = np.asarray(test_df.iloc[:,-1].values, dtype=\"int\")\n",
        "#ROC and AUC\n",
        "tpr, fpr, _ = roc_curve(y_test_, probas, pos_label=1)\n",
        "ROCAUC = roc_auc_score(y_test_, probas)\n",
        "ROC_results[\"XGBoost\"] = (tpr, fpr, ROCAUC)\n",
        "\n",
        "#PR\n",
        "precision, recall, _ = precision_recall_curve(y_test_, probas, pos_label=1)\n",
        "AUCPR = auc(recall, precision)\n",
        "PR_results[\"XGBoost\"] = (precision, recall, AUCPR)"
      ],
      "metadata": {
        "id": "DiQEdKWNiPFM"
      },
      "execution_count": 124,
      "outputs": []
    },
    {
      "cell_type": "code",
      "source": [
        "confusion_matrix(y_test, pred)"
      ],
      "metadata": {
        "colab": {
          "base_uri": "https://localhost:8080/"
        },
        "id": "laKHQ81FCkBy",
        "outputId": "7a850981-f5b4-493e-fe5e-408cf0296fb3"
      },
      "execution_count": 125,
      "outputs": [
        {
          "output_type": "execute_result",
          "data": {
            "text/plain": [
              "array([[18,  2],\n",
              "       [ 1, 13]])"
            ]
          },
          "metadata": {},
          "execution_count": 125
        }
      ]
    },
    {
      "cell_type": "markdown",
      "source": [
        "####PCA\n"
      ],
      "metadata": {
        "id": "UcKvyFgQCxIy"
      }
    },
    {
      "cell_type": "code",
      "source": [
        "model_XGBoost_pca_data=xgboost.XGBClassifier(random_state=0)\n",
        "model_XGBoost_pca_data.fit(X_train_pca, y_train)\n",
        "pred = model_XGBoost_pca_data.predict(X_test_pca)\n",
        "print('Accuracy: ', accuracy_score(y_test, pred))"
      ],
      "metadata": {
        "colab": {
          "base_uri": "https://localhost:8080/"
        },
        "id": "YDhpvSJCCzfe",
        "outputId": "b9a8483d-efda-4c47-c750-10511acc1cfa"
      },
      "execution_count": 126,
      "outputs": [
        {
          "output_type": "stream",
          "name": "stdout",
          "text": [
            "Accuracy:  0.5\n"
          ]
        }
      ]
    },
    {
      "cell_type": "code",
      "source": [
        "probas = model_XGBoost_pca_data.predict_proba(X_test_pca)[:,1]\n",
        "y_test_ = np.asarray(test_df.iloc[:,-1].values, dtype=\"int\")\n",
        "#ROC and AUC\n",
        "tpr, fpr, _ = roc_curve(y_test_, probas, pos_label=1)\n",
        "ROCAUC = roc_auc_score(y_test_, probas)\n",
        "ROC_results[\"XGBoost_PCA\"] = (tpr, fpr, ROCAUC)\n",
        "\n",
        "#PR\n",
        "precision, recall, _ = precision_recall_curve(y_test_, probas, pos_label=1)\n",
        "AUCPR = auc(recall, precision)\n",
        "PR_results[\"XGBoost_PCA\"] = (precision, recall, AUCPR)"
      ],
      "metadata": {
        "id": "BdDtCHLKjWTs"
      },
      "execution_count": 127,
      "outputs": []
    },
    {
      "cell_type": "code",
      "source": [
        "confusion_matrix(y_test, pred)"
      ],
      "metadata": {
        "colab": {
          "base_uri": "https://localhost:8080/"
        },
        "id": "-bgrEgP7C4jr",
        "outputId": "77b63b4a-d486-4809-fa36-a836bdb49ae3"
      },
      "execution_count": 128,
      "outputs": [
        {
          "output_type": "execute_result",
          "data": {
            "text/plain": [
              "array([[15,  5],\n",
              "       [12,  2]])"
            ]
          },
          "metadata": {},
          "execution_count": 128
        }
      ]
    },
    {
      "cell_type": "markdown",
      "metadata": {
        "id": "GupFMmHgGnJ5"
      },
      "source": [
        "###Using Neural Network"
      ]
    },
    {
      "cell_type": "code",
      "source": [
        "from tensorflow import keras"
      ],
      "metadata": {
        "id": "eoObyx-NGrPa"
      },
      "execution_count": 129,
      "outputs": []
    },
    {
      "cell_type": "markdown",
      "source": [
        "####Original"
      ],
      "metadata": {
        "id": "1puNqiYcEvo4"
      }
    },
    {
      "cell_type": "code",
      "source": [
        "NN_model = keras.Sequential([\n",
        "    keras.layers.Dense(32, activation='relu', input_shape=X_train_scl[1].shape),\n",
        "    keras.layers.Dense(16, activation='relu'),\n",
        "    keras.layers.Dense(1, activation='sigmoid')\n",
        "])"
      ],
      "metadata": {
        "id": "NNWBmm92EvR0"
      },
      "execution_count": 130,
      "outputs": []
    },
    {
      "cell_type": "code",
      "source": [
        "NN_model.compile(\n",
        "    loss='binary_crossentropy',\n",
        "    optimizer='adam',\n",
        "    metrics=['binary_accuracy']\n",
        ")"
      ],
      "metadata": {
        "id": "4EXw_AFVEuzw"
      },
      "execution_count": 131,
      "outputs": []
    },
    {
      "cell_type": "code",
      "source": [
        "early_stopping = keras.callbacks.EarlyStopping(\n",
        "    patience=5,\n",
        "    min_delta=0.005,\n",
        "    restore_best_weights=True,\n",
        ")"
      ],
      "metadata": {
        "id": "gzzfSZXzH8hi"
      },
      "execution_count": 132,
      "outputs": []
    },
    {
      "cell_type": "code",
      "source": [
        "train_history = NN_model.fit(\n",
        "    X_train_scl, y_train,\n",
        "    validation_data=(X_test_scl, y_test),\n",
        "    batch_size = 8,\n",
        "    epochs = 500,\n",
        "    callbacks=[early_stopping]\n",
        ")"
      ],
      "metadata": {
        "colab": {
          "base_uri": "https://localhost:8080/"
        },
        "id": "uF0n0hYwH-iv",
        "outputId": "c3edec89-1b3b-429c-e931-808e3245f40a"
      },
      "execution_count": 133,
      "outputs": [
        {
          "output_type": "stream",
          "name": "stdout",
          "text": [
            "Epoch 1/500\n",
            "5/5 [==============================] - 1s 53ms/step - loss: 0.4461 - binary_accuracy: 0.7895 - val_loss: 0.5268 - val_binary_accuracy: 0.7059\n",
            "Epoch 2/500\n",
            "5/5 [==============================] - 0s 10ms/step - loss: 0.0104 - binary_accuracy: 1.0000 - val_loss: 0.8113 - val_binary_accuracy: 0.7059\n",
            "Epoch 3/500\n",
            "5/5 [==============================] - 0s 10ms/step - loss: 0.0018 - binary_accuracy: 1.0000 - val_loss: 1.0365 - val_binary_accuracy: 0.7353\n",
            "Epoch 4/500\n",
            "5/5 [==============================] - 0s 10ms/step - loss: 5.1295e-04 - binary_accuracy: 1.0000 - val_loss: 1.1822 - val_binary_accuracy: 0.7059\n",
            "Epoch 5/500\n",
            "5/5 [==============================] - 0s 13ms/step - loss: 2.1156e-04 - binary_accuracy: 1.0000 - val_loss: 1.2763 - val_binary_accuracy: 0.7059\n",
            "Epoch 6/500\n",
            "5/5 [==============================] - 0s 15ms/step - loss: 1.2271e-04 - binary_accuracy: 1.0000 - val_loss: 1.3361 - val_binary_accuracy: 0.7059\n"
          ]
        }
      ]
    },
    {
      "cell_type": "code",
      "source": [
        "pred = np.asarray(NN_model.predict(X_test_scl)>0.5, dtype=\"int\")\n",
        "print('Accuracy: ', accuracy_score(y_test, pred))"
      ],
      "metadata": {
        "colab": {
          "base_uri": "https://localhost:8080/"
        },
        "id": "quto0nw6IEdE",
        "outputId": "3d323d41-e5a0-47fc-9a22-56cb0126d4fe"
      },
      "execution_count": 134,
      "outputs": [
        {
          "output_type": "stream",
          "name": "stdout",
          "text": [
            "Accuracy:  0.7058823529411765\n"
          ]
        }
      ]
    },
    {
      "cell_type": "code",
      "source": [
        "confusion_matrix(y_test, pred)"
      ],
      "metadata": {
        "colab": {
          "base_uri": "https://localhost:8080/"
        },
        "id": "_kRWGCpXIIGd",
        "outputId": "023943a3-8ef1-49dc-9fa5-6d640be3f042"
      },
      "execution_count": 135,
      "outputs": [
        {
          "output_type": "execute_result",
          "data": {
            "text/plain": [
              "array([[17,  3],\n",
              "       [ 7,  7]])"
            ]
          },
          "metadata": {},
          "execution_count": 135
        }
      ]
    },
    {
      "cell_type": "markdown",
      "source": [
        "##Visualize Results"
      ],
      "metadata": {
        "id": "_-M6SrCKjoWO"
      }
    },
    {
      "cell_type": "code",
      "source": [
        "names = ['SVM',\n",
        "         'SVM_PCA', \n",
        "         'Random_Forest', \n",
        "         'Gradient_Boosting_Classifier', \n",
        "         'Gradient_Boosting_Classifier_PCA', \n",
        "         'XGBoost',\n",
        "         'XGBoost_PCA'\n",
        "        ]"
      ],
      "metadata": {
        "id": "CPm5pN5yjvVE"
      },
      "execution_count": 136,
      "outputs": []
    },
    {
      "cell_type": "code",
      "execution_count": 137,
      "metadata": {
        "id": "qfxLyIrIA4Qw",
        "colab": {
          "base_uri": "https://localhost:8080/",
          "height": 458
        },
        "outputId": "433493b8-15b2-4fdd-df1a-88a76c96628b"
      },
      "outputs": [
        {
          "output_type": "display_data",
          "data": {
            "text/plain": [
              "<Figure size 1080x504 with 2 Axes>"
            ],
            "image/png": "[encoded data removed]"
          },
          "metadata": {
            "needs_background": "light"
          }
        }
      ],
      "source": [
        "fig, (roc,pr) = plt.subplots(nrows=1, ncols=2, sharex=True, figsize=(15, 7))\n",
        "\n",
        "#ROC\n",
        "for clf in ROC_results.keys():\n",
        "    roc.plot(ROC_results[clf][0], ROC_results[clf][1], label=f'{clf} (ROCAUC = {round(ROC_results[clf][2],3)})');\n",
        "\n",
        "roc.set_xlabel('False Positive Rate')\n",
        "roc.set_ylabel('True Positive Rate')\n",
        "roc.set_title('ROC curve')\n",
        "roc.legend();\n",
        "\n",
        "#PR\n",
        "for clf in PR_results.keys():\n",
        "    pr.plot(PR_results[clf][1], PR_results[clf][0], label=f'{clf} (AUC = {round(PR_results[clf][2],3)})')\n",
        "\n",
        "pr.set_xlabel('Recall')\n",
        "pr.set_ylabel('Precision')\n",
        "pr.set_title('PR curve')\n",
        "pr.legend();\n"
      ]
    },
    {
      "cell_type": "code",
      "source": [],
      "metadata": {
        "id": "Ni4P1_YukHu1"
      },
      "execution_count": null,
      "outputs": []
    }
  ],
  "metadata": {
    "colab": {
      "toc_visible": true,
      "provenance": [],
      "collapsed_sections": []
    },
    "kernelspec": {
      "display_name": "Python 3",
      "name": "python3"
    },
    "language_info": {
      "name": "python"
    }
  },
  "nbformat": 4,
  "nbformat_minor": 0
}