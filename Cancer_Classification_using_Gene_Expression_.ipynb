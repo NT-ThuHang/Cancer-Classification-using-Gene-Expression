{
  "cells": [
    {
      "cell_type": "markdown",
      "metadata": {
        "id": "FmYkF8UwR_Hk"
      },
      "source": [
        "#Project Name: Molecular Classification of Cancer by Gene Expression Monitoring\n",
        "* Author: Nguyen Thi Thu Hang\n",
        "* Dataset: Gene expression dataset (Golub et al.)\n",
        "\n"
      ]
    },
    {
      "cell_type": "markdown",
      "metadata": {
        "id": "HFBIjAbPSce4"
      },
      "source": [
        "##About [Dataset](https://https://www.kaggle.com/datasets/crawford/gene-expression?select=data_set_ALL_AML_train.csv) \n",
        "This dataset comes from a proof-of-concept study published in 1999 by Golub et al. It showed how new cases of cancer could be classified by gene expression monitoring (via DNA microarray) and thereby provided a general approach for identifying new cancer classes and assigning tumors to known classes. These data were used to classify patients with acute myeloid leukemia (AML) and acute lymphoblastic leukemia (ALL).\n",
        "\n",
        "Golub et al \"Molecular Classification of Cancer: Class Discovery and Class\n",
        "Prediction by Gene Expression Monitoring\"\n",
        "\n",
        "There are two datasets containing the initial (training, 38 samples) and independent (test, 34 samples) datasets used in the paper. These datasets contain measurements corresponding to ALL and AML samples from Bone Marrow and Peripheral Blood. Intensity values have been re-scaled such that overall intensities for each chip are equivalent.\n"
      ]
    },
    {
      "cell_type": "markdown",
      "metadata": {
        "id": "nBmO860DVohS"
      },
      "source": [
        "## Set Up"
      ]
    },
    {
      "cell_type": "code",
      "execution_count": 1,
      "metadata": {
        "colab": {
          "base_uri": "https://localhost:8080/"
        },
        "id": "GndFnjBiYMyo",
        "outputId": "c6187145-1b51-4e4a-8535-98b6d43f5664"
      },
      "outputs": [
        {
          "output_type": "stream",
          "name": "stdout",
          "text": [
            "Cloning into 'Cancer-Classification-using-Gene-Expression'...\n",
            "remote: Enumerating objects: 16, done.\u001b[K\n",
            "remote: Counting objects: 100% (16/16), done.\u001b[K\n",
            "remote: Compressing objects: 100% (12/12), done.\u001b[K\n",
            "remote: Total 16 (delta 0), reused 0 (delta 0), pack-reused 0\u001b[K\n",
            "Unpacking objects: 100% (16/16), done.\n",
            "/content/Cancer-Classification-using-Gene-Expression\n"
          ]
        }
      ],
      "source": [
        "!git clone https://github.com/NT-ThuHang/Cancer-Classification-using-Gene-Expression\n",
        "%cd Cancer-Classification-using-Gene-Expression"
      ]
    },
    {
      "cell_type": "markdown",
      "metadata": {
        "id": "nNuKQm4K93Em"
      },
      "source": [
        "##Import library"
      ]
    },
    {
      "cell_type": "code",
      "execution_count": 2,
      "metadata": {
        "id": "G-fZMFRD4KOF"
      },
      "outputs": [],
      "source": [
        "import os\n",
        "import time\n",
        "import random\n",
        "import numpy as np\n",
        "import pandas as pd\n",
        "import seaborn as sns\n",
        "import matplotlib.pyplot as plt\n",
        "%matplotlib inline\n",
        "from sklearn.metrics import classification_report, confusion_matrix, roc_auc_score, precision_recall_curve, roc_curve, auc"
      ]
    },
    {
      "cell_type": "code",
      "execution_count": 3,
      "metadata": {
        "id": "-qdf3Trg-iKn"
      },
      "outputs": [],
      "source": [
        "np.random.seed(42)"
      ]
    },
    {
      "cell_type": "markdown",
      "metadata": {
        "id": "Eto5hIz__JKg"
      },
      "source": [
        "##Load Dataset"
      ]
    },
    {
      "cell_type": "code",
      "execution_count": 4,
      "metadata": {
        "id": "FXeD62-O-4kA"
      },
      "outputs": [],
      "source": [
        "train_df = pd.read_csv(\"./Dataset/data_set_ALL_AML_train.csv\")\n",
        "test_df = pd.read_csv(\"./Dataset/data_set_ALL_AML_independent.csv\")\n",
        "patient_number = pd.read_csv(\"./Dataset/actual.csv\")\n",
        "patient_number.columns = [\"index\",\"cancer_type\"]"
      ]
    },
    {
      "cell_type": "code",
      "execution_count": 5,
      "metadata": {
        "colab": {
          "base_uri": "https://localhost:8080/",
          "height": 401
        },
        "id": "_G7U5zH8dozQ",
        "outputId": "9087882b-5377-4309-fd6c-05469a1113a8"
      },
      "outputs": [
        {
          "output_type": "stream",
          "name": "stdout",
          "text": [
            "Shape of train_df  (7129, 78)\n"
          ]
        },
        {
          "output_type": "execute_result",
          "data": {
            "text/plain": [
              "                      Gene Description Gene Accession Number    1 call    2  \\\n",
              "0  AFFX-BioB-5_at (endogenous control)        AFFX-BioB-5_at -214    A -139   \n",
              "1  AFFX-BioB-M_at (endogenous control)        AFFX-BioB-M_at -153    A  -73   \n",
              "2  AFFX-BioB-3_at (endogenous control)        AFFX-BioB-3_at  -58    A   -1   \n",
              "3  AFFX-BioC-5_at (endogenous control)        AFFX-BioC-5_at   88    A  283   \n",
              "4  AFFX-BioC-3_at (endogenous control)        AFFX-BioC-3_at -295    A -264   \n",
              "\n",
              "  call.1    3 call.2    4 call.3  ...   29 call.33   30 call.34   31 call.35  \\\n",
              "0      A  -76      A -135      A  ...   15       A -318       A  -32       A   \n",
              "1      A  -49      A -114      A  ... -114       A -192       A  -49       A   \n",
              "2      A -307      A  265      A  ...    2       A  -95       A   49       A   \n",
              "3      A  309      A   12      A  ...  193       A  312       A  230       P   \n",
              "4      A -376      A -419      A  ...  -51       A -139       A -367       A   \n",
              "\n",
              "    32 call.36   33 call.37  \n",
              "0 -124       A -135       A  \n",
              "1  -79       A -186       A  \n",
              "2  -37       A  -70       A  \n",
              "3  330       A  337       A  \n",
              "4 -188       A -407       A  \n",
              "\n",
              "[5 rows x 78 columns]"
            ],
            "text/html": [
              "\n",
              "  <div id=\"df-78928986-fc52-4848-975c-1770f37ec575\">\n",
              "    <div class=\"colab-df-container\">\n",
              "      <div>\n",
              "<style scoped>\n",
              "    .dataframe tbody tr th:only-of-type {\n",
              "        vertical-align: middle;\n",
              "    }\n",
              "\n",
              "    .dataframe tbody tr th {\n",
              "        vertical-align: top;\n",
              "    }\n",
              "\n",
              "    .dataframe thead th {\n",
              "        text-align: right;\n",
              "    }\n",
              "</style>\n",
              "<table border=\"1\" class=\"dataframe\">\n",
              "  <thead>\n",
              "    <tr style=\"text-align: right;\">\n",
              "      <th></th>\n",
              "      <th>Gene Description</th>\n",
              "      <th>Gene Accession Number</th>\n",
              "      <th>1</th>\n",
              "      <th>call</th>\n",
              "      <th>2</th>\n",
              "      <th>call.1</th>\n",
              "      <th>3</th>\n",
              "      <th>call.2</th>\n",
              "      <th>4</th>\n",
              "      <th>call.3</th>\n",
              "      <th>...</th>\n",
              "      <th>29</th>\n",
              "      <th>call.33</th>\n",
              "      <th>30</th>\n",
              "      <th>call.34</th>\n",
              "      <th>31</th>\n",
              "      <th>call.35</th>\n",
              "      <th>32</th>\n",
              "      <th>call.36</th>\n",
              "      <th>33</th>\n",
              "      <th>call.37</th>\n",
              "    </tr>\n",
              "  </thead>\n",
              "  <tbody>\n",
              "    <tr>\n",
              "      <th>0</th>\n",
              "      <td>AFFX-BioB-5_at (endogenous control)</td>\n",
              "      <td>AFFX-BioB-5_at</td>\n",
              "      <td>-214</td>\n",
              "      <td>A</td>\n",
              "      <td>-139</td>\n",
              "      <td>A</td>\n",
              "      <td>-76</td>\n",
              "      <td>A</td>\n",
              "      <td>-135</td>\n",
              "      <td>A</td>\n",
              "      <td>...</td>\n",
              "      <td>15</td>\n",
              "      <td>A</td>\n",
              "      <td>-318</td>\n",
              "      <td>A</td>\n",
              "      <td>-32</td>\n",
              "      <td>A</td>\n",
              "      <td>-124</td>\n",
              "      <td>A</td>\n",
              "      <td>-135</td>\n",
              "      <td>A</td>\n",
              "    </tr>\n",
              "    <tr>\n",
              "      <th>1</th>\n",
              "      <td>AFFX-BioB-M_at (endogenous control)</td>\n",
              "      <td>AFFX-BioB-M_at</td>\n",
              "      <td>-153</td>\n",
              "      <td>A</td>\n",
              "      <td>-73</td>\n",
              "      <td>A</td>\n",
              "      <td>-49</td>\n",
              "      <td>A</td>\n",
              "      <td>-114</td>\n",
              "      <td>A</td>\n",
              "      <td>...</td>\n",
              "      <td>-114</td>\n",
              "      <td>A</td>\n",
              "      <td>-192</td>\n",
              "      <td>A</td>\n",
              "      <td>-49</td>\n",
              "      <td>A</td>\n",
              "      <td>-79</td>\n",
              "      <td>A</td>\n",
              "      <td>-186</td>\n",
              "      <td>A</td>\n",
              "    </tr>\n",
              "    <tr>\n",
              "      <th>2</th>\n",
              "      <td>AFFX-BioB-3_at (endogenous control)</td>\n",
              "      <td>AFFX-BioB-3_at</td>\n",
              "      <td>-58</td>\n",
              "      <td>A</td>\n",
              "      <td>-1</td>\n",
              "      <td>A</td>\n",
              "      <td>-307</td>\n",
              "      <td>A</td>\n",
              "      <td>265</td>\n",
              "      <td>A</td>\n",
              "      <td>...</td>\n",
              "      <td>2</td>\n",
              "      <td>A</td>\n",
              "      <td>-95</td>\n",
              "      <td>A</td>\n",
              "      <td>49</td>\n",
              "      <td>A</td>\n",
              "      <td>-37</td>\n",
              "      <td>A</td>\n",
              "      <td>-70</td>\n",
              "      <td>A</td>\n",
              "    </tr>\n",
              "    <tr>\n",
              "      <th>3</th>\n",
              "      <td>AFFX-BioC-5_at (endogenous control)</td>\n",
              "      <td>AFFX-BioC-5_at</td>\n",
              "      <td>88</td>\n",
              "      <td>A</td>\n",
              "      <td>283</td>\n",
              "      <td>A</td>\n",
              "      <td>309</td>\n",
              "      <td>A</td>\n",
              "      <td>12</td>\n",
              "      <td>A</td>\n",
              "      <td>...</td>\n",
              "      <td>193</td>\n",
              "      <td>A</td>\n",
              "      <td>312</td>\n",
              "      <td>A</td>\n",
              "      <td>230</td>\n",
              "      <td>P</td>\n",
              "      <td>330</td>\n",
              "      <td>A</td>\n",
              "      <td>337</td>\n",
              "      <td>A</td>\n",
              "    </tr>\n",
              "    <tr>\n",
              "      <th>4</th>\n",
              "      <td>AFFX-BioC-3_at (endogenous control)</td>\n",
              "      <td>AFFX-BioC-3_at</td>\n",
              "      <td>-295</td>\n",
              "      <td>A</td>\n",
              "      <td>-264</td>\n",
              "      <td>A</td>\n",
              "      <td>-376</td>\n",
              "      <td>A</td>\n",
              "      <td>-419</td>\n",
              "      <td>A</td>\n",
              "      <td>...</td>\n",
              "      <td>-51</td>\n",
              "      <td>A</td>\n",
              "      <td>-139</td>\n",
              "      <td>A</td>\n",
              "      <td>-367</td>\n",
              "      <td>A</td>\n",
              "      <td>-188</td>\n",
              "      <td>A</td>\n",
              "      <td>-407</td>\n",
              "      <td>A</td>\n",
              "    </tr>\n",
              "  </tbody>\n",
              "</table>\n",
              "<p>5 rows × 78 columns</p>\n",
              "</div>\n",
              "      <button class=\"colab-df-convert\" onclick=\"convertToInteractive('df-78928986-fc52-4848-975c-1770f37ec575')\"\n",
              "              title=\"Convert this dataframe to an interactive table.\"\n",
              "              style=\"display:none;\">\n",
              "        \n",
              "  <svg xmlns=\"http://www.w3.org/2000/svg\" height=\"24px\"viewBox=\"0 0 24 24\"\n",
              "       width=\"24px\">\n",
              "    <path d=\"M0 0h24v24H0V0z\" fill=\"none\"/>\n",
              "    <path d=\"M18.56 5.44l.94 2.06.94-2.06 2.06-.94-2.06-.94-.94-2.06-.94 2.06-2.06.94zm-11 1L8.5 8.5l.94-2.06 2.06-.94-2.06-.94L8.5 2.5l-.94 2.06-2.06.94zm10 10l.94 2.06.94-2.06 2.06-.94-2.06-.94-.94-2.06-.94 2.06-2.06.94z\"/><path d=\"M17.41 7.96l-1.37-1.37c-.4-.4-.92-.59-1.43-.59-.52 0-1.04.2-1.43.59L10.3 9.45l-7.72 7.72c-.78.78-.78 2.05 0 2.83L4 21.41c.39.39.9.59 1.41.59.51 0 1.02-.2 1.41-.59l7.78-7.78 2.81-2.81c.8-.78.8-2.07 0-2.86zM5.41 20L4 18.59l7.72-7.72 1.47 1.35L5.41 20z\"/>\n",
              "  </svg>\n",
              "      </button>\n",
              "      \n",
              "  <style>\n",
              "    .colab-df-container {\n",
              "      display:flex;\n",
              "      flex-wrap:wrap;\n",
              "      gap: 12px;\n",
              "    }\n",
              "\n",
              "    .colab-df-convert {\n",
              "      background-color: #E8F0FE;\n",
              "      border: none;\n",
              "      border-radius: 50%;\n",
              "      cursor: pointer;\n",
              "      display: none;\n",
              "      fill: #1967D2;\n",
              "      height: 32px;\n",
              "      padding: 0 0 0 0;\n",
              "      width: 32px;\n",
              "    }\n",
              "\n",
              "    .colab-df-convert:hover {\n",
              "      background-color: #E2EBFA;\n",
              "      box-shadow: 0px 1px 2px rgba(60, 64, 67, 0.3), 0px 1px 3px 1px rgba(60, 64, 67, 0.15);\n",
              "      fill: #174EA6;\n",
              "    }\n",
              "\n",
              "    [theme=dark] .colab-df-convert {\n",
              "      background-color: #3B4455;\n",
              "      fill: #D2E3FC;\n",
              "    }\n",
              "\n",
              "    [theme=dark] .colab-df-convert:hover {\n",
              "      background-color: #434B5C;\n",
              "      box-shadow: 0px 1px 3px 1px rgba(0, 0, 0, 0.15);\n",
              "      filter: drop-shadow(0px 1px 2px rgba(0, 0, 0, 0.3));\n",
              "      fill: #FFFFFF;\n",
              "    }\n",
              "  </style>\n",
              "\n",
              "      <script>\n",
              "        const buttonEl =\n",
              "          document.querySelector('#df-78928986-fc52-4848-975c-1770f37ec575 button.colab-df-convert');\n",
              "        buttonEl.style.display =\n",
              "          google.colab.kernel.accessAllowed ? 'block' : 'none';\n",
              "\n",
              "        async function convertToInteractive(key) {\n",
              "          const element = document.querySelector('#df-78928986-fc52-4848-975c-1770f37ec575');\n",
              "          const dataTable =\n",
              "            await google.colab.kernel.invokeFunction('convertToInteractive',\n",
              "                                                     [key], {});\n",
              "          if (!dataTable) return;\n",
              "\n",
              "          const docLinkHtml = 'Like what you see? Visit the ' +\n",
              "            '<a target=\"_blank\" href=https://colab.research.google.com/notebooks/data_table.ipynb>data table notebook</a>'\n",
              "            + ' to learn more about interactive tables.';\n",
              "          element.innerHTML = '';\n",
              "          dataTable['output_type'] = 'display_data';\n",
              "          await google.colab.output.renderOutput(dataTable, element);\n",
              "          const docLink = document.createElement('div');\n",
              "          docLink.innerHTML = docLinkHtml;\n",
              "          element.appendChild(docLink);\n",
              "        }\n",
              "      </script>\n",
              "    </div>\n",
              "  </div>\n",
              "  "
            ]
          },
          "metadata": {},
          "execution_count": 5
        }
      ],
      "source": [
        "print(\"Shape of train_df \", train_df.shape)\n",
        "train_df.head()"
      ]
    },
    {
      "cell_type": "code",
      "execution_count": 6,
      "metadata": {
        "colab": {
          "base_uri": "https://localhost:8080/",
          "height": 401
        },
        "id": "b1p5SnzsdsTO",
        "outputId": "7837cc55-345a-4206-b4a0-be72365e934f"
      },
      "outputs": [
        {
          "output_type": "stream",
          "name": "stdout",
          "text": [
            "Shape of test_df  (7129, 70)\n"
          ]
        },
        {
          "output_type": "execute_result",
          "data": {
            "text/plain": [
              "                      Gene Description Gene Accession Number   39 call   40  \\\n",
              "0  AFFX-BioB-5_at (endogenous control)        AFFX-BioB-5_at -342    A  -87   \n",
              "1  AFFX-BioB-M_at (endogenous control)        AFFX-BioB-M_at -200    A -248   \n",
              "2  AFFX-BioB-3_at (endogenous control)        AFFX-BioB-3_at   41    A  262   \n",
              "3  AFFX-BioC-5_at (endogenous control)        AFFX-BioC-5_at  328    A  295   \n",
              "4  AFFX-BioC-3_at (endogenous control)        AFFX-BioC-3_at -224    A -226   \n",
              "\n",
              "  call.1   42 call.2   47 call.3  ...   65 call.29   66 call.30   63 call.31  \\\n",
              "0      A   22      A -243      A  ...  -62       A  -58       A -161       A   \n",
              "1      A -153      A -218      A  ... -198       A -217       A -215       A   \n",
              "2      A   17      A -163      A  ...   -5       A   63       A  -46       A   \n",
              "3      A  276      A  182      A  ...  141       A   95       A  146       A   \n",
              "4      A -211      A -289      A  ... -256       A -191       A -172       A   \n",
              "\n",
              "    64 call.32   62 call.33  \n",
              "0  -48       A -176       A  \n",
              "1 -531       A -284       A  \n",
              "2 -124       A  -81       A  \n",
              "3  431       A    9       A  \n",
              "4 -496       A -294       A  \n",
              "\n",
              "[5 rows x 70 columns]"
            ],
            "text/html": [
              "\n",
              "  <div id=\"df-23d85ec0-76b2-4bfb-af7e-049469215227\">\n",
              "    <div class=\"colab-df-container\">\n",
              "      <div>\n",
              "<style scoped>\n",
              "    .dataframe tbody tr th:only-of-type {\n",
              "        vertical-align: middle;\n",
              "    }\n",
              "\n",
              "    .dataframe tbody tr th {\n",
              "        vertical-align: top;\n",
              "    }\n",
              "\n",
              "    .dataframe thead th {\n",
              "        text-align: right;\n",
              "    }\n",
              "</style>\n",
              "<table border=\"1\" class=\"dataframe\">\n",
              "  <thead>\n",
              "    <tr style=\"text-align: right;\">\n",
              "      <th></th>\n",
              "      <th>Gene Description</th>\n",
              "      <th>Gene Accession Number</th>\n",
              "      <th>39</th>\n",
              "      <th>call</th>\n",
              "      <th>40</th>\n",
              "      <th>call.1</th>\n",
              "      <th>42</th>\n",
              "      <th>call.2</th>\n",
              "      <th>47</th>\n",
              "      <th>call.3</th>\n",
              "      <th>...</th>\n",
              "      <th>65</th>\n",
              "      <th>call.29</th>\n",
              "      <th>66</th>\n",
              "      <th>call.30</th>\n",
              "      <th>63</th>\n",
              "      <th>call.31</th>\n",
              "      <th>64</th>\n",
              "      <th>call.32</th>\n",
              "      <th>62</th>\n",
              "      <th>call.33</th>\n",
              "    </tr>\n",
              "  </thead>\n",
              "  <tbody>\n",
              "    <tr>\n",
              "      <th>0</th>\n",
              "      <td>AFFX-BioB-5_at (endogenous control)</td>\n",
              "      <td>AFFX-BioB-5_at</td>\n",
              "      <td>-342</td>\n",
              "      <td>A</td>\n",
              "      <td>-87</td>\n",
              "      <td>A</td>\n",
              "      <td>22</td>\n",
              "      <td>A</td>\n",
              "      <td>-243</td>\n",
              "      <td>A</td>\n",
              "      <td>...</td>\n",
              "      <td>-62</td>\n",
              "      <td>A</td>\n",
              "      <td>-58</td>\n",
              "      <td>A</td>\n",
              "      <td>-161</td>\n",
              "      <td>A</td>\n",
              "      <td>-48</td>\n",
              "      <td>A</td>\n",
              "      <td>-176</td>\n",
              "      <td>A</td>\n",
              "    </tr>\n",
              "    <tr>\n",
              "      <th>1</th>\n",
              "      <td>AFFX-BioB-M_at (endogenous control)</td>\n",
              "      <td>AFFX-BioB-M_at</td>\n",
              "      <td>-200</td>\n",
              "      <td>A</td>\n",
              "      <td>-248</td>\n",
              "      <td>A</td>\n",
              "      <td>-153</td>\n",
              "      <td>A</td>\n",
              "      <td>-218</td>\n",
              "      <td>A</td>\n",
              "      <td>...</td>\n",
              "      <td>-198</td>\n",
              "      <td>A</td>\n",
              "      <td>-217</td>\n",
              "      <td>A</td>\n",
              "      <td>-215</td>\n",
              "      <td>A</td>\n",
              "      <td>-531</td>\n",
              "      <td>A</td>\n",
              "      <td>-284</td>\n",
              "      <td>A</td>\n",
              "    </tr>\n",
              "    <tr>\n",
              "      <th>2</th>\n",
              "      <td>AFFX-BioB-3_at (endogenous control)</td>\n",
              "      <td>AFFX-BioB-3_at</td>\n",
              "      <td>41</td>\n",
              "      <td>A</td>\n",
              "      <td>262</td>\n",
              "      <td>A</td>\n",
              "      <td>17</td>\n",
              "      <td>A</td>\n",
              "      <td>-163</td>\n",
              "      <td>A</td>\n",
              "      <td>...</td>\n",
              "      <td>-5</td>\n",
              "      <td>A</td>\n",
              "      <td>63</td>\n",
              "      <td>A</td>\n",
              "      <td>-46</td>\n",
              "      <td>A</td>\n",
              "      <td>-124</td>\n",
              "      <td>A</td>\n",
              "      <td>-81</td>\n",
              "      <td>A</td>\n",
              "    </tr>\n",
              "    <tr>\n",
              "      <th>3</th>\n",
              "      <td>AFFX-BioC-5_at (endogenous control)</td>\n",
              "      <td>AFFX-BioC-5_at</td>\n",
              "      <td>328</td>\n",
              "      <td>A</td>\n",
              "      <td>295</td>\n",
              "      <td>A</td>\n",
              "      <td>276</td>\n",
              "      <td>A</td>\n",
              "      <td>182</td>\n",
              "      <td>A</td>\n",
              "      <td>...</td>\n",
              "      <td>141</td>\n",
              "      <td>A</td>\n",
              "      <td>95</td>\n",
              "      <td>A</td>\n",
              "      <td>146</td>\n",
              "      <td>A</td>\n",
              "      <td>431</td>\n",
              "      <td>A</td>\n",
              "      <td>9</td>\n",
              "      <td>A</td>\n",
              "    </tr>\n",
              "    <tr>\n",
              "      <th>4</th>\n",
              "      <td>AFFX-BioC-3_at (endogenous control)</td>\n",
              "      <td>AFFX-BioC-3_at</td>\n",
              "      <td>-224</td>\n",
              "      <td>A</td>\n",
              "      <td>-226</td>\n",
              "      <td>A</td>\n",
              "      <td>-211</td>\n",
              "      <td>A</td>\n",
              "      <td>-289</td>\n",
              "      <td>A</td>\n",
              "      <td>...</td>\n",
              "      <td>-256</td>\n",
              "      <td>A</td>\n",
              "      <td>-191</td>\n",
              "      <td>A</td>\n",
              "      <td>-172</td>\n",
              "      <td>A</td>\n",
              "      <td>-496</td>\n",
              "      <td>A</td>\n",
              "      <td>-294</td>\n",
              "      <td>A</td>\n",
              "    </tr>\n",
              "  </tbody>\n",
              "</table>\n",
              "<p>5 rows × 70 columns</p>\n",
              "</div>\n",
              "      <button class=\"colab-df-convert\" onclick=\"convertToInteractive('df-23d85ec0-76b2-4bfb-af7e-049469215227')\"\n",
              "              title=\"Convert this dataframe to an interactive table.\"\n",
              "              style=\"display:none;\">\n",
              "        \n",
              "  <svg xmlns=\"http://www.w3.org/2000/svg\" height=\"24px\"viewBox=\"0 0 24 24\"\n",
              "       width=\"24px\">\n",
              "    <path d=\"M0 0h24v24H0V0z\" fill=\"none\"/>\n",
              "    <path d=\"M18.56 5.44l.94 2.06.94-2.06 2.06-.94-2.06-.94-.94-2.06-.94 2.06-2.06.94zm-11 1L8.5 8.5l.94-2.06 2.06-.94-2.06-.94L8.5 2.5l-.94 2.06-2.06.94zm10 10l.94 2.06.94-2.06 2.06-.94-2.06-.94-.94-2.06-.94 2.06-2.06.94z\"/><path d=\"M17.41 7.96l-1.37-1.37c-.4-.4-.92-.59-1.43-.59-.52 0-1.04.2-1.43.59L10.3 9.45l-7.72 7.72c-.78.78-.78 2.05 0 2.83L4 21.41c.39.39.9.59 1.41.59.51 0 1.02-.2 1.41-.59l7.78-7.78 2.81-2.81c.8-.78.8-2.07 0-2.86zM5.41 20L4 18.59l7.72-7.72 1.47 1.35L5.41 20z\"/>\n",
              "  </svg>\n",
              "      </button>\n",
              "      \n",
              "  <style>\n",
              "    .colab-df-container {\n",
              "      display:flex;\n",
              "      flex-wrap:wrap;\n",
              "      gap: 12px;\n",
              "    }\n",
              "\n",
              "    .colab-df-convert {\n",
              "      background-color: #E8F0FE;\n",
              "      border: none;\n",
              "      border-radius: 50%;\n",
              "      cursor: pointer;\n",
              "      display: none;\n",
              "      fill: #1967D2;\n",
              "      height: 32px;\n",
              "      padding: 0 0 0 0;\n",
              "      width: 32px;\n",
              "    }\n",
              "\n",
              "    .colab-df-convert:hover {\n",
              "      background-color: #E2EBFA;\n",
              "      box-shadow: 0px 1px 2px rgba(60, 64, 67, 0.3), 0px 1px 3px 1px rgba(60, 64, 67, 0.15);\n",
              "      fill: #174EA6;\n",
              "    }\n",
              "\n",
              "    [theme=dark] .colab-df-convert {\n",
              "      background-color: #3B4455;\n",
              "      fill: #D2E3FC;\n",
              "    }\n",
              "\n",
              "    [theme=dark] .colab-df-convert:hover {\n",
              "      background-color: #434B5C;\n",
              "      box-shadow: 0px 1px 3px 1px rgba(0, 0, 0, 0.15);\n",
              "      filter: drop-shadow(0px 1px 2px rgba(0, 0, 0, 0.3));\n",
              "      fill: #FFFFFF;\n",
              "    }\n",
              "  </style>\n",
              "\n",
              "      <script>\n",
              "        const buttonEl =\n",
              "          document.querySelector('#df-23d85ec0-76b2-4bfb-af7e-049469215227 button.colab-df-convert');\n",
              "        buttonEl.style.display =\n",
              "          google.colab.kernel.accessAllowed ? 'block' : 'none';\n",
              "\n",
              "        async function convertToInteractive(key) {\n",
              "          const element = document.querySelector('#df-23d85ec0-76b2-4bfb-af7e-049469215227');\n",
              "          const dataTable =\n",
              "            await google.colab.kernel.invokeFunction('convertToInteractive',\n",
              "                                                     [key], {});\n",
              "          if (!dataTable) return;\n",
              "\n",
              "          const docLinkHtml = 'Like what you see? Visit the ' +\n",
              "            '<a target=\"_blank\" href=https://colab.research.google.com/notebooks/data_table.ipynb>data table notebook</a>'\n",
              "            + ' to learn more about interactive tables.';\n",
              "          element.innerHTML = '';\n",
              "          dataTable['output_type'] = 'display_data';\n",
              "          await google.colab.output.renderOutput(dataTable, element);\n",
              "          const docLink = document.createElement('div');\n",
              "          docLink.innerHTML = docLinkHtml;\n",
              "          element.appendChild(docLink);\n",
              "        }\n",
              "      </script>\n",
              "    </div>\n",
              "  </div>\n",
              "  "
            ]
          },
          "metadata": {},
          "execution_count": 6
        }
      ],
      "source": [
        "print(\"Shape of test_df \", test_df.shape)\n",
        "test_df.head()"
      ]
    },
    {
      "cell_type": "code",
      "execution_count": 7,
      "metadata": {
        "colab": {
          "base_uri": "https://localhost:8080/",
          "height": 224
        },
        "id": "5SUfGomPA2ck",
        "outputId": "4f988fb0-9365-46a1-d8b9-5e35dc985365"
      },
      "outputs": [
        {
          "output_type": "stream",
          "name": "stdout",
          "text": [
            "Shape of patient_number  (72, 2)\n"
          ]
        },
        {
          "output_type": "execute_result",
          "data": {
            "text/plain": [
              "   index cancer_type\n",
              "0      1         ALL\n",
              "1      2         ALL\n",
              "2      3         ALL\n",
              "3      4         ALL\n",
              "4      5         ALL"
            ],
            "text/html": [
              "\n",
              "  <div id=\"df-c2f893e1-e9aa-4c10-9103-ee91447d46bc\">\n",
              "    <div class=\"colab-df-container\">\n",
              "      <div>\n",
              "<style scoped>\n",
              "    .dataframe tbody tr th:only-of-type {\n",
              "        vertical-align: middle;\n",
              "    }\n",
              "\n",
              "    .dataframe tbody tr th {\n",
              "        vertical-align: top;\n",
              "    }\n",
              "\n",
              "    .dataframe thead th {\n",
              "        text-align: right;\n",
              "    }\n",
              "</style>\n",
              "<table border=\"1\" class=\"dataframe\">\n",
              "  <thead>\n",
              "    <tr style=\"text-align: right;\">\n",
              "      <th></th>\n",
              "      <th>index</th>\n",
              "      <th>cancer_type</th>\n",
              "    </tr>\n",
              "  </thead>\n",
              "  <tbody>\n",
              "    <tr>\n",
              "      <th>0</th>\n",
              "      <td>1</td>\n",
              "      <td>ALL</td>\n",
              "    </tr>\n",
              "    <tr>\n",
              "      <th>1</th>\n",
              "      <td>2</td>\n",
              "      <td>ALL</td>\n",
              "    </tr>\n",
              "    <tr>\n",
              "      <th>2</th>\n",
              "      <td>3</td>\n",
              "      <td>ALL</td>\n",
              "    </tr>\n",
              "    <tr>\n",
              "      <th>3</th>\n",
              "      <td>4</td>\n",
              "      <td>ALL</td>\n",
              "    </tr>\n",
              "    <tr>\n",
              "      <th>4</th>\n",
              "      <td>5</td>\n",
              "      <td>ALL</td>\n",
              "    </tr>\n",
              "  </tbody>\n",
              "</table>\n",
              "</div>\n",
              "      <button class=\"colab-df-convert\" onclick=\"convertToInteractive('df-c2f893e1-e9aa-4c10-9103-ee91447d46bc')\"\n",
              "              title=\"Convert this dataframe to an interactive table.\"\n",
              "              style=\"display:none;\">\n",
              "        \n",
              "  <svg xmlns=\"http://www.w3.org/2000/svg\" height=\"24px\"viewBox=\"0 0 24 24\"\n",
              "       width=\"24px\">\n",
              "    <path d=\"M0 0h24v24H0V0z\" fill=\"none\"/>\n",
              "    <path d=\"M18.56 5.44l.94 2.06.94-2.06 2.06-.94-2.06-.94-.94-2.06-.94 2.06-2.06.94zm-11 1L8.5 8.5l.94-2.06 2.06-.94-2.06-.94L8.5 2.5l-.94 2.06-2.06.94zm10 10l.94 2.06.94-2.06 2.06-.94-2.06-.94-.94-2.06-.94 2.06-2.06.94z\"/><path d=\"M17.41 7.96l-1.37-1.37c-.4-.4-.92-.59-1.43-.59-.52 0-1.04.2-1.43.59L10.3 9.45l-7.72 7.72c-.78.78-.78 2.05 0 2.83L4 21.41c.39.39.9.59 1.41.59.51 0 1.02-.2 1.41-.59l7.78-7.78 2.81-2.81c.8-.78.8-2.07 0-2.86zM5.41 20L4 18.59l7.72-7.72 1.47 1.35L5.41 20z\"/>\n",
              "  </svg>\n",
              "      </button>\n",
              "      \n",
              "  <style>\n",
              "    .colab-df-container {\n",
              "      display:flex;\n",
              "      flex-wrap:wrap;\n",
              "      gap: 12px;\n",
              "    }\n",
              "\n",
              "    .colab-df-convert {\n",
              "      background-color: #E8F0FE;\n",
              "      border: none;\n",
              "      border-radius: 50%;\n",
              "      cursor: pointer;\n",
              "      display: none;\n",
              "      fill: #1967D2;\n",
              "      height: 32px;\n",
              "      padding: 0 0 0 0;\n",
              "      width: 32px;\n",
              "    }\n",
              "\n",
              "    .colab-df-convert:hover {\n",
              "      background-color: #E2EBFA;\n",
              "      box-shadow: 0px 1px 2px rgba(60, 64, 67, 0.3), 0px 1px 3px 1px rgba(60, 64, 67, 0.15);\n",
              "      fill: #174EA6;\n",
              "    }\n",
              "\n",
              "    [theme=dark] .colab-df-convert {\n",
              "      background-color: #3B4455;\n",
              "      fill: #D2E3FC;\n",
              "    }\n",
              "\n",
              "    [theme=dark] .colab-df-convert:hover {\n",
              "      background-color: #434B5C;\n",
              "      box-shadow: 0px 1px 3px 1px rgba(0, 0, 0, 0.15);\n",
              "      filter: drop-shadow(0px 1px 2px rgba(0, 0, 0, 0.3));\n",
              "      fill: #FFFFFF;\n",
              "    }\n",
              "  </style>\n",
              "\n",
              "      <script>\n",
              "        const buttonEl =\n",
              "          document.querySelector('#df-c2f893e1-e9aa-4c10-9103-ee91447d46bc button.colab-df-convert');\n",
              "        buttonEl.style.display =\n",
              "          google.colab.kernel.accessAllowed ? 'block' : 'none';\n",
              "\n",
              "        async function convertToInteractive(key) {\n",
              "          const element = document.querySelector('#df-c2f893e1-e9aa-4c10-9103-ee91447d46bc');\n",
              "          const dataTable =\n",
              "            await google.colab.kernel.invokeFunction('convertToInteractive',\n",
              "                                                     [key], {});\n",
              "          if (!dataTable) return;\n",
              "\n",
              "          const docLinkHtml = 'Like what you see? Visit the ' +\n",
              "            '<a target=\"_blank\" href=https://colab.research.google.com/notebooks/data_table.ipynb>data table notebook</a>'\n",
              "            + ' to learn more about interactive tables.';\n",
              "          element.innerHTML = '';\n",
              "          dataTable['output_type'] = 'display_data';\n",
              "          await google.colab.output.renderOutput(dataTable, element);\n",
              "          const docLink = document.createElement('div');\n",
              "          docLink.innerHTML = docLinkHtml;\n",
              "          element.appendChild(docLink);\n",
              "        }\n",
              "      </script>\n",
              "    </div>\n",
              "  </div>\n",
              "  "
            ]
          },
          "metadata": {},
          "execution_count": 7
        }
      ],
      "source": [
        "print(\"Shape of patient_number \", patient_number.shape)\n",
        "patient_number.head()"
      ]
    },
    {
      "cell_type": "code",
      "execution_count": 8,
      "metadata": {
        "colab": {
          "base_uri": "https://localhost:8080/",
          "height": 253
        },
        "id": "84bJjVWuEPYO",
        "outputId": "a9f3bc26-5230-4257-b7a2-ac7bdc045152"
      },
      "outputs": [
        {
          "output_type": "stream",
          "name": "stdout",
          "text": [
            "Size of training data (38, 7130)\n"
          ]
        },
        {
          "output_type": "execute_result",
          "data": {
            "text/plain": [
              "      0    1   2    3    4    5    6    7    8    9  ...  7120  7121  7122  \\\n",
              "22  -74 -321 -11  -36 -317 -499 -138 -119  115  -17  ...  1058   140   176   \n",
              "29 -318 -192 -95  312 -139 -344  324 -237  105  167  ...   737    63   472   \n",
              "16 -476 -213 -18  301 -403 -394  -42 -144   98  173  ...  1215   127   255   \n",
              "15 -117 -219 -50  257 -218 -402  228 -147   65   67  ...   631   -26   455   \n",
              "11  -67  -93  84   25 -179 -323 -135 -127   -2  -66  ...   224    60   194   \n",
              "\n",
              "    7123  7124  7125  7126  7127  7128  cancer_type  \n",
              "22   -22   617   336     9   243    36            0  \n",
              "29    33   737   227    -9   371   -31            1  \n",
              "16    50  1701  1109    61   526   -83            0  \n",
              "15   -62   736   445    42   246   -43            0  \n",
              "11   -10   291    41     8    -2   -80            0  \n",
              "\n",
              "[5 rows x 7130 columns]"
            ],
            "text/html": [
              "\n",
              "  <div id=\"df-7267f2d0-23f7-4adf-8cb5-42e2754893a6\">\n",
              "    <div class=\"colab-df-container\">\n",
              "      <div>\n",
              "<style scoped>\n",
              "    .dataframe tbody tr th:only-of-type {\n",
              "        vertical-align: middle;\n",
              "    }\n",
              "\n",
              "    .dataframe tbody tr th {\n",
              "        vertical-align: top;\n",
              "    }\n",
              "\n",
              "    .dataframe thead th {\n",
              "        text-align: right;\n",
              "    }\n",
              "</style>\n",
              "<table border=\"1\" class=\"dataframe\">\n",
              "  <thead>\n",
              "    <tr style=\"text-align: right;\">\n",
              "      <th></th>\n",
              "      <th>0</th>\n",
              "      <th>1</th>\n",
              "      <th>2</th>\n",
              "      <th>3</th>\n",
              "      <th>4</th>\n",
              "      <th>5</th>\n",
              "      <th>6</th>\n",
              "      <th>7</th>\n",
              "      <th>8</th>\n",
              "      <th>9</th>\n",
              "      <th>...</th>\n",
              "      <th>7120</th>\n",
              "      <th>7121</th>\n",
              "      <th>7122</th>\n",
              "      <th>7123</th>\n",
              "      <th>7124</th>\n",
              "      <th>7125</th>\n",
              "      <th>7126</th>\n",
              "      <th>7127</th>\n",
              "      <th>7128</th>\n",
              "      <th>cancer_type</th>\n",
              "    </tr>\n",
              "  </thead>\n",
              "  <tbody>\n",
              "    <tr>\n",
              "      <th>22</th>\n",
              "      <td>-74</td>\n",
              "      <td>-321</td>\n",
              "      <td>-11</td>\n",
              "      <td>-36</td>\n",
              "      <td>-317</td>\n",
              "      <td>-499</td>\n",
              "      <td>-138</td>\n",
              "      <td>-119</td>\n",
              "      <td>115</td>\n",
              "      <td>-17</td>\n",
              "      <td>...</td>\n",
              "      <td>1058</td>\n",
              "      <td>140</td>\n",
              "      <td>176</td>\n",
              "      <td>-22</td>\n",
              "      <td>617</td>\n",
              "      <td>336</td>\n",
              "      <td>9</td>\n",
              "      <td>243</td>\n",
              "      <td>36</td>\n",
              "      <td>0</td>\n",
              "    </tr>\n",
              "    <tr>\n",
              "      <th>29</th>\n",
              "      <td>-318</td>\n",
              "      <td>-192</td>\n",
              "      <td>-95</td>\n",
              "      <td>312</td>\n",
              "      <td>-139</td>\n",
              "      <td>-344</td>\n",
              "      <td>324</td>\n",
              "      <td>-237</td>\n",
              "      <td>105</td>\n",
              "      <td>167</td>\n",
              "      <td>...</td>\n",
              "      <td>737</td>\n",
              "      <td>63</td>\n",
              "      <td>472</td>\n",
              "      <td>33</td>\n",
              "      <td>737</td>\n",
              "      <td>227</td>\n",
              "      <td>-9</td>\n",
              "      <td>371</td>\n",
              "      <td>-31</td>\n",
              "      <td>1</td>\n",
              "    </tr>\n",
              "    <tr>\n",
              "      <th>16</th>\n",
              "      <td>-476</td>\n",
              "      <td>-213</td>\n",
              "      <td>-18</td>\n",
              "      <td>301</td>\n",
              "      <td>-403</td>\n",
              "      <td>-394</td>\n",
              "      <td>-42</td>\n",
              "      <td>-144</td>\n",
              "      <td>98</td>\n",
              "      <td>173</td>\n",
              "      <td>...</td>\n",
              "      <td>1215</td>\n",
              "      <td>127</td>\n",
              "      <td>255</td>\n",
              "      <td>50</td>\n",
              "      <td>1701</td>\n",
              "      <td>1109</td>\n",
              "      <td>61</td>\n",
              "      <td>526</td>\n",
              "      <td>-83</td>\n",
              "      <td>0</td>\n",
              "    </tr>\n",
              "    <tr>\n",
              "      <th>15</th>\n",
              "      <td>-117</td>\n",
              "      <td>-219</td>\n",
              "      <td>-50</td>\n",
              "      <td>257</td>\n",
              "      <td>-218</td>\n",
              "      <td>-402</td>\n",
              "      <td>228</td>\n",
              "      <td>-147</td>\n",
              "      <td>65</td>\n",
              "      <td>67</td>\n",
              "      <td>...</td>\n",
              "      <td>631</td>\n",
              "      <td>-26</td>\n",
              "      <td>455</td>\n",
              "      <td>-62</td>\n",
              "      <td>736</td>\n",
              "      <td>445</td>\n",
              "      <td>42</td>\n",
              "      <td>246</td>\n",
              "      <td>-43</td>\n",
              "      <td>0</td>\n",
              "    </tr>\n",
              "    <tr>\n",
              "      <th>11</th>\n",
              "      <td>-67</td>\n",
              "      <td>-93</td>\n",
              "      <td>84</td>\n",
              "      <td>25</td>\n",
              "      <td>-179</td>\n",
              "      <td>-323</td>\n",
              "      <td>-135</td>\n",
              "      <td>-127</td>\n",
              "      <td>-2</td>\n",
              "      <td>-66</td>\n",
              "      <td>...</td>\n",
              "      <td>224</td>\n",
              "      <td>60</td>\n",
              "      <td>194</td>\n",
              "      <td>-10</td>\n",
              "      <td>291</td>\n",
              "      <td>41</td>\n",
              "      <td>8</td>\n",
              "      <td>-2</td>\n",
              "      <td>-80</td>\n",
              "      <td>0</td>\n",
              "    </tr>\n",
              "  </tbody>\n",
              "</table>\n",
              "<p>5 rows × 7130 columns</p>\n",
              "</div>\n",
              "      <button class=\"colab-df-convert\" onclick=\"convertToInteractive('df-7267f2d0-23f7-4adf-8cb5-42e2754893a6')\"\n",
              "              title=\"Convert this dataframe to an interactive table.\"\n",
              "              style=\"display:none;\">\n",
              "        \n",
              "  <svg xmlns=\"http://www.w3.org/2000/svg\" height=\"24px\"viewBox=\"0 0 24 24\"\n",
              "       width=\"24px\">\n",
              "    <path d=\"M0 0h24v24H0V0z\" fill=\"none\"/>\n",
              "    <path d=\"M18.56 5.44l.94 2.06.94-2.06 2.06-.94-2.06-.94-.94-2.06-.94 2.06-2.06.94zm-11 1L8.5 8.5l.94-2.06 2.06-.94-2.06-.94L8.5 2.5l-.94 2.06-2.06.94zm10 10l.94 2.06.94-2.06 2.06-.94-2.06-.94-.94-2.06-.94 2.06-2.06.94z\"/><path d=\"M17.41 7.96l-1.37-1.37c-.4-.4-.92-.59-1.43-.59-.52 0-1.04.2-1.43.59L10.3 9.45l-7.72 7.72c-.78.78-.78 2.05 0 2.83L4 21.41c.39.39.9.59 1.41.59.51 0 1.02-.2 1.41-.59l7.78-7.78 2.81-2.81c.8-.78.8-2.07 0-2.86zM5.41 20L4 18.59l7.72-7.72 1.47 1.35L5.41 20z\"/>\n",
              "  </svg>\n",
              "      </button>\n",
              "      \n",
              "  <style>\n",
              "    .colab-df-container {\n",
              "      display:flex;\n",
              "      flex-wrap:wrap;\n",
              "      gap: 12px;\n",
              "    }\n",
              "\n",
              "    .colab-df-convert {\n",
              "      background-color: #E8F0FE;\n",
              "      border: none;\n",
              "      border-radius: 50%;\n",
              "      cursor: pointer;\n",
              "      display: none;\n",
              "      fill: #1967D2;\n",
              "      height: 32px;\n",
              "      padding: 0 0 0 0;\n",
              "      width: 32px;\n",
              "    }\n",
              "\n",
              "    .colab-df-convert:hover {\n",
              "      background-color: #E2EBFA;\n",
              "      box-shadow: 0px 1px 2px rgba(60, 64, 67, 0.3), 0px 1px 3px 1px rgba(60, 64, 67, 0.15);\n",
              "      fill: #174EA6;\n",
              "    }\n",
              "\n",
              "    [theme=dark] .colab-df-convert {\n",
              "      background-color: #3B4455;\n",
              "      fill: #D2E3FC;\n",
              "    }\n",
              "\n",
              "    [theme=dark] .colab-df-convert:hover {\n",
              "      background-color: #434B5C;\n",
              "      box-shadow: 0px 1px 3px 1px rgba(0, 0, 0, 0.15);\n",
              "      filter: drop-shadow(0px 1px 2px rgba(0, 0, 0, 0.3));\n",
              "      fill: #FFFFFF;\n",
              "    }\n",
              "  </style>\n",
              "\n",
              "      <script>\n",
              "        const buttonEl =\n",
              "          document.querySelector('#df-7267f2d0-23f7-4adf-8cb5-42e2754893a6 button.colab-df-convert');\n",
              "        buttonEl.style.display =\n",
              "          google.colab.kernel.accessAllowed ? 'block' : 'none';\n",
              "\n",
              "        async function convertToInteractive(key) {\n",
              "          const element = document.querySelector('#df-7267f2d0-23f7-4adf-8cb5-42e2754893a6');\n",
              "          const dataTable =\n",
              "            await google.colab.kernel.invokeFunction('convertToInteractive',\n",
              "                                                     [key], {});\n",
              "          if (!dataTable) return;\n",
              "\n",
              "          const docLinkHtml = 'Like what you see? Visit the ' +\n",
              "            '<a target=\"_blank\" href=https://colab.research.google.com/notebooks/data_table.ipynb>data table notebook</a>'\n",
              "            + ' to learn more about interactive tables.';\n",
              "          element.innerHTML = '';\n",
              "          dataTable['output_type'] = 'display_data';\n",
              "          await google.colab.output.renderOutput(dataTable, element);\n",
              "          const docLink = document.createElement('div');\n",
              "          docLink.innerHTML = docLinkHtml;\n",
              "          element.appendChild(docLink);\n",
              "        }\n",
              "      </script>\n",
              "    </div>\n",
              "  </div>\n",
              "  "
            ]
          },
          "metadata": {},
          "execution_count": 8
        }
      ],
      "source": [
        "#Delete all of \"call\" columns and two columns [\"Gene Description\",\"Gene Accession Number\"]\n",
        "column_name = [col for col in train_df.columns if \"call\" not in col]\n",
        "train_df = train_df[column_name]\n",
        "train_df = train_df.drop([\"Gene Description\",\"Gene Accession Number\"], axis=1)\n",
        "#transpose matrix\n",
        "train_df = train_df.T\n",
        "\n",
        "#labeling\n",
        "train_df = train_df.reset_index()\n",
        "train_df[\"index\"] = pd.to_numeric(train_df[\"index\"])\n",
        "train_df = train_df.sort_values(\"index\")\n",
        "\n",
        "train_df = pd.merge(train_df, patient_number, on=\"index\", how = \"inner\")\n",
        "train_df.loc[train_df.cancer_type == \"ALL\", \"cancer_type\"] = 0\n",
        "train_df.loc[train_df.cancer_type == \"AML\", \"cancer_type\"] = 1\n",
        "#shuffle row\n",
        "train_df = train_df.sample(frac=1, random_state = 0).drop([\"index\"], axis=1)\n",
        "print(\"Size of training data\", train_df.shape)\n",
        "train_df.head()"
      ]
    },
    {
      "cell_type": "code",
      "execution_count": 9,
      "metadata": {
        "colab": {
          "base_uri": "https://localhost:8080/",
          "height": 253
        },
        "id": "j7SIABOOFdOb",
        "outputId": "5154ac25-f0cc-4b5c-9068-a0921f927026"
      },
      "outputs": [
        {
          "output_type": "stream",
          "name": "stdout",
          "text": [
            "Size of testing data (34, 7130)\n"
          ]
        },
        {
          "output_type": "execute_result",
          "data": {
            "text/plain": [
              "      0    1    2    3    4    5     6    7    8    9  ...  7120  7121  7122  \\\n",
              "11 -118 -142  212  314 -401 -452  -336 -310  177 -131  ...   690    -8   331   \n",
              "20  -12 -172   12  172 -137 -205   358 -104  -25  147  ...   922    53   302   \n",
              "25  -48 -531 -124  431 -496 -696 -1038 -441  235  157  ...  1141  -121   197   \n",
              "17  -95 -118   59  270 -229 -383   172 -187  185  157  ...   700   -61   381   \n",
              "2   -62  -23   -7  142 -233 -284  -167  -97  -12  -70  ...   383    46   104   \n",
              "\n",
              "    7123  7124  7125  7126  7127  7128  cancer_type  \n",
              "11   -62   882   264    73   315     7            1  \n",
              "20   -78   673   208   -68   226    78            0  \n",
              "25  -108   466   349     0   284   -73            1  \n",
              "17  -105  1068   412   -43   702    18            0  \n",
              "2     15   245   164    84   100   -18            0  \n",
              "\n",
              "[5 rows x 7130 columns]"
            ],
            "text/html": [
              "\n",
              "  <div id=\"df-5207b3a6-e172-45ec-a4dd-f32a0cd7eb98\">\n",
              "    <div class=\"colab-df-container\">\n",
              "      <div>\n",
              "<style scoped>\n",
              "    .dataframe tbody tr th:only-of-type {\n",
              "        vertical-align: middle;\n",
              "    }\n",
              "\n",
              "    .dataframe tbody tr th {\n",
              "        vertical-align: top;\n",
              "    }\n",
              "\n",
              "    .dataframe thead th {\n",
              "        text-align: right;\n",
              "    }\n",
              "</style>\n",
              "<table border=\"1\" class=\"dataframe\">\n",
              "  <thead>\n",
              "    <tr style=\"text-align: right;\">\n",
              "      <th></th>\n",
              "      <th>0</th>\n",
              "      <th>1</th>\n",
              "      <th>2</th>\n",
              "      <th>3</th>\n",
              "      <th>4</th>\n",
              "      <th>5</th>\n",
              "      <th>6</th>\n",
              "      <th>7</th>\n",
              "      <th>8</th>\n",
              "      <th>9</th>\n",
              "      <th>...</th>\n",
              "      <th>7120</th>\n",
              "      <th>7121</th>\n",
              "      <th>7122</th>\n",
              "      <th>7123</th>\n",
              "      <th>7124</th>\n",
              "      <th>7125</th>\n",
              "      <th>7126</th>\n",
              "      <th>7127</th>\n",
              "      <th>7128</th>\n",
              "      <th>cancer_type</th>\n",
              "    </tr>\n",
              "  </thead>\n",
              "  <tbody>\n",
              "    <tr>\n",
              "      <th>11</th>\n",
              "      <td>-118</td>\n",
              "      <td>-142</td>\n",
              "      <td>212</td>\n",
              "      <td>314</td>\n",
              "      <td>-401</td>\n",
              "      <td>-452</td>\n",
              "      <td>-336</td>\n",
              "      <td>-310</td>\n",
              "      <td>177</td>\n",
              "      <td>-131</td>\n",
              "      <td>...</td>\n",
              "      <td>690</td>\n",
              "      <td>-8</td>\n",
              "      <td>331</td>\n",
              "      <td>-62</td>\n",
              "      <td>882</td>\n",
              "      <td>264</td>\n",
              "      <td>73</td>\n",
              "      <td>315</td>\n",
              "      <td>7</td>\n",
              "      <td>1</td>\n",
              "    </tr>\n",
              "    <tr>\n",
              "      <th>20</th>\n",
              "      <td>-12</td>\n",
              "      <td>-172</td>\n",
              "      <td>12</td>\n",
              "      <td>172</td>\n",
              "      <td>-137</td>\n",
              "      <td>-205</td>\n",
              "      <td>358</td>\n",
              "      <td>-104</td>\n",
              "      <td>-25</td>\n",
              "      <td>147</td>\n",
              "      <td>...</td>\n",
              "      <td>922</td>\n",
              "      <td>53</td>\n",
              "      <td>302</td>\n",
              "      <td>-78</td>\n",
              "      <td>673</td>\n",
              "      <td>208</td>\n",
              "      <td>-68</td>\n",
              "      <td>226</td>\n",
              "      <td>78</td>\n",
              "      <td>0</td>\n",
              "    </tr>\n",
              "    <tr>\n",
              "      <th>25</th>\n",
              "      <td>-48</td>\n",
              "      <td>-531</td>\n",
              "      <td>-124</td>\n",
              "      <td>431</td>\n",
              "      <td>-496</td>\n",
              "      <td>-696</td>\n",
              "      <td>-1038</td>\n",
              "      <td>-441</td>\n",
              "      <td>235</td>\n",
              "      <td>157</td>\n",
              "      <td>...</td>\n",
              "      <td>1141</td>\n",
              "      <td>-121</td>\n",
              "      <td>197</td>\n",
              "      <td>-108</td>\n",
              "      <td>466</td>\n",
              "      <td>349</td>\n",
              "      <td>0</td>\n",
              "      <td>284</td>\n",
              "      <td>-73</td>\n",
              "      <td>1</td>\n",
              "    </tr>\n",
              "    <tr>\n",
              "      <th>17</th>\n",
              "      <td>-95</td>\n",
              "      <td>-118</td>\n",
              "      <td>59</td>\n",
              "      <td>270</td>\n",
              "      <td>-229</td>\n",
              "      <td>-383</td>\n",
              "      <td>172</td>\n",
              "      <td>-187</td>\n",
              "      <td>185</td>\n",
              "      <td>157</td>\n",
              "      <td>...</td>\n",
              "      <td>700</td>\n",
              "      <td>-61</td>\n",
              "      <td>381</td>\n",
              "      <td>-105</td>\n",
              "      <td>1068</td>\n",
              "      <td>412</td>\n",
              "      <td>-43</td>\n",
              "      <td>702</td>\n",
              "      <td>18</td>\n",
              "      <td>0</td>\n",
              "    </tr>\n",
              "    <tr>\n",
              "      <th>2</th>\n",
              "      <td>-62</td>\n",
              "      <td>-23</td>\n",
              "      <td>-7</td>\n",
              "      <td>142</td>\n",
              "      <td>-233</td>\n",
              "      <td>-284</td>\n",
              "      <td>-167</td>\n",
              "      <td>-97</td>\n",
              "      <td>-12</td>\n",
              "      <td>-70</td>\n",
              "      <td>...</td>\n",
              "      <td>383</td>\n",
              "      <td>46</td>\n",
              "      <td>104</td>\n",
              "      <td>15</td>\n",
              "      <td>245</td>\n",
              "      <td>164</td>\n",
              "      <td>84</td>\n",
              "      <td>100</td>\n",
              "      <td>-18</td>\n",
              "      <td>0</td>\n",
              "    </tr>\n",
              "  </tbody>\n",
              "</table>\n",
              "<p>5 rows × 7130 columns</p>\n",
              "</div>\n",
              "      <button class=\"colab-df-convert\" onclick=\"convertToInteractive('df-5207b3a6-e172-45ec-a4dd-f32a0cd7eb98')\"\n",
              "              title=\"Convert this dataframe to an interactive table.\"\n",
              "              style=\"display:none;\">\n",
              "        \n",
              "  <svg xmlns=\"http://www.w3.org/2000/svg\" height=\"24px\"viewBox=\"0 0 24 24\"\n",
              "       width=\"24px\">\n",
              "    <path d=\"M0 0h24v24H0V0z\" fill=\"none\"/>\n",
              "    <path d=\"M18.56 5.44l.94 2.06.94-2.06 2.06-.94-2.06-.94-.94-2.06-.94 2.06-2.06.94zm-11 1L8.5 8.5l.94-2.06 2.06-.94-2.06-.94L8.5 2.5l-.94 2.06-2.06.94zm10 10l.94 2.06.94-2.06 2.06-.94-2.06-.94-.94-2.06-.94 2.06-2.06.94z\"/><path d=\"M17.41 7.96l-1.37-1.37c-.4-.4-.92-.59-1.43-.59-.52 0-1.04.2-1.43.59L10.3 9.45l-7.72 7.72c-.78.78-.78 2.05 0 2.83L4 21.41c.39.39.9.59 1.41.59.51 0 1.02-.2 1.41-.59l7.78-7.78 2.81-2.81c.8-.78.8-2.07 0-2.86zM5.41 20L4 18.59l7.72-7.72 1.47 1.35L5.41 20z\"/>\n",
              "  </svg>\n",
              "      </button>\n",
              "      \n",
              "  <style>\n",
              "    .colab-df-container {\n",
              "      display:flex;\n",
              "      flex-wrap:wrap;\n",
              "      gap: 12px;\n",
              "    }\n",
              "\n",
              "    .colab-df-convert {\n",
              "      background-color: #E8F0FE;\n",
              "      border: none;\n",
              "      border-radius: 50%;\n",
              "      cursor: pointer;\n",
              "      display: none;\n",
              "      fill: #1967D2;\n",
              "      height: 32px;\n",
              "      padding: 0 0 0 0;\n",
              "      width: 32px;\n",
              "    }\n",
              "\n",
              "    .colab-df-convert:hover {\n",
              "      background-color: #E2EBFA;\n",
              "      box-shadow: 0px 1px 2px rgba(60, 64, 67, 0.3), 0px 1px 3px 1px rgba(60, 64, 67, 0.15);\n",
              "      fill: #174EA6;\n",
              "    }\n",
              "\n",
              "    [theme=dark] .colab-df-convert {\n",
              "      background-color: #3B4455;\n",
              "      fill: #D2E3FC;\n",
              "    }\n",
              "\n",
              "    [theme=dark] .colab-df-convert:hover {\n",
              "      background-color: #434B5C;\n",
              "      box-shadow: 0px 1px 3px 1px rgba(0, 0, 0, 0.15);\n",
              "      filter: drop-shadow(0px 1px 2px rgba(0, 0, 0, 0.3));\n",
              "      fill: #FFFFFF;\n",
              "    }\n",
              "  </style>\n",
              "\n",
              "      <script>\n",
              "        const buttonEl =\n",
              "          document.querySelector('#df-5207b3a6-e172-45ec-a4dd-f32a0cd7eb98 button.colab-df-convert');\n",
              "        buttonEl.style.display =\n",
              "          google.colab.kernel.accessAllowed ? 'block' : 'none';\n",
              "\n",
              "        async function convertToInteractive(key) {\n",
              "          const element = document.querySelector('#df-5207b3a6-e172-45ec-a4dd-f32a0cd7eb98');\n",
              "          const dataTable =\n",
              "            await google.colab.kernel.invokeFunction('convertToInteractive',\n",
              "                                                     [key], {});\n",
              "          if (!dataTable) return;\n",
              "\n",
              "          const docLinkHtml = 'Like what you see? Visit the ' +\n",
              "            '<a target=\"_blank\" href=https://colab.research.google.com/notebooks/data_table.ipynb>data table notebook</a>'\n",
              "            + ' to learn more about interactive tables.';\n",
              "          element.innerHTML = '';\n",
              "          dataTable['output_type'] = 'display_data';\n",
              "          await google.colab.output.renderOutput(dataTable, element);\n",
              "          const docLink = document.createElement('div');\n",
              "          docLink.innerHTML = docLinkHtml;\n",
              "          element.appendChild(docLink);\n",
              "        }\n",
              "      </script>\n",
              "    </div>\n",
              "  </div>\n",
              "  "
            ]
          },
          "metadata": {},
          "execution_count": 9
        }
      ],
      "source": [
        "#Delete all of \"call\" columns and two columns [\"Gene Description\",\"Gene Accession Number\"]\n",
        "column_name = [col for col in test_df.columns if \"call\" not in col]\n",
        "test_df = test_df[column_name]\n",
        "test_df = test_df.drop([\"Gene Description\",\"Gene Accession Number\"], axis=1)\n",
        "#transpose matrix\n",
        "test_df = test_df.T\n",
        "\n",
        "#labeling\n",
        "test_df = test_df.reset_index()\n",
        "test_df.head()\n",
        "test_df[\"index\"] = pd.to_numeric(test_df[\"index\"])\n",
        "test_df = test_df.sort_values(\"index\")\n",
        "\n",
        "test_df = pd.merge(test_df, patient_number, on=\"index\", how = \"inner\")\n",
        "test_df.loc[test_df.cancer_type == \"ALL\", \"cancer_type\"] = 0\n",
        "test_df.loc[test_df.cancer_type == \"AML\", \"cancer_type\"] = 1\n",
        "#shuffle row\n",
        "test_df = test_df.sample(frac=1, random_state = 0).drop([\"index\"], axis=1)\n",
        "print(\"Size of testing data\", test_df.shape)\n",
        "test_df.head()\n"
      ]
    },
    {
      "cell_type": "markdown",
      "metadata": {
        "id": "4m6qXsbuHtiQ"
      },
      "source": [
        "##Exploratory data analysis (EDA)"
      ]
    },
    {
      "cell_type": "markdown",
      "source": [
        "###Check the balance of training dataset"
      ],
      "metadata": {
        "id": "sT2qwjIeFBGE"
      }
    },
    {
      "cell_type": "code",
      "source": [
        "train_df[\"cancer_type\"].value_counts()"
      ],
      "metadata": {
        "colab": {
          "base_uri": "https://localhost:8080/"
        },
        "id": "xiRIh8zpFxkn",
        "outputId": "097ae93f-5dc3-4995-9f0b-2c5880484e40"
      },
      "execution_count": 10,
      "outputs": [
        {
          "output_type": "execute_result",
          "data": {
            "text/plain": [
              "0    27\n",
              "1    11\n",
              "Name: cancer_type, dtype: int64"
            ]
          },
          "metadata": {},
          "execution_count": 10
        }
      ]
    },
    {
      "cell_type": "code",
      "source": [
        "df = pd.DataFrame()\n",
        "df[\"cancer_type\"] = train_df[\"cancer_type\"]\n",
        "df.loc[df.cancer_type == 0, \"cancer_type\"] = \"ALL\"\n",
        "df.loc[df.cancer_type == 1, \"cancer_type\"] = \"AML\"\n",
        "\n",
        "\n",
        "plt.figure(figsize=(3,6))\n",
        "colors = [\"AML\", \"ALL\"]\n",
        "sns.countplot(x = 'cancer_type', hue = \"cancer_type\", data = df, palette = \"Set1\")\n",
        "plt.title('Class Distributions \\n ( AML ||  ALL)', fontsize=14)"
      ],
      "metadata": {
        "colab": {
          "base_uri": "https://localhost:8080/",
          "height": 439
        },
        "id": "mtCgeII6Ea7e",
        "outputId": "a2bc3209-62be-4bcb-fa27-70e914d57b56"
      },
      "execution_count": 11,
      "outputs": [
        {
          "output_type": "execute_result",
          "data": {
            "text/plain": [
              "Text(0.5, 1.0, 'Class Distributions \\n ( AML ||  ALL)')"
            ]
          },
          "metadata": {},
          "execution_count": 11
        },
        {
          "output_type": "display_data",
          "data": {
            "text/plain": [
              "<Figure size 216x432 with 1 Axes>"
            ],
            "image/png": "[encoded data removed]"
          },
          "metadata": {
            "needs_background": "light"
          }
        }
      ]
    },
    {
      "cell_type": "markdown",
      "source": [
        "###Distribution of the random sample before standardizing"
      ],
      "metadata": {
        "id": "kIv6qGGHo8n9"
      }
    },
    {
      "cell_type": "code",
      "source": [
        "sample = train_df.iloc[:,:-1].sample(n=100, axis=1)\n",
        "sample.describe().round()"
      ],
      "metadata": {
        "colab": {
          "base_uri": "https://localhost:8080/",
          "height": 330
        },
        "id": "XlErVjGdpLBl",
        "outputId": "5994be22-34d5-46d2-af5b-f6718919d703"
      },
      "execution_count": 12,
      "outputs": [
        {
          "output_type": "execute_result",
          "data": {
            "text/plain": [
              "        7107   2177    927    4332    5312   5717    3968   5352   5546  \\\n",
              "count   38.0   38.0    38.0   38.0    38.0   38.0    38.0   38.0   38.0   \n",
              "mean    -9.0  -13.0  1110.0   40.0  -451.0 -103.0   191.0   43.0  169.0   \n",
              "std     52.0  138.0   600.0   38.0   223.0   78.0   571.0   54.0  192.0   \n",
              "min   -114.0 -355.0   228.0  -25.0 -1022.0 -259.0  -320.0  -79.0  -47.0   \n",
              "25%    -34.0  -74.0   641.0   16.0  -484.0 -165.0  -114.0   -2.0   60.0   \n",
              "50%    -11.0  -22.0  1004.0   32.0  -394.0  -96.0    15.0   42.0  117.0   \n",
              "75%     16.0   55.0  1399.0   69.0  -300.0  -44.0   285.0   80.0  190.0   \n",
              "max    199.0  284.0  2535.0  148.0  -160.0   34.0  2124.0  212.0  850.0   \n",
              "\n",
              "        2678  ...    6878    233    2746   3477   3027   6209   5804   2929  \\\n",
              "count   38.0  ...    38.0    38.0   38.0   38.0   38.0   38.0   38.0   38.0   \n",
              "mean   -31.0  ...   269.0   646.0  -41.0   60.0 -176.0   11.0   14.0  -49.0   \n",
              "std     44.0  ...   506.0   324.0   82.0   96.0   76.0   41.0  139.0   47.0   \n",
              "min   -148.0  ...  -471.0   211.0 -244.0 -121.0 -346.0  -47.0 -177.0 -115.0   \n",
              "25%    -51.0  ...   -71.0   408.0  -87.0  -19.0 -227.0  -17.0  -88.0  -67.0   \n",
              "50%    -36.0  ...   128.0   591.0  -44.0   66.0 -177.0    2.0   -6.0  -54.0   \n",
              "75%     -4.0  ...   496.0   780.0   24.0  112.0 -130.0   33.0   90.0  -40.0   \n",
              "max     45.0  ...  1860.0  1605.0  117.0  287.0  -15.0  127.0  463.0  201.0   \n",
              "\n",
              "        2239    7008  \n",
              "count   38.0    38.0  \n",
              "mean   230.0   182.0  \n",
              "std    155.0   273.0  \n",
              "min     13.0  -340.0  \n",
              "25%    110.0    -7.0  \n",
              "50%    182.0   135.0  \n",
              "75%    336.0   296.0  \n",
              "max    579.0  1182.0  \n",
              "\n",
              "[8 rows x 100 columns]"
            ],
            "text/html": [
              "\n",
              "  <div id=\"df-940727d6-6dcd-44f9-9a12-db73697cda6f\">\n",
              "    <div class=\"colab-df-container\">\n",
              "      <div>\n",
              "<style scoped>\n",
              "    .dataframe tbody tr th:only-of-type {\n",
              "        vertical-align: middle;\n",
              "    }\n",
              "\n",
              "    .dataframe tbody tr th {\n",
              "        vertical-align: top;\n",
              "    }\n",
              "\n",
              "    .dataframe thead th {\n",
              "        text-align: right;\n",
              "    }\n",
              "</style>\n",
              "<table border=\"1\" class=\"dataframe\">\n",
              "  <thead>\n",
              "    <tr style=\"text-align: right;\">\n",
              "      <th></th>\n",
              "      <th>7107</th>\n",
              "      <th>2177</th>\n",
              "      <th>927</th>\n",
              "      <th>4332</th>\n",
              "      <th>5312</th>\n",
              "      <th>5717</th>\n",
              "      <th>3968</th>\n",
              "      <th>5352</th>\n",
              "      <th>5546</th>\n",
              "      <th>2678</th>\n",
              "      <th>...</th>\n",
              "      <th>6878</th>\n",
              "      <th>233</th>\n",
              "      <th>2746</th>\n",
              "      <th>3477</th>\n",
              "      <th>3027</th>\n",
              "      <th>6209</th>\n",
              "      <th>5804</th>\n",
              "      <th>2929</th>\n",
              "      <th>2239</th>\n",
              "      <th>7008</th>\n",
              "    </tr>\n",
              "  </thead>\n",
              "  <tbody>\n",
              "    <tr>\n",
              "      <th>count</th>\n",
              "      <td>38.0</td>\n",
              "      <td>38.0</td>\n",
              "      <td>38.0</td>\n",
              "      <td>38.0</td>\n",
              "      <td>38.0</td>\n",
              "      <td>38.0</td>\n",
              "      <td>38.0</td>\n",
              "      <td>38.0</td>\n",
              "      <td>38.0</td>\n",
              "      <td>38.0</td>\n",
              "      <td>...</td>\n",
              "      <td>38.0</td>\n",
              "      <td>38.0</td>\n",
              "      <td>38.0</td>\n",
              "      <td>38.0</td>\n",
              "      <td>38.0</td>\n",
              "      <td>38.0</td>\n",
              "      <td>38.0</td>\n",
              "      <td>38.0</td>\n",
              "      <td>38.0</td>\n",
              "      <td>38.0</td>\n",
              "    </tr>\n",
              "    <tr>\n",
              "      <th>mean</th>\n",
              "      <td>-9.0</td>\n",
              "      <td>-13.0</td>\n",
              "      <td>1110.0</td>\n",
              "      <td>40.0</td>\n",
              "      <td>-451.0</td>\n",
              "      <td>-103.0</td>\n",
              "      <td>191.0</td>\n",
              "      <td>43.0</td>\n",
              "      <td>169.0</td>\n",
              "      <td>-31.0</td>\n",
              "      <td>...</td>\n",
              "      <td>269.0</td>\n",
              "      <td>646.0</td>\n",
              "      <td>-41.0</td>\n",
              "      <td>60.0</td>\n",
              "      <td>-176.0</td>\n",
              "      <td>11.0</td>\n",
              "      <td>14.0</td>\n",
              "      <td>-49.0</td>\n",
              "      <td>230.0</td>\n",
              "      <td>182.0</td>\n",
              "    </tr>\n",
              "    <tr>\n",
              "      <th>std</th>\n",
              "      <td>52.0</td>\n",
              "      <td>138.0</td>\n",
              "      <td>600.0</td>\n",
              "      <td>38.0</td>\n",
              "      <td>223.0</td>\n",
              "      <td>78.0</td>\n",
              "      <td>571.0</td>\n",
              "      <td>54.0</td>\n",
              "      <td>192.0</td>\n",
              "      <td>44.0</td>\n",
              "      <td>...</td>\n",
              "      <td>506.0</td>\n",
              "      <td>324.0</td>\n",
              "      <td>82.0</td>\n",
              "      <td>96.0</td>\n",
              "      <td>76.0</td>\n",
              "      <td>41.0</td>\n",
              "      <td>139.0</td>\n",
              "      <td>47.0</td>\n",
              "      <td>155.0</td>\n",
              "      <td>273.0</td>\n",
              "    </tr>\n",
              "    <tr>\n",
              "      <th>min</th>\n",
              "      <td>-114.0</td>\n",
              "      <td>-355.0</td>\n",
              "      <td>228.0</td>\n",
              "      <td>-25.0</td>\n",
              "      <td>-1022.0</td>\n",
              "      <td>-259.0</td>\n",
              "      <td>-320.0</td>\n",
              "      <td>-79.0</td>\n",
              "      <td>-47.0</td>\n",
              "      <td>-148.0</td>\n",
              "      <td>...</td>\n",
              "      <td>-471.0</td>\n",
              "      <td>211.0</td>\n",
              "      <td>-244.0</td>\n",
              "      <td>-121.0</td>\n",
              "      <td>-346.0</td>\n",
              "      <td>-47.0</td>\n",
              "      <td>-177.0</td>\n",
              "      <td>-115.0</td>\n",
              "      <td>13.0</td>\n",
              "      <td>-340.0</td>\n",
              "    </tr>\n",
              "    <tr>\n",
              "      <th>25%</th>\n",
              "      <td>-34.0</td>\n",
              "      <td>-74.0</td>\n",
              "      <td>641.0</td>\n",
              "      <td>16.0</td>\n",
              "      <td>-484.0</td>\n",
              "      <td>-165.0</td>\n",
              "      <td>-114.0</td>\n",
              "      <td>-2.0</td>\n",
              "      <td>60.0</td>\n",
              "      <td>-51.0</td>\n",
              "      <td>...</td>\n",
              "      <td>-71.0</td>\n",
              "      <td>408.0</td>\n",
              "      <td>-87.0</td>\n",
              "      <td>-19.0</td>\n",
              "      <td>-227.0</td>\n",
              "      <td>-17.0</td>\n",
              "      <td>-88.0</td>\n",
              "      <td>-67.0</td>\n",
              "      <td>110.0</td>\n",
              "      <td>-7.0</td>\n",
              "    </tr>\n",
              "    <tr>\n",
              "      <th>50%</th>\n",
              "      <td>-11.0</td>\n",
              "      <td>-22.0</td>\n",
              "      <td>1004.0</td>\n",
              "      <td>32.0</td>\n",
              "      <td>-394.0</td>\n",
              "      <td>-96.0</td>\n",
              "      <td>15.0</td>\n",
              "      <td>42.0</td>\n",
              "      <td>117.0</td>\n",
              "      <td>-36.0</td>\n",
              "      <td>...</td>\n",
              "      <td>128.0</td>\n",
              "      <td>591.0</td>\n",
              "      <td>-44.0</td>\n",
              "      <td>66.0</td>\n",
              "      <td>-177.0</td>\n",
              "      <td>2.0</td>\n",
              "      <td>-6.0</td>\n",
              "      <td>-54.0</td>\n",
              "      <td>182.0</td>\n",
              "      <td>135.0</td>\n",
              "    </tr>\n",
              "    <tr>\n",
              "      <th>75%</th>\n",
              "      <td>16.0</td>\n",
              "      <td>55.0</td>\n",
              "      <td>1399.0</td>\n",
              "      <td>69.0</td>\n",
              "      <td>-300.0</td>\n",
              "      <td>-44.0</td>\n",
              "      <td>285.0</td>\n",
              "      <td>80.0</td>\n",
              "      <td>190.0</td>\n",
              "      <td>-4.0</td>\n",
              "      <td>...</td>\n",
              "      <td>496.0</td>\n",
              "      <td>780.0</td>\n",
              "      <td>24.0</td>\n",
              "      <td>112.0</td>\n",
              "      <td>-130.0</td>\n",
              "      <td>33.0</td>\n",
              "      <td>90.0</td>\n",
              "      <td>-40.0</td>\n",
              "      <td>336.0</td>\n",
              "      <td>296.0</td>\n",
              "    </tr>\n",
              "    <tr>\n",
              "      <th>max</th>\n",
              "      <td>199.0</td>\n",
              "      <td>284.0</td>\n",
              "      <td>2535.0</td>\n",
              "      <td>148.0</td>\n",
              "      <td>-160.0</td>\n",
              "      <td>34.0</td>\n",
              "      <td>2124.0</td>\n",
              "      <td>212.0</td>\n",
              "      <td>850.0</td>\n",
              "      <td>45.0</td>\n",
              "      <td>...</td>\n",
              "      <td>1860.0</td>\n",
              "      <td>1605.0</td>\n",
              "      <td>117.0</td>\n",
              "      <td>287.0</td>\n",
              "      <td>-15.0</td>\n",
              "      <td>127.0</td>\n",
              "      <td>463.0</td>\n",
              "      <td>201.0</td>\n",
              "      <td>579.0</td>\n",
              "      <td>1182.0</td>\n",
              "    </tr>\n",
              "  </tbody>\n",
              "</table>\n",
              "<p>8 rows × 100 columns</p>\n",
              "</div>\n",
              "      <button class=\"colab-df-convert\" onclick=\"convertToInteractive('df-940727d6-6dcd-44f9-9a12-db73697cda6f')\"\n",
              "              title=\"Convert this dataframe to an interactive table.\"\n",
              "              style=\"display:none;\">\n",
              "        \n",
              "  <svg xmlns=\"http://www.w3.org/2000/svg\" height=\"24px\"viewBox=\"0 0 24 24\"\n",
              "       width=\"24px\">\n",
              "    <path d=\"M0 0h24v24H0V0z\" fill=\"none\"/>\n",
              "    <path d=\"M18.56 5.44l.94 2.06.94-2.06 2.06-.94-2.06-.94-.94-2.06-.94 2.06-2.06.94zm-11 1L8.5 8.5l.94-2.06 2.06-.94-2.06-.94L8.5 2.5l-.94 2.06-2.06.94zm10 10l.94 2.06.94-2.06 2.06-.94-2.06-.94-.94-2.06-.94 2.06-2.06.94z\"/><path d=\"M17.41 7.96l-1.37-1.37c-.4-.4-.92-.59-1.43-.59-.52 0-1.04.2-1.43.59L10.3 9.45l-7.72 7.72c-.78.78-.78 2.05 0 2.83L4 21.41c.39.39.9.59 1.41.59.51 0 1.02-.2 1.41-.59l7.78-7.78 2.81-2.81c.8-.78.8-2.07 0-2.86zM5.41 20L4 18.59l7.72-7.72 1.47 1.35L5.41 20z\"/>\n",
              "  </svg>\n",
              "      </button>\n",
              "      \n",
              "  <style>\n",
              "    .colab-df-container {\n",
              "      display:flex;\n",
              "      flex-wrap:wrap;\n",
              "      gap: 12px;\n",
              "    }\n",
              "\n",
              "    .colab-df-convert {\n",
              "      background-color: #E8F0FE;\n",
              "      border: none;\n",
              "      border-radius: 50%;\n",
              "      cursor: pointer;\n",
              "      display: none;\n",
              "      fill: #1967D2;\n",
              "      height: 32px;\n",
              "      padding: 0 0 0 0;\n",
              "      width: 32px;\n",
              "    }\n",
              "\n",
              "    .colab-df-convert:hover {\n",
              "      background-color: #E2EBFA;\n",
              "      box-shadow: 0px 1px 2px rgba(60, 64, 67, 0.3), 0px 1px 3px 1px rgba(60, 64, 67, 0.15);\n",
              "      fill: #174EA6;\n",
              "    }\n",
              "\n",
              "    [theme=dark] .colab-df-convert {\n",
              "      background-color: #3B4455;\n",
              "      fill: #D2E3FC;\n",
              "    }\n",
              "\n",
              "    [theme=dark] .colab-df-convert:hover {\n",
              "      background-color: #434B5C;\n",
              "      box-shadow: 0px 1px 3px 1px rgba(0, 0, 0, 0.15);\n",
              "      filter: drop-shadow(0px 1px 2px rgba(0, 0, 0, 0.3));\n",
              "      fill: #FFFFFF;\n",
              "    }\n",
              "  </style>\n",
              "\n",
              "      <script>\n",
              "        const buttonEl =\n",
              "          document.querySelector('#df-940727d6-6dcd-44f9-9a12-db73697cda6f button.colab-df-convert');\n",
              "        buttonEl.style.display =\n",
              "          google.colab.kernel.accessAllowed ? 'block' : 'none';\n",
              "\n",
              "        async function convertToInteractive(key) {\n",
              "          const element = document.querySelector('#df-940727d6-6dcd-44f9-9a12-db73697cda6f');\n",
              "          const dataTable =\n",
              "            await google.colab.kernel.invokeFunction('convertToInteractive',\n",
              "                                                     [key], {});\n",
              "          if (!dataTable) return;\n",
              "\n",
              "          const docLinkHtml = 'Like what you see? Visit the ' +\n",
              "            '<a target=\"_blank\" href=https://colab.research.google.com/notebooks/data_table.ipynb>data table notebook</a>'\n",
              "            + ' to learn more about interactive tables.';\n",
              "          element.innerHTML = '';\n",
              "          dataTable['output_type'] = 'display_data';\n",
              "          await google.colab.output.renderOutput(dataTable, element);\n",
              "          const docLink = document.createElement('div');\n",
              "          docLink.innerHTML = docLinkHtml;\n",
              "          element.appendChild(docLink);\n",
              "        }\n",
              "      </script>\n",
              "    </div>\n",
              "  </div>\n",
              "  "
            ]
          },
          "metadata": {},
          "execution_count": 12
        }
      ]
    },
    {
      "cell_type": "code",
      "source": [
        "sample.plot(kind=\"hist\", legend=None, bins=20, color='k')"
      ],
      "metadata": {
        "id": "nF-IbcxcMoD2",
        "colab": {
          "base_uri": "https://localhost:8080/",
          "height": 282
        },
        "outputId": "ba1b64db-3ee2-4e6c-d933-b12bd203345e"
      },
      "execution_count": 13,
      "outputs": [
        {
          "output_type": "execute_result",
          "data": {
            "text/plain": [
              "<matplotlib.axes._subplots.AxesSubplot at 0x7f173f4932d0>"
            ]
          },
          "metadata": {},
          "execution_count": 13
        },
        {
          "output_type": "display_data",
          "data": {
            "text/plain": [
              "<Figure size 432x288 with 1 Axes>"
            ],
            "image/png": "[encoded data removed]"
          },
          "metadata": {
            "needs_background": "light"
          }
        }
      ]
    },
    {
      "cell_type": "code",
      "source": [
        "sample.plot(kind=\"kde\", legend=None)"
      ],
      "metadata": {
        "colab": {
          "base_uri": "https://localhost:8080/",
          "height": 282
        },
        "id": "eQ0DRCplpk6h",
        "outputId": "52c387f1-56ce-4c0c-f8ee-fa40ef7df28b"
      },
      "execution_count": 14,
      "outputs": [
        {
          "output_type": "execute_result",
          "data": {
            "text/plain": [
              "<matplotlib.axes._subplots.AxesSubplot at 0x7f173dfa9b50>"
            ]
          },
          "metadata": {},
          "execution_count": 14
        },
        {
          "output_type": "display_data",
          "data": {
            "text/plain": [
              "<Figure size 432x288 with 1 Axes>"
            ],
            "image/png": "[encoded data removed]"
          },
          "metadata": {
            "needs_background": "light"
          }
        }
      ]
    },
    {
      "cell_type": "markdown",
      "metadata": {
        "id": "zKCLV_01nCqX"
      },
      "source": [
        "##Preprocessing "
      ]
    },
    {
      "cell_type": "code",
      "execution_count": 15,
      "metadata": {
        "id": "Qga617WpntpJ"
      },
      "outputs": [],
      "source": [
        "X_train = train_df.iloc[:,:-1].reset_index(drop=True)\n",
        "y_train = train_df.iloc[:,-1].reset_index(drop=True).astype(\"int\")\n",
        "\n",
        "X_test = test_df.iloc[:,:-1].reset_index(drop=True)\n",
        "y_test = test_df.iloc[:,-1].reset_index(drop=True).astype(\"int\")"
      ]
    },
    {
      "cell_type": "code",
      "execution_count": 16,
      "metadata": {
        "colab": {
          "base_uri": "https://localhost:8080/"
        },
        "id": "PSLzvruIwQAB",
        "outputId": "e11f7871-563a-4a94-8b20-379b2890b65a"
      },
      "outputs": [
        {
          "output_type": "execute_result",
          "data": {
            "text/plain": [
              "(38, 7129)"
            ]
          },
          "metadata": {},
          "execution_count": 16
        }
      ],
      "source": [
        "X_train.shape"
      ]
    },
    {
      "cell_type": "markdown",
      "metadata": {
        "id": "zilTE4UOrTBm"
      },
      "source": [
        "###StandardScaler"
      ]
    },
    {
      "cell_type": "code",
      "execution_count": 17,
      "metadata": {
        "id": "VxYR8L5cnFMW"
      },
      "outputs": [],
      "source": [
        "from sklearn.preprocessing import StandardScaler\n",
        "\n",
        "scaler = StandardScaler()\n",
        "X_train_scl = scaler.fit_transform(X_train)\n",
        "X_test_scl = scaler.fit_transform(X_test)\n"
      ]
    },
    {
      "cell_type": "markdown",
      "source": [
        "###Distribution of the random sample after standardizing"
      ],
      "metadata": {
        "id": "TUmyrdrxpy9w"
      }
    },
    {
      "cell_type": "code",
      "source": [
        "sample = pd.DataFrame(X_train_scl).sample(n=100, axis=1)\n",
        "sample.describe().round()"
      ],
      "metadata": {
        "colab": {
          "base_uri": "https://localhost:8080/",
          "height": 330
        },
        "id": "7Iu8euPrqPkL",
        "outputId": "b6a41219-4c80-4f9d-a34c-14ef6b27095f"
      },
      "execution_count": 18,
      "outputs": [
        {
          "output_type": "execute_result",
          "data": {
            "text/plain": [
              "       4455  5449  1010  4     6761  5735  3819  7014  476   2344  ...  3228  \\\n",
              "count  38.0  38.0  38.0  38.0  38.0  38.0  38.0  38.0  38.0  38.0  ...  38.0   \n",
              "mean    0.0  -0.0  -0.0  -0.0  -0.0  -0.0   0.0  -0.0  -0.0   0.0  ...  -0.0   \n",
              "std     1.0   1.0   1.0   1.0   1.0   1.0   1.0   1.0   1.0   1.0  ...   1.0   \n",
              "min    -1.0  -1.0  -3.0  -2.0  -3.0  -2.0  -2.0  -3.0  -1.0  -1.0  ...  -1.0   \n",
              "25%    -0.0  -1.0  -1.0  -1.0  -1.0  -0.0  -1.0  -1.0  -0.0  -1.0  ...  -1.0   \n",
              "50%    -0.0  -0.0   0.0   0.0   0.0   0.0   0.0   0.0  -0.0  -0.0  ...  -0.0   \n",
              "75%     0.0   0.0   1.0   1.0   1.0   0.0   1.0   1.0   0.0  -0.0  ...   0.0   \n",
              "max     5.0   4.0   2.0   2.0   2.0   2.0   2.0   2.0   4.0   4.0  ...   3.0   \n",
              "\n",
              "       4344  6770  5037  2069  3503  4936  3796  2485  1880  \n",
              "count  38.0  38.0  38.0  38.0  38.0  38.0  38.0  38.0  38.0  \n",
              "mean    0.0  -0.0  -0.0  -0.0   0.0   0.0   0.0  -0.0  -0.0  \n",
              "std     1.0   1.0   1.0   1.0   1.0   1.0   1.0   1.0   1.0  \n",
              "min    -2.0  -2.0  -3.0  -3.0  -1.0  -2.0  -2.0  -2.0  -3.0  \n",
              "25%    -0.0  -1.0  -1.0  -1.0  -1.0  -1.0  -1.0  -1.0  -1.0  \n",
              "50%    -0.0  -0.0   0.0  -0.0  -0.0  -0.0  -0.0   0.0   0.0  \n",
              "75%     0.0   1.0   1.0   1.0   0.0   1.0   1.0   1.0   1.0  \n",
              "max     3.0   2.0   2.0   2.0   4.0   3.0   2.0   3.0   1.0  \n",
              "\n",
              "[8 rows x 100 columns]"
            ],
            "text/html": [
              "\n",
              "  <div id=\"df-05945904-1b39-4aa2-8429-2489d7d431f2\">\n",
              "    <div class=\"colab-df-container\">\n",
              "      <div>\n",
              "<style scoped>\n",
              "    .dataframe tbody tr th:only-of-type {\n",
              "        vertical-align: middle;\n",
              "    }\n",
              "\n",
              "    .dataframe tbody tr th {\n",
              "        vertical-align: top;\n",
              "    }\n",
              "\n",
              "    .dataframe thead th {\n",
              "        text-align: right;\n",
              "    }\n",
              "</style>\n",
              "<table border=\"1\" class=\"dataframe\">\n",
              "  <thead>\n",
              "    <tr style=\"text-align: right;\">\n",
              "      <th></th>\n",
              "      <th>4455</th>\n",
              "      <th>5449</th>\n",
              "      <th>1010</th>\n",
              "      <th>4</th>\n",
              "      <th>6761</th>\n",
              "      <th>5735</th>\n",
              "      <th>3819</th>\n",
              "      <th>7014</th>\n",
              "      <th>476</th>\n",
              "      <th>2344</th>\n",
              "      <th>...</th>\n",
              "      <th>3228</th>\n",
              "      <th>4344</th>\n",
              "      <th>6770</th>\n",
              "      <th>5037</th>\n",
              "      <th>2069</th>\n",
              "      <th>3503</th>\n",
              "      <th>4936</th>\n",
              "      <th>3796</th>\n",
              "      <th>2485</th>\n",
              "      <th>1880</th>\n",
              "    </tr>\n",
              "  </thead>\n",
              "  <tbody>\n",
              "    <tr>\n",
              "      <th>count</th>\n",
              "      <td>38.0</td>\n",
              "      <td>38.0</td>\n",
              "      <td>38.0</td>\n",
              "      <td>38.0</td>\n",
              "      <td>38.0</td>\n",
              "      <td>38.0</td>\n",
              "      <td>38.0</td>\n",
              "      <td>38.0</td>\n",
              "      <td>38.0</td>\n",
              "      <td>38.0</td>\n",
              "      <td>...</td>\n",
              "      <td>38.0</td>\n",
              "      <td>38.0</td>\n",
              "      <td>38.0</td>\n",
              "      <td>38.0</td>\n",
              "      <td>38.0</td>\n",
              "      <td>38.0</td>\n",
              "      <td>38.0</td>\n",
              "      <td>38.0</td>\n",
              "      <td>38.0</td>\n",
              "      <td>38.0</td>\n",
              "    </tr>\n",
              "    <tr>\n",
              "      <th>mean</th>\n",
              "      <td>0.0</td>\n",
              "      <td>-0.0</td>\n",
              "      <td>-0.0</td>\n",
              "      <td>-0.0</td>\n",
              "      <td>-0.0</td>\n",
              "      <td>-0.0</td>\n",
              "      <td>0.0</td>\n",
              "      <td>-0.0</td>\n",
              "      <td>-0.0</td>\n",
              "      <td>0.0</td>\n",
              "      <td>...</td>\n",
              "      <td>-0.0</td>\n",
              "      <td>0.0</td>\n",
              "      <td>-0.0</td>\n",
              "      <td>-0.0</td>\n",
              "      <td>-0.0</td>\n",
              "      <td>0.0</td>\n",
              "      <td>0.0</td>\n",
              "      <td>0.0</td>\n",
              "      <td>-0.0</td>\n",
              "      <td>-0.0</td>\n",
              "    </tr>\n",
              "    <tr>\n",
              "      <th>std</th>\n",
              "      <td>1.0</td>\n",
              "      <td>1.0</td>\n",
              "      <td>1.0</td>\n",
              "      <td>1.0</td>\n",
              "      <td>1.0</td>\n",
              "      <td>1.0</td>\n",
              "      <td>1.0</td>\n",
              "      <td>1.0</td>\n",
              "      <td>1.0</td>\n",
              "      <td>1.0</td>\n",
              "      <td>...</td>\n",
              "      <td>1.0</td>\n",
              "      <td>1.0</td>\n",
              "      <td>1.0</td>\n",
              "      <td>1.0</td>\n",
              "      <td>1.0</td>\n",
              "      <td>1.0</td>\n",
              "      <td>1.0</td>\n",
              "      <td>1.0</td>\n",
              "      <td>1.0</td>\n",
              "      <td>1.0</td>\n",
              "    </tr>\n",
              "    <tr>\n",
              "      <th>min</th>\n",
              "      <td>-1.0</td>\n",
              "      <td>-1.0</td>\n",
              "      <td>-3.0</td>\n",
              "      <td>-2.0</td>\n",
              "      <td>-3.0</td>\n",
              "      <td>-2.0</td>\n",
              "      <td>-2.0</td>\n",
              "      <td>-3.0</td>\n",
              "      <td>-1.0</td>\n",
              "      <td>-1.0</td>\n",
              "      <td>...</td>\n",
              "      <td>-1.0</td>\n",
              "      <td>-2.0</td>\n",
              "      <td>-2.0</td>\n",
              "      <td>-3.0</td>\n",
              "      <td>-3.0</td>\n",
              "      <td>-1.0</td>\n",
              "      <td>-2.0</td>\n",
              "      <td>-2.0</td>\n",
              "      <td>-2.0</td>\n",
              "      <td>-3.0</td>\n",
              "    </tr>\n",
              "    <tr>\n",
              "      <th>25%</th>\n",
              "      <td>-0.0</td>\n",
              "      <td>-1.0</td>\n",
              "      <td>-1.0</td>\n",
              "      <td>-1.0</td>\n",
              "      <td>-1.0</td>\n",
              "      <td>-0.0</td>\n",
              "      <td>-1.0</td>\n",
              "      <td>-1.0</td>\n",
              "      <td>-0.0</td>\n",
              "      <td>-1.0</td>\n",
              "      <td>...</td>\n",
              "      <td>-1.0</td>\n",
              "      <td>-0.0</td>\n",
              "      <td>-1.0</td>\n",
              "      <td>-1.0</td>\n",
              "      <td>-1.0</td>\n",
              "      <td>-1.0</td>\n",
              "      <td>-1.0</td>\n",
              "      <td>-1.0</td>\n",
              "      <td>-1.0</td>\n",
              "      <td>-1.0</td>\n",
              "    </tr>\n",
              "    <tr>\n",
              "      <th>50%</th>\n",
              "      <td>-0.0</td>\n",
              "      <td>-0.0</td>\n",
              "      <td>0.0</td>\n",
              "      <td>0.0</td>\n",
              "      <td>0.0</td>\n",
              "      <td>0.0</td>\n",
              "      <td>0.0</td>\n",
              "      <td>0.0</td>\n",
              "      <td>-0.0</td>\n",
              "      <td>-0.0</td>\n",
              "      <td>...</td>\n",
              "      <td>-0.0</td>\n",
              "      <td>-0.0</td>\n",
              "      <td>-0.0</td>\n",
              "      <td>0.0</td>\n",
              "      <td>-0.0</td>\n",
              "      <td>-0.0</td>\n",
              "      <td>-0.0</td>\n",
              "      <td>-0.0</td>\n",
              "      <td>0.0</td>\n",
              "      <td>0.0</td>\n",
              "    </tr>\n",
              "    <tr>\n",
              "      <th>75%</th>\n",
              "      <td>0.0</td>\n",
              "      <td>0.0</td>\n",
              "      <td>1.0</td>\n",
              "      <td>1.0</td>\n",
              "      <td>1.0</td>\n",
              "      <td>0.0</td>\n",
              "      <td>1.0</td>\n",
              "      <td>1.0</td>\n",
              "      <td>0.0</td>\n",
              "      <td>-0.0</td>\n",
              "      <td>...</td>\n",
              "      <td>0.0</td>\n",
              "      <td>0.0</td>\n",
              "      <td>1.0</td>\n",
              "      <td>1.0</td>\n",
              "      <td>1.0</td>\n",
              "      <td>0.0</td>\n",
              "      <td>1.0</td>\n",
              "      <td>1.0</td>\n",
              "      <td>1.0</td>\n",
              "      <td>1.0</td>\n",
              "    </tr>\n",
              "    <tr>\n",
              "      <th>max</th>\n",
              "      <td>5.0</td>\n",
              "      <td>4.0</td>\n",
              "      <td>2.0</td>\n",
              "      <td>2.0</td>\n",
              "      <td>2.0</td>\n",
              "      <td>2.0</td>\n",
              "      <td>2.0</td>\n",
              "      <td>2.0</td>\n",
              "      <td>4.0</td>\n",
              "      <td>4.0</td>\n",
              "      <td>...</td>\n",
              "      <td>3.0</td>\n",
              "      <td>3.0</td>\n",
              "      <td>2.0</td>\n",
              "      <td>2.0</td>\n",
              "      <td>2.0</td>\n",
              "      <td>4.0</td>\n",
              "      <td>3.0</td>\n",
              "      <td>2.0</td>\n",
              "      <td>3.0</td>\n",
              "      <td>1.0</td>\n",
              "    </tr>\n",
              "  </tbody>\n",
              "</table>\n",
              "<p>8 rows × 100 columns</p>\n",
              "</div>\n",
              "      <button class=\"colab-df-convert\" onclick=\"convertToInteractive('df-05945904-1b39-4aa2-8429-2489d7d431f2')\"\n",
              "              title=\"Convert this dataframe to an interactive table.\"\n",
              "              style=\"display:none;\">\n",
              "        \n",
              "  <svg xmlns=\"http://www.w3.org/2000/svg\" height=\"24px\"viewBox=\"0 0 24 24\"\n",
              "       width=\"24px\">\n",
              "    <path d=\"M0 0h24v24H0V0z\" fill=\"none\"/>\n",
              "    <path d=\"M18.56 5.44l.94 2.06.94-2.06 2.06-.94-2.06-.94-.94-2.06-.94 2.06-2.06.94zm-11 1L8.5 8.5l.94-2.06 2.06-.94-2.06-.94L8.5 2.5l-.94 2.06-2.06.94zm10 10l.94 2.06.94-2.06 2.06-.94-2.06-.94-.94-2.06-.94 2.06-2.06.94z\"/><path d=\"M17.41 7.96l-1.37-1.37c-.4-.4-.92-.59-1.43-.59-.52 0-1.04.2-1.43.59L10.3 9.45l-7.72 7.72c-.78.78-.78 2.05 0 2.83L4 21.41c.39.39.9.59 1.41.59.51 0 1.02-.2 1.41-.59l7.78-7.78 2.81-2.81c.8-.78.8-2.07 0-2.86zM5.41 20L4 18.59l7.72-7.72 1.47 1.35L5.41 20z\"/>\n",
              "  </svg>\n",
              "      </button>\n",
              "      \n",
              "  <style>\n",
              "    .colab-df-container {\n",
              "      display:flex;\n",
              "      flex-wrap:wrap;\n",
              "      gap: 12px;\n",
              "    }\n",
              "\n",
              "    .colab-df-convert {\n",
              "      background-color: #E8F0FE;\n",
              "      border: none;\n",
              "      border-radius: 50%;\n",
              "      cursor: pointer;\n",
              "      display: none;\n",
              "      fill: #1967D2;\n",
              "      height: 32px;\n",
              "      padding: 0 0 0 0;\n",
              "      width: 32px;\n",
              "    }\n",
              "\n",
              "    .colab-df-convert:hover {\n",
              "      background-color: #E2EBFA;\n",
              "      box-shadow: 0px 1px 2px rgba(60, 64, 67, 0.3), 0px 1px 3px 1px rgba(60, 64, 67, 0.15);\n",
              "      fill: #174EA6;\n",
              "    }\n",
              "\n",
              "    [theme=dark] .colab-df-convert {\n",
              "      background-color: #3B4455;\n",
              "      fill: #D2E3FC;\n",
              "    }\n",
              "\n",
              "    [theme=dark] .colab-df-convert:hover {\n",
              "      background-color: #434B5C;\n",
              "      box-shadow: 0px 1px 3px 1px rgba(0, 0, 0, 0.15);\n",
              "      filter: drop-shadow(0px 1px 2px rgba(0, 0, 0, 0.3));\n",
              "      fill: #FFFFFF;\n",
              "    }\n",
              "  </style>\n",
              "\n",
              "      <script>\n",
              "        const buttonEl =\n",
              "          document.querySelector('#df-05945904-1b39-4aa2-8429-2489d7d431f2 button.colab-df-convert');\n",
              "        buttonEl.style.display =\n",
              "          google.colab.kernel.accessAllowed ? 'block' : 'none';\n",
              "\n",
              "        async function convertToInteractive(key) {\n",
              "          const element = document.querySelector('#df-05945904-1b39-4aa2-8429-2489d7d431f2');\n",
              "          const dataTable =\n",
              "            await google.colab.kernel.invokeFunction('convertToInteractive',\n",
              "                                                     [key], {});\n",
              "          if (!dataTable) return;\n",
              "\n",
              "          const docLinkHtml = 'Like what you see? Visit the ' +\n",
              "            '<a target=\"_blank\" href=https://colab.research.google.com/notebooks/data_table.ipynb>data table notebook</a>'\n",
              "            + ' to learn more about interactive tables.';\n",
              "          element.innerHTML = '';\n",
              "          dataTable['output_type'] = 'display_data';\n",
              "          await google.colab.output.renderOutput(dataTable, element);\n",
              "          const docLink = document.createElement('div');\n",
              "          docLink.innerHTML = docLinkHtml;\n",
              "          element.appendChild(docLink);\n",
              "        }\n",
              "      </script>\n",
              "    </div>\n",
              "  </div>\n",
              "  "
            ]
          },
          "metadata": {},
          "execution_count": 18
        }
      ]
    },
    {
      "cell_type": "code",
      "source": [
        "sample.plot(kind=\"hist\", legend=None, bins=20, color='k')"
      ],
      "metadata": {
        "colab": {
          "base_uri": "https://localhost:8080/",
          "height": 282
        },
        "id": "GKWYmpb_pyrI",
        "outputId": "b2e90b32-ef6a-462d-8afe-78713263146e"
      },
      "execution_count": 19,
      "outputs": [
        {
          "output_type": "execute_result",
          "data": {
            "text/plain": [
              "<matplotlib.axes._subplots.AxesSubplot at 0x7f173dac3c10>"
            ]
          },
          "metadata": {},
          "execution_count": 19
        },
        {
          "output_type": "display_data",
          "data": {
            "text/plain": [
              "<Figure size 432x288 with 1 Axes>"
            ],
            "image/png": "[encoded data removed]"
          },
          "metadata": {
            "needs_background": "light"
          }
        }
      ]
    },
    {
      "cell_type": "code",
      "source": [
        "sample.plot(kind=\"kde\", legend=None);"
      ],
      "metadata": {
        "colab": {
          "base_uri": "https://localhost:8080/",
          "height": 265
        },
        "id": "iF_3Vc9KqESD",
        "outputId": "dff0e29f-5b8f-4a5d-dfeb-a49afc34a551"
      },
      "execution_count": 20,
      "outputs": [
        {
          "output_type": "display_data",
          "data": {
            "text/plain": [
              "<Figure size 432x288 with 1 Axes>"
            ],
            "image/png": "[encoded data removed]"
          },
          "metadata": {
            "needs_background": "light"
          }
        }
      ]
    },
    {
      "cell_type": "markdown",
      "metadata": {
        "id": "Gg1_0y7ArVbQ"
      },
      "source": [
        "###PCA"
      ]
    },
    {
      "cell_type": "code",
      "execution_count": 21,
      "metadata": {
        "id": "ZuBR6juWogj8"
      },
      "outputs": [],
      "source": [
        "from sklearn.decomposition import PCA\n",
        "pca = PCA()\n",
        "pca.fit_transform(X_train)\n",
        "\n",
        "#calculate remaining dimentions\n",
        "total = sum(pca.explained_variance_)\n",
        "current_variance = 0\n",
        "i = 0\n",
        "while current_variance/total < 0.90:\n",
        "  current_variance += pca.explained_variance_[i]\n",
        "  i += 1\n",
        "#PCA\n",
        "pca = PCA(n_components = i)\n",
        "X_train_pca = pca.fit_transform(X_train_scl)\n",
        "X_test_pca = pca.fit_transform(X_test_scl)"
      ]
    },
    {
      "cell_type": "code",
      "execution_count": 22,
      "metadata": {
        "colab": {
          "base_uri": "https://localhost:8080/"
        },
        "id": "C9N2_R-WrxYk",
        "outputId": "46b5ddb5-10a9-4583-d823-67b5c46c20fe"
      },
      "outputs": [
        {
          "output_type": "execute_result",
          "data": {
            "text/plain": [
              "(38, 22)"
            ]
          },
          "metadata": {},
          "execution_count": 22
        }
      ],
      "source": [
        "X_train_pca.shape"
      ]
    },
    {
      "cell_type": "markdown",
      "source": [
        "### Explore distribution of data through pca data "
      ],
      "metadata": {
        "id": "-yTntVpCNgjw"
      }
    },
    {
      "cell_type": "code",
      "source": [
        "#Let's do a pca first \n",
        "pca = PCA(n_components=3)\n",
        "pca.fit_transform(X_train_scl)\n",
        "print(pca.explained_variance_ratio_) # Small variance explained\n",
        "\n",
        "PCA_df = pd.DataFrame(data = pca.fit_transform(X_train_scl), \n",
        "                           columns = ['pc1', 'pc2', 'pc3'])\n",
        "\n",
        "train_target= df.iloc[:,-1]\n",
        "PCA_df = pd.concat([PCA_df, train_target], axis = 1)\n",
        "\n",
        "fig = plt.figure(figsize=(10,8))\n",
        "ax = fig.add_subplot(111, projection='3d')\n",
        "colors = {'ALL':'red', 'AML':'blue'}\n",
        "ax.scatter(PCA_df.pc1, PCA_df.pc2, PCA_df.pc3, \n",
        "           c = train_target.apply(lambda x: colors[x]))\n",
        "plt.title('First 3 Principal Components after PCA')\n",
        "ax.set_xlabel('PC1')\n",
        "ax.set_ylabel('PC2')\n",
        "ax.set_zlabel('PC3')\n",
        "ax.view_init(20, 80)\n",
        "plt.tight_layout\n",
        "plt.show()"
      ],
      "metadata": {
        "colab": {
          "base_uri": "https://localhost:8080/",
          "height": 483
        },
        "id": "27V9x6MBNf7L",
        "outputId": "a4ce46b8-5b07-460c-d642-5c2174b7c021"
      },
      "execution_count": 23,
      "outputs": [
        {
          "output_type": "stream",
          "name": "stdout",
          "text": [
            "[0.14987793 0.11977811 0.06600568]\n"
          ]
        },
        {
          "output_type": "display_data",
          "data": {
            "text/plain": [
              "<Figure size 720x576 with 1 Axes>"
            ],
            "image/png": "[encoded data removed]"
          },
          "metadata": {
            "needs_background": "light"
          }
        }
      ]
    },
    {
      "cell_type": "markdown",
      "metadata": {
        "id": "kYNR3qwYHVYG"
      },
      "source": [
        "##Classification"
      ]
    },
    {
      "cell_type": "code",
      "source": [
        "ROC_results = dict()\n",
        "PR_results = dict()"
      ],
      "metadata": {
        "id": "cs99Ym7xUkjm"
      },
      "execution_count": 24,
      "outputs": []
    },
    {
      "cell_type": "markdown",
      "metadata": {
        "id": "XnNfLYzhma1d"
      },
      "source": [
        "###Using SVM Methods"
      ]
    },
    {
      "cell_type": "code",
      "execution_count": 25,
      "metadata": {
        "id": "mjoTEi5Ujkew"
      },
      "outputs": [],
      "source": [
        "from sklearn import svm\n",
        "from sklearn.model_selection import GridSearchCV\n",
        "from sklearn.metrics import accuracy_score, confusion_matrix"
      ]
    },
    {
      "cell_type": "markdown",
      "metadata": {
        "id": "cSDl5vt601Am"
      },
      "source": [
        "#### Original"
      ]
    },
    {
      "cell_type": "code",
      "execution_count": 26,
      "metadata": {
        "colab": {
          "base_uri": "https://localhost:8080/"
        },
        "id": "clnnPvLa07rK",
        "outputId": "03c6a4c2-aafb-4963-9611-3de4137b1ce6"
      },
      "outputs": [
        {
          "output_type": "stream",
          "name": "stdout",
          "text": [
            "Fitting 10 folds for each of 120 candidates, totalling 1200 fits\n",
            "Best Parameters:\n",
            " {'C': 0.05, 'gamma': 1, 'kernel': 'linear'}\n",
            "Best Estimators:\n",
            " SVC(C=0.05, gamma=1, kernel='linear', probability=True, random_state=0)\n"
          ]
        }
      ],
      "source": [
        "# Grid Search\n",
        "# Parameter Grid\n",
        "param_grid_SVM_non_pca = {'kernel': ['linear', 'rbf', 'poly', 'sigmoid'], 'C': [0.05,0.1, 1, 10, 100], 'gamma': [1, 0.1, 0.01, 0.001, 0.00001, 10]} \n",
        "# Make grid search classifier\n",
        "clf_grid_SVM_non_pca = GridSearchCV(svm.SVC(probability=True,random_state=0), param_grid_SVM_non_pca, cv=10, verbose=1)\n",
        "\n",
        "# Train the classifier\n",
        "clf_grid_SVM_non_pca.fit(X_train_scl, y_train)\n",
        "\n",
        "# clf = grid.best_estimator_()\n",
        "print(\"Best Parameters:\\n\", clf_grid_SVM_non_pca.best_params_)\n",
        "print(\"Best Estimators:\\n\", clf_grid_SVM_non_pca.best_estimator_)"
      ]
    },
    {
      "cell_type": "code",
      "execution_count": 27,
      "metadata": {
        "colab": {
          "base_uri": "https://localhost:8080/"
        },
        "id": "dnryN46s1E65",
        "outputId": "c8b9ea45-233a-4b90-d1c7-9af38a6c83c8"
      },
      "outputs": [
        {
          "output_type": "stream",
          "name": "stdout",
          "text": [
            "Accuracy:  0.7941176470588235\n"
          ]
        }
      ],
      "source": [
        "model_svm_with_non_pca_data = svm.SVC(**clf_grid_SVM_non_pca.best_params_, probability=True, random_state=0)\n",
        "model_svm_with_non_pca_data.fit(X_train_scl,y_train)\n",
        "pred = model_svm_with_non_pca_data.predict(X_test_scl)\n",
        "pred = pred.tolist()\n",
        "print('Accuracy: ', accuracy_score(y_test, pred))"
      ]
    },
    {
      "cell_type": "code",
      "source": [
        "probas = model_svm_with_non_pca_data.predict_proba(X_test_scl)[:,1]\n",
        "y_test_ = np.asarray(test_df.iloc[:,-1].values, dtype=\"int\")\n",
        "#ROC and AUC\n",
        "tpr, fpr, _ = roc_curve(y_test_, probas, pos_label=1)\n",
        "ROCAUC = roc_auc_score(y_test_, probas)\n",
        "ROC_results[\"SVM\"] = (tpr, fpr, ROCAUC)\n",
        "\n",
        "#PR\n",
        "precision, recall, _ = precision_recall_curve(y_test_, probas, pos_label=1)\n",
        "AUCPR = auc(recall, precision)\n",
        "PR_results[\"SVM\"] = (precision, recall, AUCPR)"
      ],
      "metadata": {
        "id": "CT3_fVjkT8DU"
      },
      "execution_count": 28,
      "outputs": []
    },
    {
      "cell_type": "code",
      "execution_count": 29,
      "metadata": {
        "colab": {
          "base_uri": "https://localhost:8080/"
        },
        "id": "uK4awob31RfP",
        "outputId": "f3c0cb29-bfbe-4ccb-f2d0-4b07972f3524"
      },
      "outputs": [
        {
          "output_type": "execute_result",
          "data": {
            "text/plain": [
              "array([[20,  0],\n",
              "       [ 7,  7]])"
            ]
          },
          "metadata": {},
          "execution_count": 29
        }
      ],
      "source": [
        "confusion_matrix(y_test, pred)"
      ]
    },
    {
      "cell_type": "markdown",
      "metadata": {
        "id": "QMkG4sjK057f"
      },
      "source": [
        "####PCA"
      ]
    },
    {
      "cell_type": "code",
      "execution_count": 30,
      "metadata": {
        "colab": {
          "base_uri": "https://localhost:8080/"
        },
        "id": "nrBPS9kRsmAk",
        "outputId": "a8ec22fb-3630-4423-e0c0-3ad40d6afa4c"
      },
      "outputs": [
        {
          "output_type": "stream",
          "name": "stdout",
          "text": [
            "Fitting 5 folds for each of 120 candidates, totalling 600 fits\n",
            "Best Parameters:\n",
            " {'C': 0.05, 'gamma': 1, 'kernel': 'linear'}\n",
            "Best Estimators:\n",
            " SVC(C=0.05, gamma=1, kernel='linear', probability=True, random_state=0)\n"
          ]
        }
      ],
      "source": [
        "# Grid Search\n",
        "# Parameter Grid\n",
        "param_grid_SVM_pca = {'kernel': ['linear', 'rbf', 'poly', 'sigmoid'], 'C': [0.05,0.1, 1, 10, 100], 'gamma': [1, 0.1, 0.01, 0.001, 0.00001, 10]} \n",
        "# Make grid search classifier\n",
        "clf_grid_SVM_pca = GridSearchCV(svm.SVC(probability=True,random_state=0), param_grid_SVM_pca, refit=True, verbose=1)\n",
        "\n",
        "# Train the classifier\n",
        "clf_grid_SVM_pca.fit(X_train_pca, y_train)\n",
        "\n",
        "# clf = grid.best_estimator_()\n",
        "print(\"Best Parameters:\\n\", clf_grid_SVM_pca.best_params_)\n",
        "print(\"Best Estimators:\\n\", clf_grid_SVM_pca.best_estimator_)"
      ]
    },
    {
      "cell_type": "code",
      "execution_count": 31,
      "metadata": {
        "colab": {
          "base_uri": "https://localhost:8080/"
        },
        "id": "ptdUC_-ev1CD",
        "outputId": "3e45202f-2429-4244-b35f-97e0007b3afd"
      },
      "outputs": [
        {
          "output_type": "stream",
          "name": "stdout",
          "text": [
            "Accuracy:  0.47058823529411764\n"
          ]
        }
      ],
      "source": [
        "model_svm_with_pca_data  = svm.SVC(**clf_grid_SVM_pca.best_params_, probability=True, random_state=0)\n",
        "model_svm_with_pca_data .fit(X_train_pca,y_train)\n",
        "pred = model_svm_with_pca_data .predict(X_test_pca)\n",
        "pred = pred.tolist()\n",
        "print('Accuracy: ', accuracy_score(y_test, pred))"
      ]
    },
    {
      "cell_type": "code",
      "source": [
        "probas = model_svm_with_pca_data.predict_proba(X_test_pca)[:,1]\n",
        "y_test_ = np.asarray(test_df.iloc[:,-1].values, dtype=\"int\")\n",
        "#ROC and AUC\n",
        "tpr, fpr, _ = roc_curve(y_test_, probas, pos_label=1)\n",
        "ROCAUC = roc_auc_score(y_test_, probas)\n",
        "ROC_results[\"SVM_PCA\"] = (tpr, fpr, ROCAUC)\n",
        "\n",
        "#PR\n",
        "precision, recall, _ = precision_recall_curve(y_test_, probas, pos_label=1)\n",
        "AUCPR = auc(recall, precision)\n",
        "PR_results[\"SVM_PCA\"] = (precision, recall, AUCPR)"
      ],
      "metadata": {
        "id": "2N8Qa-82XfFP"
      },
      "execution_count": 32,
      "outputs": []
    },
    {
      "cell_type": "code",
      "execution_count": 33,
      "metadata": {
        "colab": {
          "base_uri": "https://localhost:8080/"
        },
        "id": "quMDEgrwzjHO",
        "outputId": "6d61e86e-08ba-4228-91b3-394757853b4c"
      },
      "outputs": [
        {
          "output_type": "execute_result",
          "data": {
            "text/plain": [
              "array([[14,  6],\n",
              "       [12,  2]])"
            ]
          },
          "metadata": {},
          "execution_count": 33
        }
      ],
      "source": [
        "confusion_matrix(y_test, pred)"
      ]
    },
    {
      "cell_type": "markdown",
      "metadata": {
        "id": "yVA9mormiiP8"
      },
      "source": [
        "###Using Kmeans Method"
      ]
    },
    {
      "cell_type": "code",
      "execution_count": 34,
      "metadata": {
        "id": "CUhz798zzuyp"
      },
      "outputs": [],
      "source": [
        "from sklearn.cluster import KMeans\n"
      ]
    },
    {
      "cell_type": "markdown",
      "metadata": {
        "id": "nPKbmLWetua0"
      },
      "source": [
        "####Original"
      ]
    },
    {
      "cell_type": "code",
      "execution_count": 35,
      "metadata": {
        "colab": {
          "base_uri": "https://localhost:8080/"
        },
        "id": "jxSKvKN0vE4p",
        "outputId": "fd569959-0444-4fbe-8810-7cbb48468330"
      },
      "outputs": [
        {
          "output_type": "stream",
          "name": "stdout",
          "text": [
            "Accuracy:  0.2647058823529412\n"
          ]
        }
      ],
      "source": [
        "model_KMeans_with_non_pca_data = KMeans(n_clusters=2, random_state=0)\n",
        "model_KMeans_with_non_pca_data.fit_transform(X_train_scl)\n",
        "pred = model_KMeans_with_non_pca_data.predict(X_test_scl)\n",
        "print('Accuracy: ', accuracy_score(y_test, pred))"
      ]
    },
    {
      "cell_type": "code",
      "execution_count": 36,
      "metadata": {
        "colab": {
          "base_uri": "https://localhost:8080/"
        },
        "id": "zADg3MXVvb_T",
        "outputId": "6dd3f069-b9e4-4b84-8b7e-71b41e54b55b"
      },
      "outputs": [
        {
          "output_type": "execute_result",
          "data": {
            "text/plain": [
              "array([[ 4, 16],\n",
              "       [ 9,  5]])"
            ]
          },
          "metadata": {},
          "execution_count": 36
        }
      ],
      "source": [
        "confusion_matrix(y_test, pred)"
      ]
    },
    {
      "cell_type": "markdown",
      "metadata": {
        "id": "EWR93AFYwd0h"
      },
      "source": [
        "####PCA"
      ]
    },
    {
      "cell_type": "code",
      "execution_count": 37,
      "metadata": {
        "colab": {
          "base_uri": "https://localhost:8080/"
        },
        "id": "dwQOS7x6wc_q",
        "outputId": "796b2779-238d-4345-f02c-58bc13e64d8e"
      },
      "outputs": [
        {
          "output_type": "stream",
          "name": "stdout",
          "text": [
            "Accuracy:  0.7352941176470589\n"
          ]
        }
      ],
      "source": [
        "model_KMeans_with_pca_data = KMeans(n_clusters=2, random_state=0)\n",
        "model_KMeans_with_pca_data.fit_transform(X_train_pca)\n",
        "pred = model_KMeans_with_pca_data.predict(X_test_pca)\n",
        "print('Accuracy: ', accuracy_score(y_test, pred))"
      ]
    },
    {
      "cell_type": "code",
      "execution_count": 38,
      "metadata": {
        "colab": {
          "base_uri": "https://localhost:8080/"
        },
        "id": "R4hMYTi2wj5J",
        "outputId": "f82ab3c6-a5dc-47c4-a968-642c0aa34872"
      },
      "outputs": [
        {
          "output_type": "execute_result",
          "data": {
            "text/plain": [
              "array([[16,  4],\n",
              "       [ 5,  9]])"
            ]
          },
          "metadata": {},
          "execution_count": 38
        }
      ],
      "source": [
        "confusion_matrix(y_test, pred)"
      ]
    },
    {
      "cell_type": "markdown",
      "metadata": {
        "id": "D00Z6U0iQvhk"
      },
      "source": [
        "###Using Random Forest Method\n",
        "\n",
        "\n"
      ]
    },
    {
      "cell_type": "code",
      "execution_count": 39,
      "metadata": {
        "id": "zGfncXcAAFLI"
      },
      "outputs": [],
      "source": [
        "from sklearn.ensemble import RandomForestClassifier"
      ]
    },
    {
      "cell_type": "code",
      "execution_count": 40,
      "metadata": {
        "colab": {
          "base_uri": "https://localhost:8080/"
        },
        "id": "_RzQDbEGwtyV",
        "outputId": "41350ed9-8a1e-46cd-92e0-11d6ab88399d"
      },
      "outputs": [
        {
          "output_type": "stream",
          "name": "stdout",
          "text": [
            "Best Parameters:\n",
            " {'bootstrap': False, 'max_features': 0.6, 'min_samples_leaf': 8, 'min_samples_split': 3, 'n_estimators': 70}\n",
            "Best Estimators:\n",
            " RandomForestClassifier(bootstrap=False, max_features=0.6, min_samples_leaf=8,\n",
            "                       min_samples_split=3, n_estimators=70, random_state=0)\n"
          ]
        }
      ],
      "source": [
        "# Hyperparameters search grid \n",
        "rf_param_grid = {'bootstrap': [False, True],\n",
        "         'n_estimators': [60, 70, 80, 90, 100],\n",
        "         'max_features': [0.6, 0.65, 0.7, 0.75, 0.8],\n",
        "         'min_samples_leaf': [8, 10, 12, 14],\n",
        "         'min_samples_split': [3, 5, 7]\n",
        "        }\n",
        "\n",
        "\n",
        "# Create the GridSearchCV object\n",
        "model_Random_Forest_data = GridSearchCV(RandomForestClassifier(random_state=0), param_grid=rf_param_grid, cv=3, scoring='accuracy')\n",
        "\n",
        "# Fine-tune the hyperparameters\n",
        "model_Random_Forest_data.fit(X_train, y_train)\n",
        "print(\"Best Parameters:\\n\", model_Random_Forest_data.best_params_)\n",
        "print(\"Best Estimators:\\n\", model_Random_Forest_data.best_estimator_)"
      ]
    },
    {
      "cell_type": "code",
      "execution_count": 41,
      "metadata": {
        "colab": {
          "base_uri": "https://localhost:8080/"
        },
        "id": "Las_6sKfAURD",
        "outputId": "9c3aea98-0a8c-47ea-b028-52cfbc7d72ae"
      },
      "outputs": [
        {
          "output_type": "stream",
          "name": "stdout",
          "text": [
            "Accuracy:  0.9117647058823529\n"
          ]
        }
      ],
      "source": [
        "# Get the best model\n",
        "model_Radom_Forest_data_best = model_Random_Forest_data.best_estimator_\n",
        "\n",
        "# Make predictions using the optimised parameters\n",
        "pred = model_Radom_Forest_data_best.predict(X_test)\n",
        "print('Accuracy: ', accuracy_score(y_test, pred))"
      ]
    },
    {
      "cell_type": "code",
      "source": [
        "probas = model_Radom_Forest_data_best.predict_proba(X_test_scl)[:,1]\n",
        "y_test_ = np.asarray(test_df.iloc[:,-1].values, dtype=\"int\")\n",
        "#ROC and AUC\n",
        "tpr, fpr, _ = roc_curve(y_test_, probas, pos_label=1)\n",
        "ROCAUC = roc_auc_score(y_test_, probas)\n",
        "ROC_results[\"Random_Forest\"] = (tpr, fpr, ROCAUC)\n",
        "\n",
        "#PR\n",
        "precision, recall, _ = precision_recall_curve(y_test_, probas, pos_label=1)\n",
        "AUCPR = auc(recall, precision)\n",
        "PR_results[\"Random_Forest\"] = (precision, recall, AUCPR)"
      ],
      "metadata": {
        "id": "pqTM8y-vYTzN"
      },
      "execution_count": 42,
      "outputs": []
    },
    {
      "cell_type": "code",
      "execution_count": 43,
      "metadata": {
        "colab": {
          "base_uri": "https://localhost:8080/"
        },
        "id": "zR44F_VRA1KQ",
        "outputId": "6efb5b6a-267b-4e34-f6ee-07d0f6e0600d"
      },
      "outputs": [
        {
          "output_type": "execute_result",
          "data": {
            "text/plain": [
              "array([[18,  2],\n",
              "       [ 1, 13]])"
            ]
          },
          "metadata": {},
          "execution_count": 43
        }
      ],
      "source": [
        "confusion_matrix(y_test, pred)"
      ]
    },
    {
      "cell_type": "markdown",
      "metadata": {
        "id": "iLao_pbGHJmk"
      },
      "source": [
        "###Using GradientBoostingClassifier"
      ]
    },
    {
      "cell_type": "code",
      "execution_count": 44,
      "metadata": {
        "id": "N9oFhVM4svbI"
      },
      "outputs": [],
      "source": [
        "from sklearn.ensemble import GradientBoostingClassifier "
      ]
    },
    {
      "cell_type": "markdown",
      "metadata": {
        "id": "fw79rk8yyB1W"
      },
      "source": [
        "####Original"
      ]
    },
    {
      "cell_type": "code",
      "execution_count": 45,
      "metadata": {
        "colab": {
          "base_uri": "https://localhost:8080/"
        },
        "id": "wpRYG-m4u7SE",
        "outputId": "ad247814-2ba7-4709-bb5f-719205e9105f"
      },
      "outputs": [
        {
          "output_type": "stream",
          "name": "stdout",
          "text": [
            "Accuracy:  0.9117647058823529\n"
          ]
        }
      ],
      "source": [
        "model_GradientBoostingClassifier_non_pca_data = GradientBoostingClassifier(max_depth=5, loss='exponential', n_estimators=50, learning_rate=0.8, random_state=0)\n",
        "model_GradientBoostingClassifier_non_pca_data.fit(X_train_scl, y_train)\n",
        "pred = model_GradientBoostingClassifier_non_pca_data.predict(X_test_scl)\n",
        "print('Accuracy: ', accuracy_score(y_test, pred))"
      ]
    },
    {
      "cell_type": "code",
      "source": [
        "probas = model_GradientBoostingClassifier_non_pca_data.predict_proba(X_test_scl)[:,1]\n",
        "y_test_ = np.asarray(test_df.iloc[:,-1].values, dtype=\"int\")\n",
        "#ROC and AUC\n",
        "tpr, fpr, _ = roc_curve(y_test_, probas, pos_label=1)\n",
        "ROCAUC = roc_auc_score(y_test_, probas)\n",
        "ROC_results[\"Gradient_Boosting_Classifier\"] = (tpr, fpr, ROCAUC)\n",
        "\n",
        "#PR\n",
        "precision, recall, _ = precision_recall_curve(y_test_, probas, pos_label=1)\n",
        "AUCPR = auc(recall, precision)\n",
        "PR_results[\"Gradient_Boosting_Classifier\"] = (precision, recall, AUCPR)"
      ],
      "metadata": {
        "id": "z_yGaJ_4es_q"
      },
      "execution_count": 46,
      "outputs": []
    },
    {
      "cell_type": "code",
      "source": [
        "confusion_matrix(y_test, pred)"
      ],
      "metadata": {
        "colab": {
          "base_uri": "https://localhost:8080/"
        },
        "id": "VDKPQT5kBOec",
        "outputId": "150be16e-2890-47d7-af5f-7c161fa481f4"
      },
      "execution_count": 47,
      "outputs": [
        {
          "output_type": "execute_result",
          "data": {
            "text/plain": [
              "array([[18,  2],\n",
              "       [ 1, 13]])"
            ]
          },
          "metadata": {},
          "execution_count": 47
        }
      ]
    },
    {
      "cell_type": "markdown",
      "metadata": {
        "id": "1JqNr8SnyGc7"
      },
      "source": [
        "####PCA"
      ]
    },
    {
      "cell_type": "code",
      "execution_count": 48,
      "metadata": {
        "colab": {
          "base_uri": "https://localhost:8080/"
        },
        "id": "sADx2ZtNyINX",
        "outputId": "7bc9a011-66ad-4240-e1b2-173c3ea99d3e"
      },
      "outputs": [
        {
          "output_type": "stream",
          "name": "stdout",
          "text": [
            "Accuracy:  0.5\n"
          ]
        }
      ],
      "source": [
        "model_GradientBoostingClassifier_pca_data= GradientBoostingClassifier(max_depth=5, loss='exponential', n_estimators=50, learning_rate=0.8, random_state=0)\n",
        "model_GradientBoostingClassifier_pca_data.fit(X_train_pca, y_train)\n",
        "pred = model_GradientBoostingClassifier_pca_data.predict(X_test_pca)\n",
        "print('Accuracy: ', accuracy_score(y_test, pred))"
      ]
    },
    {
      "cell_type": "code",
      "source": [
        "probas = model_GradientBoostingClassifier_pca_data.predict_proba(X_test_pca)[:,1]\n",
        "y_test_ = np.asarray(test_df.iloc[:,-1].values, dtype=\"int\")\n",
        "#ROC and AUC\n",
        "tpr, fpr, _ = roc_curve(y_test_, probas, pos_label=1)\n",
        "ROCAUC = roc_auc_score(y_test_, probas)\n",
        "ROC_results[\"Gradient_Boosting_Classifier_PCA\"] = (tpr, fpr, ROCAUC)\n",
        "\n",
        "#PR\n",
        "precision, recall, _ = precision_recall_curve(y_test_, probas, pos_label=1)\n",
        "AUCPR = auc(recall, precision)\n",
        "PR_results[\"Gradient_Boosting_Classifier_PCA\"] = (precision, recall, AUCPR)"
      ],
      "metadata": {
        "id": "mkhsZxOhh0o7"
      },
      "execution_count": 49,
      "outputs": []
    },
    {
      "cell_type": "code",
      "execution_count": 50,
      "metadata": {
        "colab": {
          "base_uri": "https://localhost:8080/"
        },
        "id": "fL16JxlQyTqF",
        "outputId": "358ef2a5-b397-4e97-bc79-042a1ad10c54"
      },
      "outputs": [
        {
          "output_type": "execute_result",
          "data": {
            "text/plain": [
              "array([[13,  7],\n",
              "       [10,  4]])"
            ]
          },
          "metadata": {},
          "execution_count": 50
        }
      ],
      "source": [
        "confusion_matrix(y_test, pred)"
      ]
    },
    {
      "cell_type": "markdown",
      "metadata": {
        "id": "AgWSdIQpxhtC"
      },
      "source": [
        "###Using XGBoost"
      ]
    },
    {
      "cell_type": "code",
      "execution_count": 51,
      "metadata": {
        "id": "LQksd_6_xoMM"
      },
      "outputs": [],
      "source": [
        "import xgboost "
      ]
    },
    {
      "cell_type": "markdown",
      "metadata": {
        "id": "toLlAdL8zN7f"
      },
      "source": [
        "####Original"
      ]
    },
    {
      "cell_type": "code",
      "execution_count": 52,
      "metadata": {
        "colab": {
          "base_uri": "https://localhost:8080/"
        },
        "id": "EMWm4M81xrky",
        "outputId": "97b71a0d-77f3-4654-c5bc-6f2d2149b929"
      },
      "outputs": [
        {
          "output_type": "stream",
          "name": "stdout",
          "text": [
            "Accuracy:  0.9117647058823529\n"
          ]
        }
      ],
      "source": [
        "model_XGBoost_non_pca_data=xgboost.XGBClassifier(random_state=0)\n",
        "model_XGBoost_non_pca_data.fit(X_train_scl, y_train)\n",
        "pred = model_XGBoost_non_pca_data.predict(X_test_scl)\n",
        "print('Accuracy: ', accuracy_score(y_test, pred))"
      ]
    },
    {
      "cell_type": "code",
      "source": [
        "probas = model_XGBoost_non_pca_data.predict_proba(X_test_scl)[:,1]\n",
        "y_test_ = np.asarray(test_df.iloc[:,-1].values, dtype=\"int\")\n",
        "#ROC and AUC\n",
        "tpr, fpr, _ = roc_curve(y_test_, probas, pos_label=1)\n",
        "ROCAUC = roc_auc_score(y_test_, probas)\n",
        "ROC_results[\"XGBoost\"] = (tpr, fpr, ROCAUC)\n",
        "\n",
        "#PR\n",
        "precision, recall, _ = precision_recall_curve(y_test_, probas, pos_label=1)\n",
        "AUCPR = auc(recall, precision)\n",
        "PR_results[\"XGBoost\"] = (precision, recall, AUCPR)"
      ],
      "metadata": {
        "id": "DiQEdKWNiPFM"
      },
      "execution_count": 53,
      "outputs": []
    },
    {
      "cell_type": "code",
      "source": [
        "confusion_matrix(y_test, pred)"
      ],
      "metadata": {
        "colab": {
          "base_uri": "https://localhost:8080/"
        },
        "id": "laKHQ81FCkBy",
        "outputId": "889a4065-6c36-4a9f-90db-48a642c47495"
      },
      "execution_count": 54,
      "outputs": [
        {
          "output_type": "execute_result",
          "data": {
            "text/plain": [
              "array([[18,  2],\n",
              "       [ 1, 13]])"
            ]
          },
          "metadata": {},
          "execution_count": 54
        }
      ]
    },
    {
      "cell_type": "markdown",
      "source": [
        "####PCA\n"
      ],
      "metadata": {
        "id": "UcKvyFgQCxIy"
      }
    },
    {
      "cell_type": "code",
      "source": [
        "model_XGBoost_pca_data=xgboost.XGBClassifier(random_state=0)\n",
        "model_XGBoost_pca_data.fit(X_train_pca, y_train)\n",
        "pred = model_XGBoost_pca_data.predict(X_test_pca)\n",
        "print('Accuracy: ', accuracy_score(y_test, pred))"
      ],
      "metadata": {
        "colab": {
          "base_uri": "https://localhost:8080/"
        },
        "id": "YDhpvSJCCzfe",
        "outputId": "ea9bfba5-6fb3-4a46-e3f7-af7ca0de88de"
      },
      "execution_count": 55,
      "outputs": [
        {
          "output_type": "stream",
          "name": "stdout",
          "text": [
            "Accuracy:  0.5\n"
          ]
        }
      ]
    },
    {
      "cell_type": "code",
      "source": [
        "probas = model_XGBoost_pca_data.predict_proba(X_test_pca)[:,1]\n",
        "y_test_ = np.asarray(test_df.iloc[:,-1].values, dtype=\"int\")\n",
        "#ROC and AUC\n",
        "tpr, fpr, _ = roc_curve(y_test_, probas, pos_label=1)\n",
        "ROCAUC = roc_auc_score(y_test_, probas)\n",
        "ROC_results[\"XGBoost_PCA\"] = (tpr, fpr, ROCAUC)\n",
        "\n",
        "#PR\n",
        "precision, recall, _ = precision_recall_curve(y_test_, probas, pos_label=1)\n",
        "AUCPR = auc(recall, precision)\n",
        "PR_results[\"XGBoost_PCA\"] = (precision, recall, AUCPR)"
      ],
      "metadata": {
        "id": "BdDtCHLKjWTs"
      },
      "execution_count": 56,
      "outputs": []
    },
    {
      "cell_type": "code",
      "source": [
        "confusion_matrix(y_test, pred)"
      ],
      "metadata": {
        "colab": {
          "base_uri": "https://localhost:8080/"
        },
        "id": "-bgrEgP7C4jr",
        "outputId": "d712e7e5-8076-4c23-81ea-d8e7403d02d3"
      },
      "execution_count": 57,
      "outputs": [
        {
          "output_type": "execute_result",
          "data": {
            "text/plain": [
              "array([[15,  5],\n",
              "       [12,  2]])"
            ]
          },
          "metadata": {},
          "execution_count": 57
        }
      ]
    },
    {
      "cell_type": "markdown",
      "metadata": {
        "id": "GupFMmHgGnJ5"
      },
      "source": [
        "###Using Neural Network"
      ]
    },
    {
      "cell_type": "code",
      "source": [
        "from tensorflow import keras"
      ],
      "metadata": {
        "id": "eoObyx-NGrPa"
      },
      "execution_count": 58,
      "outputs": []
    },
    {
      "cell_type": "markdown",
      "source": [
        "####Original"
      ],
      "metadata": {
        "id": "1puNqiYcEvo4"
      }
    },
    {
      "cell_type": "code",
      "source": [
        "NN_model = keras.Sequential([\n",
        "    keras.layers.Dense(32, activation='relu', input_shape=X_train_scl[1].shape),\n",
        "    keras.layers.Dense(16, activation='relu'),\n",
        "    keras.layers.Dense(1, activation='sigmoid')\n",
        "])"
      ],
      "metadata": {
        "id": "NNWBmm92EvR0"
      },
      "execution_count": 59,
      "outputs": []
    },
    {
      "cell_type": "code",
      "source": [
        "NN_model.compile(\n",
        "    loss='binary_crossentropy',\n",
        "    optimizer='adam',\n",
        "    metrics=['binary_accuracy']\n",
        ")"
      ],
      "metadata": {
        "id": "4EXw_AFVEuzw"
      },
      "execution_count": 60,
      "outputs": []
    },
    {
      "cell_type": "code",
      "source": [
        "early_stopping = keras.callbacks.EarlyStopping(\n",
        "    patience=5,\n",
        "    min_delta=0.005,\n",
        "    restore_best_weights=True,\n",
        ")"
      ],
      "metadata": {
        "id": "gzzfSZXzH8hi"
      },
      "execution_count": 61,
      "outputs": []
    },
    {
      "cell_type": "code",
      "source": [
        "train_history = NN_model.fit(\n",
        "    X_train_scl, y_train,\n",
        "    validation_data=(X_test_scl, y_test),\n",
        "    batch_size = 8,\n",
        "    epochs = 500,\n",
        "    callbacks=[early_stopping]\n",
        ")"
      ],
      "metadata": {
        "colab": {
          "base_uri": "https://localhost:8080/"
        },
        "id": "uF0n0hYwH-iv",
        "outputId": "e4e66ee6-79ab-4e7d-f0f3-8a5b737d0726"
      },
      "execution_count": 62,
      "outputs": [
        {
          "output_type": "stream",
          "name": "stdout",
          "text": [
            "Epoch 1/500\n",
            "5/5 [==============================] - 3s 45ms/step - loss: 1.6449 - binary_accuracy: 0.4737 - val_loss: 0.5896 - val_binary_accuracy: 0.7647\n",
            "Epoch 2/500\n",
            "5/5 [==============================] - 0s 13ms/step - loss: 0.1593 - binary_accuracy: 0.9211 - val_loss: 0.5473 - val_binary_accuracy: 0.7941\n",
            "Epoch 3/500\n",
            "5/5 [==============================] - 0s 10ms/step - loss: 0.0500 - binary_accuracy: 0.9737 - val_loss: 0.5407 - val_binary_accuracy: 0.7941\n",
            "Epoch 4/500\n",
            "5/5 [==============================] - 0s 12ms/step - loss: 0.0279 - binary_accuracy: 1.0000 - val_loss: 0.5622 - val_binary_accuracy: 0.7647\n",
            "Epoch 5/500\n",
            "5/5 [==============================] - 0s 9ms/step - loss: 0.0170 - binary_accuracy: 1.0000 - val_loss: 0.5935 - val_binary_accuracy: 0.7353\n",
            "Epoch 6/500\n",
            "5/5 [==============================] - 0s 12ms/step - loss: 0.0243 - binary_accuracy: 0.9737 - val_loss: 0.6208 - val_binary_accuracy: 0.7353\n",
            "Epoch 7/500\n",
            "5/5 [==============================] - 0s 9ms/step - loss: 0.0088 - binary_accuracy: 1.0000 - val_loss: 0.6450 - val_binary_accuracy: 0.7353\n",
            "Epoch 8/500\n",
            "5/5 [==============================] - 0s 13ms/step - loss: 0.0070 - binary_accuracy: 1.0000 - val_loss: 0.6667 - val_binary_accuracy: 0.7059\n"
          ]
        }
      ]
    },
    {
      "cell_type": "code",
      "source": [
        "pred = np.asarray(NN_model.predict(X_test_scl)>0.5, dtype=\"int\")\n",
        "print('Accuracy: ', accuracy_score(y_test, pred))"
      ],
      "metadata": {
        "colab": {
          "base_uri": "https://localhost:8080/"
        },
        "id": "quto0nw6IEdE",
        "outputId": "6bc073ea-9de3-4e36-b520-fbe02059707a"
      },
      "execution_count": 63,
      "outputs": [
        {
          "output_type": "stream",
          "name": "stdout",
          "text": [
            "Accuracy:  0.7941176470588235\n"
          ]
        }
      ]
    },
    {
      "cell_type": "code",
      "source": [
        "confusion_matrix(y_test, pred)"
      ],
      "metadata": {
        "colab": {
          "base_uri": "https://localhost:8080/"
        },
        "id": "_kRWGCpXIIGd",
        "outputId": "46c6cd5e-b9c4-4ddf-c668-f6f4cd1b3234"
      },
      "execution_count": 64,
      "outputs": [
        {
          "output_type": "execute_result",
          "data": {
            "text/plain": [
              "array([[17,  3],\n",
              "       [ 4, 10]])"
            ]
          },
          "metadata": {},
          "execution_count": 64
        }
      ]
    },
    {
      "cell_type": "markdown",
      "source": [
        "#Graph Neural Network"
      ],
      "metadata": {
        "id": "Tn5wUDzhry9g"
      }
    },
    {
      "cell_type": "markdown",
      "source": [
        "I know with a small dataset like this it is overkill to use Graph Neural Network but i would like to implement it to test my idea and it might be useful for something in the future"
      ],
      "metadata": {
        "id": "TncgGxjmsKjj"
      }
    },
    {
      "cell_type": "markdown",
      "source": [
        "###Set up"
      ],
      "metadata": {
        "id": "QyuZa7KluxZo"
      }
    },
    {
      "cell_type": "code",
      "source": [
        "import os\n",
        "import torch\n",
        "os.environ['TORCH'] = torch.__version__\n",
        "print(torch.__version__)\n",
        "\n",
        "!pip install -q torch-scatter -f https://data.pyg.org/whl/torch-${TORCH}.html\n",
        "!pip install -q torch-sparse -f https://data.pyg.org/whl/torch-${TORCH}.html\n",
        "!pip install torch-cluster -f https://data.pyg.org/whl/torch-1.12.0+cu113.html\n",
        "!pip install torch-spline-conv -f https://data.pyg.org/whl/torch-1.12.0+cu113.html\n",
        "!pip install torch-geometric\n",
        "\n",
        "import torch_geometric\n",
        "print(torch_geometric.__version__)\n",
        "device = torch.device('cuda' if torch.cuda.is_available() else 'cpu')"
      ],
      "metadata": {
        "colab": {
          "base_uri": "https://localhost:8080/"
        },
        "id": "rq6C9fMpt5wQ",
        "outputId": "ae82f9df-8a40-451b-e4bd-f93723e6c2de"
      },
      "execution_count": 65,
      "outputs": [
        {
          "output_type": "stream",
          "name": "stdout",
          "text": [
            "1.12.1+cu113\n",
            "\u001b[K     |████████████████████████████████| 7.9 MB 27.6 MB/s \n",
            "\u001b[K     |████████████████████████████████| 3.5 MB 33.4 MB/s \n",
            "\u001b[?25hLooking in indexes: https://pypi.org/simple, https://us-python.pkg.dev/colab-wheels/public/simple/\n",
            "Looking in links: https://data.pyg.org/whl/torch-1.12.0+cu113.html\n",
            "Collecting torch-cluster\n",
            "  Downloading https://data.pyg.org/whl/torch-1.12.0%2Bcu113/torch_cluster-1.6.0-cp37-cp37m-linux_x86_64.whl (2.4 MB)\n",
            "\u001b[K     |████████████████████████████████| 2.4 MB 22.6 MB/s \n",
            "\u001b[?25hInstalling collected packages: torch-cluster\n",
            "Successfully installed torch-cluster-1.6.0\n",
            "Looking in indexes: https://pypi.org/simple, https://us-python.pkg.dev/colab-wheels/public/simple/\n",
            "Looking in links: https://data.pyg.org/whl/torch-1.12.0+cu113.html\n",
            "Collecting torch-spline-conv\n",
            "  Downloading https://data.pyg.org/whl/torch-1.12.0%2Bcu113/torch_spline_conv-1.2.1-cp37-cp37m-linux_x86_64.whl (709 kB)\n",
            "\u001b[K     |████████████████████████████████| 709 kB 31.1 MB/s \n",
            "\u001b[?25hInstalling collected packages: torch-spline-conv\n",
            "Successfully installed torch-spline-conv-1.2.1\n",
            "Looking in indexes: https://pypi.org/simple, https://us-python.pkg.dev/colab-wheels/public/simple/\n",
            "Collecting torch-geometric\n",
            "  Downloading torch_geometric-2.1.0.post1.tar.gz (467 kB)\n",
            "\u001b[K     |████████████████████████████████| 467 kB 29.7 MB/s \n",
            "\u001b[?25hRequirement already satisfied: tqdm in /usr/local/lib/python3.7/dist-packages (from torch-geometric) (4.64.1)\n",
            "Requirement already satisfied: numpy in /usr/local/lib/python3.7/dist-packages (from torch-geometric) (1.21.6)\n",
            "Requirement already satisfied: scipy in /usr/local/lib/python3.7/dist-packages (from torch-geometric) (1.7.3)\n",
            "Requirement already satisfied: jinja2 in /usr/local/lib/python3.7/dist-packages (from torch-geometric) (2.11.3)\n",
            "Requirement already satisfied: requests in /usr/local/lib/python3.7/dist-packages (from torch-geometric) (2.23.0)\n",
            "Requirement already satisfied: pyparsing in /usr/local/lib/python3.7/dist-packages (from torch-geometric) (3.0.9)\n",
            "Requirement already satisfied: scikit-learn in /usr/local/lib/python3.7/dist-packages (from torch-geometric) (1.0.2)\n",
            "Requirement already satisfied: MarkupSafe>=0.23 in /usr/local/lib/python3.7/dist-packages (from jinja2->torch-geometric) (2.0.1)\n",
            "Requirement already satisfied: urllib3!=1.25.0,!=1.25.1,<1.26,>=1.21.1 in /usr/local/lib/python3.7/dist-packages (from requests->torch-geometric) (1.24.3)\n",
            "Requirement already satisfied: idna<3,>=2.5 in /usr/local/lib/python3.7/dist-packages (from requests->torch-geometric) (2.10)\n",
            "Requirement already satisfied: certifi>=2017.4.17 in /usr/local/lib/python3.7/dist-packages (from requests->torch-geometric) (2022.6.15)\n",
            "Requirement already satisfied: chardet<4,>=3.0.2 in /usr/local/lib/python3.7/dist-packages (from requests->torch-geometric) (3.0.4)\n",
            "Requirement already satisfied: joblib>=0.11 in /usr/local/lib/python3.7/dist-packages (from scikit-learn->torch-geometric) (1.1.0)\n",
            "Requirement already satisfied: threadpoolctl>=2.0.0 in /usr/local/lib/python3.7/dist-packages (from scikit-learn->torch-geometric) (3.1.0)\n",
            "Building wheels for collected packages: torch-geometric\n",
            "  Building wheel for torch-geometric (setup.py) ... \u001b[?25l\u001b[?25hdone\n",
            "  Created wheel for torch-geometric: filename=torch_geometric-2.1.0.post1-py3-none-any.whl size=689859 sha256=a887b476da5775d78e70f6a4b1cb20fb67824f9389643bb19440326325bc1db3\n",
            "  Stored in directory: /root/.cache/pip/wheels/d1/cb/43/f7f2e472de4d7cff31bceddadc36d634e1e545fbc17961c282\n",
            "Successfully built torch-geometric\n",
            "Installing collected packages: torch-geometric\n",
            "Successfully installed torch-geometric-2.1.0.post1\n",
            "2.1.0\n"
          ]
        }
      ]
    },
    {
      "cell_type": "code",
      "source": [
        "import torch\n",
        "import networkx as nx\n",
        "from torch_geometric.loader import DataLoader\n",
        "from torch_geometric.data import Data\n",
        "from torch_geometric.logging import init_wandb, log"
      ],
      "metadata": {
        "id": "9mTaMW6CuB5F"
      },
      "execution_count": 101,
      "outputs": []
    },
    {
      "cell_type": "markdown",
      "source": [
        "###Build Graph"
      ],
      "metadata": {
        "id": "mGtEYr7Au08i"
      }
    },
    {
      "cell_type": "code",
      "source": [
        "def to_pyg(x, edge_head, edge_tail, y):\n",
        "  data = Data(x = torch.tensor(x, dtype = torch.float),\n",
        "              edge_index = torch.tensor([edge_head, edge_tail], dtype = int),\n",
        "              y = torch.from_numpy(y))\n",
        "  data.num_classes = len(torch.unique(data.y, return_counts=True))\n",
        "  data.batch = 8\n",
        "  return data"
      ],
      "metadata": {
        "id": "_rKQg5XUrwIg"
      },
      "execution_count": 67,
      "outputs": []
    },
    {
      "cell_type": "code",
      "source": [
        "def graph_preparation(X_train, y_train, k):\n",
        "  #node is sample\n",
        "  #node feature consits of sample feature\n",
        "  #edge is distance of sample, if sample_i in the set of k samples nearest with sample_j then i-j is an edge\n",
        "  N = X_train.shape[0]\n",
        "  distance = np.full((N,N), np.inf)\n",
        "  #find distance matrix\n",
        "  for i in range(N):\n",
        "    for j in range(N):\n",
        "      if (i==j):\n",
        "        continue\n",
        "      distance[i,j] = np.linalg.norm(X_train[i] - X_train[j])\n",
        "\n",
        "  #find edge_head, edge_tail\n",
        "\n",
        "  node_feature, edge_head, edge_tail = [], [], []\n",
        "\n",
        "  for i in range(N):\n",
        "    K_Nearest_Neighbors = np.argsort(distance[i,:])[:k]\n",
        "    for neighbor in K_Nearest_Neighbors:\n",
        "      edge_head += (i, neighbor)\n",
        "      edge_tail += (neighbor, i) \n",
        "    #node features are the sample features\n",
        "    node_feature.append(X_train[i,:])\n",
        "  y_train = np.asarray(y_train, dtype=\"int\")\n",
        "\n",
        "  graph = to_pyg(node_feature, edge_head, edge_tail, y_train)\n",
        "  return graph\n"
      ],
      "metadata": {
        "id": "peDJg7Rrt2JK"
      },
      "execution_count": 89,
      "outputs": []
    },
    {
      "cell_type": "code",
      "source": [
        "train_graph = graph_preparation(X_train_scl, y_train, k=3).to(device)\n",
        "test_graph = graph_preparation(X_test_scl, y_test, k=3).to(device)"
      ],
      "metadata": {
        "id": "4cB4pOV7uOwY"
      },
      "execution_count": 93,
      "outputs": []
    },
    {
      "cell_type": "code",
      "source": [
        "def info_graph(graph):\n",
        "  # Gather some statistics about the graph.\n",
        "  print(f'Number of nodes: {graph.num_nodes}')\n",
        "  print(f'Number of nodes: {graph.num_features}')\n",
        "  print(f'Number of edges: {graph.num_edges}')\n",
        "  print(f'Number of classes: {graph.num_classes}')\n",
        "  print(f'Average node degree: {graph.num_edges / graph.num_nodes:.2f}')\n",
        "  print(f'Has isolated nodes: {graph.has_isolated_nodes()}')\n",
        "  print(f'Has self-loops: {graph.has_self_loops()}')\n",
        "  print(f'Is undirected: {graph.is_undirected()}')\n",
        "  \n",
        "\n",
        "  g = torch_geometric.utils.to_networkx(graph, to_undirected=True)\n",
        "  \n",
        "  pos = nx.spring_layout(g)\n",
        "  nx.draw(g, pos, node_size=100)"
      ],
      "metadata": {
        "id": "hv-xFJnUuYnY"
      },
      "execution_count": 134,
      "outputs": []
    },
    {
      "cell_type": "code",
      "source": [
        "info_graph(train_graph)"
      ],
      "metadata": {
        "colab": {
          "base_uri": "https://localhost:8080/",
          "height": 458
        },
        "id": "SKy9108dua_u",
        "outputId": "b4b3062a-4a71-4e12-8553-39abd7eab6cd"
      },
      "execution_count": 135,
      "outputs": [
        {
          "output_type": "stream",
          "name": "stdout",
          "text": [
            "Number of nodes: 38\n",
            "Number of nodes: 7129\n",
            "Number of edges: 228\n",
            "Number of classes: 2\n",
            "Average node degree: 6.00\n",
            "Has isolated nodes: False\n",
            "Has self-loops: False\n",
            "Is undirected: True\n"
          ]
        },
        {
          "output_type": "display_data",
          "data": {
            "text/plain": [
              "<Figure size 432x288 with 1 Axes>"
            ],
            "image/png": "[encoded data removed]"
          },
          "metadata": {}
        }
      ]
    },
    {
      "cell_type": "code",
      "source": [
        "info_graph(test_graph)"
      ],
      "metadata": {
        "colab": {
          "base_uri": "https://localhost:8080/",
          "height": 458
        },
        "id": "ZO2KnwtRudRS",
        "outputId": "e944a878-a74f-4835-8256-980620562b31"
      },
      "execution_count": 136,
      "outputs": [
        {
          "output_type": "stream",
          "name": "stdout",
          "text": [
            "Number of nodes: 34\n",
            "Number of nodes: 7129\n",
            "Number of edges: 204\n",
            "Number of classes: 2\n",
            "Average node degree: 6.00\n",
            "Has isolated nodes: False\n",
            "Has self-loops: False\n",
            "Is undirected: True\n"
          ]
        },
        {
          "output_type": "display_data",
          "data": {
            "text/plain": [
              "<Figure size 432x288 with 1 Axes>"
            ],
            "image/png": "[encoded data removed]"
          },
          "metadata": {}
        }
      ]
    },
    {
      "cell_type": "markdown",
      "source": [
        "###Construct Model"
      ],
      "metadata": {
        "id": "nc6UgAcZu3eZ"
      }
    },
    {
      "cell_type": "code",
      "source": [
        "import torch\n",
        "from torch.nn import Linear\n",
        "import torch.nn.functional as F\n",
        "from torch_geometric.nn import GCNConv\n",
        "\n",
        "class GCN(torch.nn.Module):\n",
        "    def __init__(self, in_channels, hidden_channels, out_channels):\n",
        "        super().__init__()\n",
        "        torch.manual_seed(1234567)\n",
        "        self.conv1 = GCNConv(int(in_channels), int(hidden_channels))\n",
        "        self.conv2 = GCNConv(int(hidden_channels), int(out_channels))\n",
        "\n",
        "    def forward(self, x, edge_index):\n",
        "        x = self.conv1(x, edge_index)\n",
        "        x = x.relu()\n",
        "        #x = F.dropout(x, p=0.5, training=self.training)\n",
        "        x = self.conv2(x, edge_index)\n",
        "        return x\n",
        "\n",
        "model = GCN(in_channels = train_graph.num_features, hidden_channels = 16, out_channels=train_graph.num_classes)\n",
        "print(model)"
      ],
      "metadata": {
        "colab": {
          "base_uri": "https://localhost:8080/"
        },
        "id": "JmZ6s6f0ufvj",
        "outputId": "1ce97bcb-4d43-4838-8cb3-f05941c723ea"
      },
      "execution_count": 73,
      "outputs": [
        {
          "output_type": "stream",
          "name": "stdout",
          "text": [
            "GCN(\n",
            "  (conv1): GCNConv(7129, 16)\n",
            "  (conv2): GCNConv(16, 2)\n",
            ")\n"
          ]
        }
      ]
    },
    {
      "cell_type": "markdown",
      "source": [
        "###Training and Testing"
      ],
      "metadata": {
        "id": "ASs252XVu77K"
      }
    },
    {
      "cell_type": "code",
      "source": [
        "from IPython.display import Javascript  # Restrict height of output cell.\n",
        "display(Javascript('''google.colab.output.setIframeHeight(0, true, {maxHeight: 300})'''))\n",
        "\n",
        "model = GCN(in_channels = train_graph.num_features, hidden_channels = 16, out_channels=train_graph.num_classes).to(device)\n",
        "optimizer = torch.optim.Adam(model.parameters(), lr=0.01, weight_decay=5e-4)\n",
        "criterion = torch.nn.CrossEntropyLoss()\n",
        "data = train_graph.to(device)\n",
        "\n",
        "\n",
        "def train():\n",
        "  model.train()\n",
        "  total_loss = 0\n",
        "  optimizer.zero_grad()\n",
        "  out = model(data.x, data.edge_index)\n",
        "  loss = F.cross_entropy(out, data.y)\n",
        "  loss.backward()\n",
        "  optimizer.step()\n",
        "  total_loss += float(loss)/data.num_nodes\n",
        "  return total_loss\n",
        "\n",
        "@torch.no_grad()\n",
        "def test(loader):\n",
        "  model.eval()\n",
        "\n",
        "  total_correct = 0\n",
        "  pred = model(data.x, data.edge_index).argmax(dim=-1)\n",
        "  total_correct += int((pred == data.y).sum())/data.num_nodes\n",
        "  return total_correct \n",
        "\n",
        "\n",
        "for epoch in range(1, 50):\n",
        "  loss = train()\n",
        "  train_acc = test(train_graph)\n",
        "  test_acc = test(test_graph)\n",
        "  log(Epoch=epoch, Loss=loss, Train=train_acc, Test=test_acc)"
      ],
      "metadata": {
        "colab": {
          "base_uri": "https://localhost:8080/",
          "height": 300
        },
        "id": "lHjUDeR7uhz0",
        "outputId": "747501c4-3790-4db4-8f9b-789525161539"
      },
      "execution_count": 74,
      "outputs": [
        {
          "output_type": "display_data",
          "data": {
            "text/plain": [
              "<IPython.core.display.Javascript object>"
            ],
            "application/javascript": [
              "google.colab.output.setIframeHeight(0, true, {maxHeight: 300})"
            ]
          },
          "metadata": {}
        },
        {
          "output_type": "stream",
          "name": "stdout",
          "text": [
            "Epoch: 001, Loss: 0.0180, Train: 1.0000, Test: 1.0000\n",
            "Epoch: 002, Loss: 0.0000, Train: 1.0000, Test: 1.0000\n",
            "Epoch: 003, Loss: 0.0000, Train: 1.0000, Test: 1.0000\n",
            "Epoch: 004, Loss: 0.0000, Train: 1.0000, Test: 1.0000\n",
            "Epoch: 005, Loss: 0.0000, Train: 1.0000, Test: 1.0000\n",
            "Epoch: 006, Loss: 0.0000, Train: 1.0000, Test: 1.0000\n",
            "Epoch: 007, Loss: 0.0000, Train: 1.0000, Test: 1.0000\n",
            "Epoch: 008, Loss: 0.0000, Train: 1.0000, Test: 1.0000\n",
            "Epoch: 009, Loss: 0.0000, Train: 1.0000, Test: 1.0000\n",
            "Epoch: 010, Loss: 0.0000, Train: 1.0000, Test: 1.0000\n",
            "Epoch: 011, Loss: 0.0000, Train: 1.0000, Test: 1.0000\n",
            "Epoch: 012, Loss: 0.0000, Train: 1.0000, Test: 1.0000\n",
            "Epoch: 013, Loss: 0.0000, Train: 1.0000, Test: 1.0000\n",
            "Epoch: 014, Loss: 0.0000, Train: 1.0000, Test: 1.0000\n",
            "Epoch: 015, Loss: 0.0000, Train: 1.0000, Test: 1.0000\n",
            "Epoch: 016, Loss: 0.0000, Train: 1.0000, Test: 1.0000\n",
            "Epoch: 017, Loss: 0.0000, Train: 1.0000, Test: 1.0000\n",
            "Epoch: 018, Loss: 0.0000, Train: 1.0000, Test: 1.0000\n",
            "Epoch: 019, Loss: 0.0000, Train: 1.0000, Test: 1.0000\n",
            "Epoch: 020, Loss: 0.0000, Train: 1.0000, Test: 1.0000\n",
            "Epoch: 021, Loss: 0.0000, Train: 1.0000, Test: 1.0000\n",
            "Epoch: 022, Loss: 0.0000, Train: 1.0000, Test: 1.0000\n",
            "Epoch: 023, Loss: 0.0000, Train: 1.0000, Test: 1.0000\n",
            "Epoch: 024, Loss: 0.0000, Train: 1.0000, Test: 1.0000\n",
            "Epoch: 025, Loss: 0.0000, Train: 1.0000, Test: 1.0000\n",
            "Epoch: 026, Loss: 0.0000, Train: 1.0000, Test: 1.0000\n",
            "Epoch: 027, Loss: 0.0000, Train: 1.0000, Test: 1.0000\n",
            "Epoch: 028, Loss: 0.0000, Train: 1.0000, Test: 1.0000\n",
            "Epoch: 029, Loss: 0.0000, Train: 1.0000, Test: 1.0000\n",
            "Epoch: 030, Loss: 0.0000, Train: 1.0000, Test: 1.0000\n",
            "Epoch: 031, Loss: 0.0000, Train: 1.0000, Test: 1.0000\n",
            "Epoch: 032, Loss: 0.0000, Train: 1.0000, Test: 1.0000\n",
            "Epoch: 033, Loss: 0.0000, Train: 1.0000, Test: 1.0000\n",
            "Epoch: 034, Loss: 0.0000, Train: 1.0000, Test: 1.0000\n",
            "Epoch: 035, Loss: 0.0000, Train: 1.0000, Test: 1.0000\n",
            "Epoch: 036, Loss: 0.0000, Train: 1.0000, Test: 1.0000\n",
            "Epoch: 037, Loss: 0.0000, Train: 1.0000, Test: 1.0000\n",
            "Epoch: 038, Loss: 0.0000, Train: 1.0000, Test: 1.0000\n",
            "Epoch: 039, Loss: 0.0000, Train: 1.0000, Test: 1.0000\n",
            "Epoch: 040, Loss: 0.0000, Train: 1.0000, Test: 1.0000\n",
            "Epoch: 041, Loss: 0.0000, Train: 1.0000, Test: 1.0000\n",
            "Epoch: 042, Loss: 0.0000, Train: 1.0000, Test: 1.0000\n",
            "Epoch: 043, Loss: 0.0000, Train: 1.0000, Test: 1.0000\n",
            "Epoch: 044, Loss: 0.0000, Train: 1.0000, Test: 1.0000\n",
            "Epoch: 045, Loss: 0.0000, Train: 1.0000, Test: 1.0000\n",
            "Epoch: 046, Loss: 0.0000, Train: 1.0000, Test: 1.0000\n",
            "Epoch: 047, Loss: 0.0000, Train: 1.0000, Test: 1.0000\n",
            "Epoch: 048, Loss: 0.0000, Train: 1.0000, Test: 1.0000\n",
            "Epoch: 049, Loss: 0.0000, Train: 1.0000, Test: 1.0000\n"
          ]
        }
      ]
    },
    {
      "cell_type": "markdown",
      "source": [
        "##Visualize Results"
      ],
      "metadata": {
        "id": "_-M6SrCKjoWO"
      }
    },
    {
      "cell_type": "code",
      "source": [
        "names = ['SVM',\n",
        "         'SVM_PCA', \n",
        "         'Random_Forest', \n",
        "         'Gradient_Boosting_Classifier', \n",
        "         'Gradient_Boosting_Classifier_PCA', \n",
        "         'XGBoost',\n",
        "         'XGBoost_PCA'\n",
        "        ]"
      ],
      "metadata": {
        "id": "CPm5pN5yjvVE"
      },
      "execution_count": 75,
      "outputs": []
    },
    {
      "cell_type": "code",
      "execution_count": 76,
      "metadata": {
        "id": "qfxLyIrIA4Qw",
        "colab": {
          "base_uri": "https://localhost:8080/",
          "height": 458
        },
        "outputId": "558d03a4-0173-4907-bc68-69c8f9e855f3"
      },
      "outputs": [
        {
          "output_type": "display_data",
          "data": {
            "text/plain": [
              "<Figure size 1080x504 with 2 Axes>"
            ],
            "image/png": "[encoded data removed]"
          },
          "metadata": {
            "needs_background": "light"
          }
        }
      ],
      "source": [
        "fig, (roc,pr) = plt.subplots(nrows=1, ncols=2, sharex=True, figsize=(15, 7))\n",
        "\n",
        "#ROC\n",
        "for clf in ROC_results.keys():\n",
        "    roc.plot(ROC_results[clf][0], ROC_results[clf][1], label=f'{clf} (ROCAUC = {round(ROC_results[clf][2],3)})');\n",
        "\n",
        "roc.set_xlabel('False Positive Rate')\n",
        "roc.set_ylabel('True Positive Rate')\n",
        "roc.set_title('ROC curve')\n",
        "roc.legend();\n",
        "\n",
        "#PR\n",
        "for clf in PR_results.keys():\n",
        "    pr.plot(PR_results[clf][1], PR_results[clf][0], label=f'{clf} (AUC = {round(PR_results[clf][2],3)})')\n",
        "\n",
        "pr.set_xlabel('Recall')\n",
        "pr.set_ylabel('Precision')\n",
        "pr.set_title('PR curve')\n",
        "pr.legend();\n"
      ]
    }
  ],
  "metadata": {
    "colab": {
      "toc_visible": true,
      "provenance": [],
      "collapsed_sections": []
    },
    "kernelspec": {
      "display_name": "Python 3",
      "name": "python3"
    },
    "language_info": {
      "name": "python"
    },
    "accelerator": "GPU"
  },
  "nbformat": 4,
  "nbformat_minor": 0
}